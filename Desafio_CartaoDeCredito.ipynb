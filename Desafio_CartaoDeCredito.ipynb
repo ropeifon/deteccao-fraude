{
  "cells": [
    {
      "cell_type": "code",
      "source": [
        "pip install category_encoders"
      ],
      "metadata": {
        "id": "WaNYCDNbMCUI"
      },
      "execution_count": null,
      "outputs": []
    },
    {
      "cell_type": "code",
      "source": [
        "pip install optuna"
      ],
      "metadata": {
        "colab": {
          "base_uri": "https://localhost:8080/"
        },
        "id": "S3acRlDiPe29",
        "outputId": "d5a6c157-873e-45e4-8d8b-d6dd0efe9d8a"
      },
      "execution_count": null,
      "outputs": [
        {
          "output_type": "stream",
          "name": "stdout",
          "text": [
            "Collecting optuna\n",
            "  Downloading optuna-3.6.0-py3-none-any.whl (379 kB)\n",
            "\u001b[2K     \u001b[90m━━━━━━━━━━━━━━━━━━━━━━━━━━━━━━━━━━━━━━━━\u001b[0m \u001b[32m379.9/379.9 kB\u001b[0m \u001b[31m4.2 MB/s\u001b[0m eta \u001b[36m0:00:00\u001b[0m\n",
            "\u001b[?25hCollecting alembic>=1.5.0 (from optuna)\n",
            "  Downloading alembic-1.13.1-py3-none-any.whl (233 kB)\n",
            "\u001b[2K     \u001b[90m━━━━━━━━━━━━━━━━━━━━━━━━━━━━━━━━━━━━━━━━\u001b[0m \u001b[32m233.4/233.4 kB\u001b[0m \u001b[31m5.9 MB/s\u001b[0m eta \u001b[36m0:00:00\u001b[0m\n",
            "\u001b[?25hCollecting colorlog (from optuna)\n",
            "  Downloading colorlog-6.8.2-py3-none-any.whl (11 kB)\n",
            "Requirement already satisfied: numpy in /usr/local/lib/python3.10/dist-packages (from optuna) (1.25.2)\n",
            "Requirement already satisfied: packaging>=20.0 in /usr/local/lib/python3.10/dist-packages (from optuna) (24.0)\n",
            "Requirement already satisfied: sqlalchemy>=1.3.0 in /usr/local/lib/python3.10/dist-packages (from optuna) (2.0.28)\n",
            "Requirement already satisfied: tqdm in /usr/local/lib/python3.10/dist-packages (from optuna) (4.66.2)\n",
            "Requirement already satisfied: PyYAML in /usr/local/lib/python3.10/dist-packages (from optuna) (6.0.1)\n",
            "Collecting Mako (from alembic>=1.5.0->optuna)\n",
            "  Downloading Mako-1.3.2-py3-none-any.whl (78 kB)\n",
            "\u001b[2K     \u001b[90m━━━━━━━━━━━━━━━━━━━━━━━━━━━━━━━━━━━━━━━━\u001b[0m \u001b[32m78.7/78.7 kB\u001b[0m \u001b[31m6.6 MB/s\u001b[0m eta \u001b[36m0:00:00\u001b[0m\n",
            "\u001b[?25hRequirement already satisfied: typing-extensions>=4 in /usr/local/lib/python3.10/dist-packages (from alembic>=1.5.0->optuna) (4.10.0)\n",
            "Requirement already satisfied: greenlet!=0.4.17 in /usr/local/lib/python3.10/dist-packages (from sqlalchemy>=1.3.0->optuna) (3.0.3)\n",
            "Requirement already satisfied: MarkupSafe>=0.9.2 in /usr/local/lib/python3.10/dist-packages (from Mako->alembic>=1.5.0->optuna) (2.1.5)\n",
            "Installing collected packages: Mako, colorlog, alembic, optuna\n",
            "Successfully installed Mako-1.3.2 alembic-1.13.1 colorlog-6.8.2 optuna-3.6.0\n"
          ]
        }
      ]
    },
    {
      "cell_type": "markdown",
      "metadata": {
        "id": "5j5mEqSLTkMm"
      },
      "source": [
        "# Problema"
      ]
    },
    {
      "cell_type": "markdown",
      "source": [
        " Fomos contratados por um dos maiores bancos do país, o Banco Seguro, como cientista de dados para ajudar a combater o aumento alarmante de fraudes em transações de cartão de crédito. Em uma reunião inicial com a equipe de segurança e prevenção de fraudes do banco, ficou claro que a situação atual está se tornando insustentável, com perdas financeiras significativas e uma crescente desconfiança por parte dos clientes."
      ],
      "metadata": {
        "id": "1XlMmuNVyCvh"
      }
    },
    {
      "cell_type": "markdown",
      "metadata": {
        "id": "z38ifTwbTn_C"
      },
      "source": [
        "# Objetivo"
      ]
    },
    {
      "cell_type": "markdown",
      "source": [
        "O objetivo é **analisar os dados e identificar padrões nas transações suspeitas** e  **desenvolver um sistema de detecção de fraudes** altamente eficaz que possa identificar transações suspeitas em tempo real. Isso requer a análise de grandes volumes de dados de transações de cartão de crédito em busca de padrões incomuns ou atividades fraudulentas.\n",
        "\n"
      ],
      "metadata": {
        "id": "Swlw_nftzWQZ"
      }
    },
    {
      "cell_type": "markdown",
      "source": [
        "# Dicionário dos dados"
      ],
      "metadata": {
        "id": "b_F17R7H1sTp"
      }
    },
    {
      "cell_type": "markdown",
      "metadata": {
        "id": "hVD8NfbYTSmo"
      },
      "source": [
        "- **index:** Identificador único para cada linha.\n",
        "- **trans_date_trans_time:** Data e hora da transação.\n",
        "- **cc_num:** Número do cartão de crédito do cliente.\n",
        "- **merchant:** Nome do comerciante.\n",
        "- **category:** Categoria do comerciante.\n",
        "- **amt:** Valor da transação.\n",
        "- **first:** Primeiro nome do titular do cartão de crédito.\n",
        "- **last:** Sobrenome do titular do cartão de crédito.\n",
        "- **gender:** Gênero do titular do cartão de crédito.\n",
        "- **street:** Endereço residencial do titular do cartão de crédito.\n",
        "- **city:** Cidade do titular do cartão de crédito.\n",
        "- **state:** Estado do titular do cartão de crédito.\n",
        "- **zip:** CEP do titular do cartão de crédito.\n",
        "- **lat:** Localização de latitude do titular do cartão de crédito.\n",
        "- **long:** Localização de longitude do titular do cartão de crédito.\n",
        "- **city_pop:** População da cidade do titular do cartão de crédito.\n",
        "- **job:** Profissão do titular do cartão de crédito.\n",
        "- **dob:** Data de nascimento do titular do cartão de crédito.\n",
        "- **trans_num:** Número da transação.\n",
        "- **unix_time:** Horário UNIX da transação.\n",
        "- **merch_lat:** Localização de latitude do comerciante.\n",
        "- **merch_long:** Localização de longitude do comerciante.\n",
        "- **is_fraud:** Indicador de fraude <--- Classe Alvo.\n"
      ]
    },
    {
      "cell_type": "markdown",
      "metadata": {
        "id": "3IUaLMLLTpnF"
      },
      "source": [
        "# Importando as bibliotecas necessárias"
      ]
    },
    {
      "cell_type": "code",
      "execution_count": null,
      "metadata": {
        "id": "g1nDEHsANvXp"
      },
      "outputs": [],
      "source": [
        "import pandas as pd # Biblioteca utilizado para manipulação e análise de dados\n",
        "import seaborn as sns # Biblioteca utilizada para visualização de dados\n",
        "import matplotlib.pyplot as plt # Biblioteca utilizada para visualização de dados\n",
        "import plotly.express as px # Biblioteca utilizada para visualização de dados\n",
        "from scipy.stats import ttest_ind # Biblioteca utilizada para testes de hipótese\n",
        "import holidays # Biblioteca suporte para auxiliar na busca por padrões\n",
        "from datetime import datetime # Biblioteca para trabalhar com o tempo.\n",
        "\n",
        "# Bibliotecas para auxiliar no processo de criação do algoritmo de machine learning\n",
        "from sklearn.preprocessing import StandardScaler\n",
        "from category_encoders import CatBoostEncoder\n",
        "from sklearn.pipeline import Pipeline\n",
        "from sklearn.compose import ColumnTransformer\n",
        "from sklearn.model_selection import train_test_split\n",
        "from sklearn.metrics import classification_report\n",
        "from sklearn.metrics import confusion_matrix\n",
        "from sklearn.metrics import ConfusionMatrixDisplay\n",
        "from sklearn.metrics import roc_curve, roc_auc_score\n",
        "from sklearn.metrics import recall_score\n",
        "from sklearn.base import BaseEstimator\n",
        "from sklearn.base import TransformerMixin\n",
        "import optuna\n",
        "\n",
        "# Biblioteca para criar novos dados sinteticos e assim balancear nosso modelo\n",
        "from imblearn.over_sampling import SMOTE\n",
        "\n",
        "# Modelos utilizados\n",
        "from sklearn.linear_model import LogisticRegression\n",
        "from sklearn.tree import DecisionTreeClassifier\n",
        "from sklearn.ensemble import RandomForestClassifier\n",
        "from xgboost import XGBClassifier\n",
        "import lightgbm as lgb\n",
        "\n",
        "# Modelo de redes neurais\n",
        "import tensorflow as tf\n",
        "from tensorflow.keras.models import Sequential\n",
        "from tensorflow.keras.layers import Dense, Dropout\n",
        "from tensorflow.keras.metrics import Recall\n",
        "from tensorflow.keras.optimizers import Adam"
      ]
    },
    {
      "cell_type": "code",
      "execution_count": null,
      "metadata": {
        "id": "i28_UxT5NwGx"
      },
      "outputs": [],
      "source": [
        "treino = pd.read_csv('/content/treino.csv', sep = '|') # Lendo os dados de treino"
      ]
    },
    {
      "cell_type": "code",
      "execution_count": null,
      "metadata": {
        "colab": {
          "base_uri": "https://localhost:8080/"
        },
        "id": "Og5L6MQUPpG0",
        "outputId": "8c1cefe3-c662-408f-ec41-b64fe5b59e2b"
      },
      "outputs": [
        {
          "output_type": "stream",
          "name": "stdout",
          "text": [
            "<class 'pandas.core.frame.DataFrame'>\n",
            "RangeIndex: 144352 entries, 0 to 144351\n",
            "Data columns (total 26 columns):\n",
            " #   Column      Non-Null Count   Dtype  \n",
            "---  ------      --------------   -----  \n",
            " 0   ssn         144352 non-null  object \n",
            " 1   cc_num      144352 non-null  int64  \n",
            " 2   first       144352 non-null  object \n",
            " 3   last        144352 non-null  object \n",
            " 4   gender      144352 non-null  object \n",
            " 5   street      144352 non-null  object \n",
            " 6   city        144352 non-null  object \n",
            " 7   state       144352 non-null  object \n",
            " 8   zip         1468 non-null    float64\n",
            " 9   lat         144352 non-null  float64\n",
            " 10  long        144352 non-null  float64\n",
            " 11  city_pop    144352 non-null  int64  \n",
            " 12  job         144352 non-null  object \n",
            " 13  dob         144352 non-null  object \n",
            " 14  acct_num    144352 non-null  int64  \n",
            " 15  profile     144352 non-null  object \n",
            " 16  trans_num   144194 non-null  object \n",
            " 17  trans_date  144194 non-null  object \n",
            " 18  trans_time  144194 non-null  object \n",
            " 19  unix_time   144194 non-null  float64\n",
            " 20  category    144194 non-null  object \n",
            " 21  amt         144194 non-null  float64\n",
            " 22  is_fraud    144194 non-null  float64\n",
            " 23  merchant    144194 non-null  object \n",
            " 24  merch_lat   1468 non-null    float64\n",
            " 25  merch_long  1468 non-null    float64\n",
            "dtypes: float64(8), int64(3), object(15)\n",
            "memory usage: 28.6+ MB\n"
          ]
        }
      ],
      "source": [
        "treino.info() # Verificando algumas informações como quantidade de variáveis, nome das variáveis, valores não nulos e os tipos das variáveis."
      ]
    },
    {
      "cell_type": "code",
      "execution_count": null,
      "metadata": {
        "colab": {
          "base_uri": "https://localhost:8080/"
        },
        "id": "ZtdtQIKYdlWC",
        "outputId": "17738f3c-0f55-44d8-92d3-bd8503e88e03"
      },
      "outputs": [
        {
          "output_type": "execute_result",
          "data": {
            "text/plain": [
              "False"
            ]
          },
          "metadata": {},
          "execution_count": 75
        }
      ],
      "source": [
        "treino.duplicated().any() # Verificando se há algum valor duplicado"
      ]
    },
    {
      "cell_type": "code",
      "execution_count": null,
      "metadata": {
        "id": "lqHUaqroek54"
      },
      "outputs": [],
      "source": [
        "# Criando uma nova coluna, uninndo trans_date e trans_time\n",
        "treino['trans_date_time'] = treino['trans_date'] + ' ' + treino['trans_time']\n",
        "\n",
        "# Convertendo a nova coluna 'trans_date_time' para o tipo datetime, para que possamos trabalhar utilizando as funções próprias.\n",
        "treino['trans_date_time'] = pd.to_datetime(treino['trans_date_time'])"
      ]
    },
    {
      "cell_type": "markdown",
      "metadata": {
        "id": "JGRAvHZMW6se"
      },
      "source": [
        "# Análise Exploratória dos Dados"
      ]
    },
    {
      "cell_type": "code",
      "execution_count": null,
      "metadata": {
        "colab": {
          "base_uri": "https://localhost:8080/",
          "height": 320
        },
        "id": "Gjc_RRZrtRMV",
        "outputId": "fe4be632-e369-458f-8d2d-2ffdbba14c32"
      },
      "outputs": [
        {
          "output_type": "execute_result",
          "data": {
            "text/plain": [
              "             cc_num      zip            lat           long      city_pop  \\\n",
              "count  1.443520e+05   1468.0  144352.000000  144352.000000  1.443520e+05   \n",
              "mean   3.197982e+17  37381.0      38.162887     -93.261452  3.086245e+05   \n",
              "std    1.143455e+18      0.0       5.578041      16.744428  5.402505e+05   \n",
              "min    6.045493e+10  37381.0      25.670000    -149.780000  4.110000e+02   \n",
              "25%    2.131795e+14  37381.0      34.050000    -105.090000  1.785200e+04   \n",
              "50%    3.533484e+15  37381.0      39.170000     -87.990000  6.386800e+04   \n",
              "75%    4.506150e+15  37381.0      41.720000     -80.300000  3.051680e+05   \n",
              "max    4.997335e+18  37381.0      61.110000     -70.230000  2.906700e+06   \n",
              "\n",
              "           acct_num     unix_time            amt       is_fraud    merch_lat  \\\n",
              "count  1.443520e+05  1.441940e+05  144194.000000  144194.000000  1468.000000   \n",
              "mean   5.223071e+11  1.694039e+09      71.342269       0.010597    35.690681   \n",
              "std    2.890281e+11  8.781565e+06     171.865793       0.102394     0.585676   \n",
              "min    6.592063e+09  1.678244e+09       1.000000       0.000000    34.690000   \n",
              "25%    2.634739e+11  1.686640e+09       8.840000       0.000000    35.180000   \n",
              "50%    5.501571e+11  1.693771e+09      42.760000       0.000000    35.690000   \n",
              "75%    7.751697e+11  1.702053e+09      79.950000       0.000000    36.200000   \n",
              "max    9.993899e+11  1.709953e+09   16879.600000       1.000000    36.690000   \n",
              "\n",
              "        merch_long  \n",
              "count  1468.000000  \n",
              "mean    -84.814748  \n",
              "std       0.580428  \n",
              "min     -85.820000  \n",
              "25%     -85.320000  \n",
              "50%     -84.820000  \n",
              "75%     -84.310000  \n",
              "max     -83.820000  "
            ],
            "text/html": [
              "\n",
              "  <div id=\"df-096f6a85-a5a3-4259-bd2f-c7112206fdeb\" class=\"colab-df-container\">\n",
              "    <div>\n",
              "<style scoped>\n",
              "    .dataframe tbody tr th:only-of-type {\n",
              "        vertical-align: middle;\n",
              "    }\n",
              "\n",
              "    .dataframe tbody tr th {\n",
              "        vertical-align: top;\n",
              "    }\n",
              "\n",
              "    .dataframe thead th {\n",
              "        text-align: right;\n",
              "    }\n",
              "</style>\n",
              "<table border=\"1\" class=\"dataframe\">\n",
              "  <thead>\n",
              "    <tr style=\"text-align: right;\">\n",
              "      <th></th>\n",
              "      <th>cc_num</th>\n",
              "      <th>zip</th>\n",
              "      <th>lat</th>\n",
              "      <th>long</th>\n",
              "      <th>city_pop</th>\n",
              "      <th>acct_num</th>\n",
              "      <th>unix_time</th>\n",
              "      <th>amt</th>\n",
              "      <th>is_fraud</th>\n",
              "      <th>merch_lat</th>\n",
              "      <th>merch_long</th>\n",
              "    </tr>\n",
              "  </thead>\n",
              "  <tbody>\n",
              "    <tr>\n",
              "      <th>count</th>\n",
              "      <td>1.443520e+05</td>\n",
              "      <td>1468.0</td>\n",
              "      <td>144352.000000</td>\n",
              "      <td>144352.000000</td>\n",
              "      <td>1.443520e+05</td>\n",
              "      <td>1.443520e+05</td>\n",
              "      <td>1.441940e+05</td>\n",
              "      <td>144194.000000</td>\n",
              "      <td>144194.000000</td>\n",
              "      <td>1468.000000</td>\n",
              "      <td>1468.000000</td>\n",
              "    </tr>\n",
              "    <tr>\n",
              "      <th>mean</th>\n",
              "      <td>3.197982e+17</td>\n",
              "      <td>37381.0</td>\n",
              "      <td>38.162887</td>\n",
              "      <td>-93.261452</td>\n",
              "      <td>3.086245e+05</td>\n",
              "      <td>5.223071e+11</td>\n",
              "      <td>1.694039e+09</td>\n",
              "      <td>71.342269</td>\n",
              "      <td>0.010597</td>\n",
              "      <td>35.690681</td>\n",
              "      <td>-84.814748</td>\n",
              "    </tr>\n",
              "    <tr>\n",
              "      <th>std</th>\n",
              "      <td>1.143455e+18</td>\n",
              "      <td>0.0</td>\n",
              "      <td>5.578041</td>\n",
              "      <td>16.744428</td>\n",
              "      <td>5.402505e+05</td>\n",
              "      <td>2.890281e+11</td>\n",
              "      <td>8.781565e+06</td>\n",
              "      <td>171.865793</td>\n",
              "      <td>0.102394</td>\n",
              "      <td>0.585676</td>\n",
              "      <td>0.580428</td>\n",
              "    </tr>\n",
              "    <tr>\n",
              "      <th>min</th>\n",
              "      <td>6.045493e+10</td>\n",
              "      <td>37381.0</td>\n",
              "      <td>25.670000</td>\n",
              "      <td>-149.780000</td>\n",
              "      <td>4.110000e+02</td>\n",
              "      <td>6.592063e+09</td>\n",
              "      <td>1.678244e+09</td>\n",
              "      <td>1.000000</td>\n",
              "      <td>0.000000</td>\n",
              "      <td>34.690000</td>\n",
              "      <td>-85.820000</td>\n",
              "    </tr>\n",
              "    <tr>\n",
              "      <th>25%</th>\n",
              "      <td>2.131795e+14</td>\n",
              "      <td>37381.0</td>\n",
              "      <td>34.050000</td>\n",
              "      <td>-105.090000</td>\n",
              "      <td>1.785200e+04</td>\n",
              "      <td>2.634739e+11</td>\n",
              "      <td>1.686640e+09</td>\n",
              "      <td>8.840000</td>\n",
              "      <td>0.000000</td>\n",
              "      <td>35.180000</td>\n",
              "      <td>-85.320000</td>\n",
              "    </tr>\n",
              "    <tr>\n",
              "      <th>50%</th>\n",
              "      <td>3.533484e+15</td>\n",
              "      <td>37381.0</td>\n",
              "      <td>39.170000</td>\n",
              "      <td>-87.990000</td>\n",
              "      <td>6.386800e+04</td>\n",
              "      <td>5.501571e+11</td>\n",
              "      <td>1.693771e+09</td>\n",
              "      <td>42.760000</td>\n",
              "      <td>0.000000</td>\n",
              "      <td>35.690000</td>\n",
              "      <td>-84.820000</td>\n",
              "    </tr>\n",
              "    <tr>\n",
              "      <th>75%</th>\n",
              "      <td>4.506150e+15</td>\n",
              "      <td>37381.0</td>\n",
              "      <td>41.720000</td>\n",
              "      <td>-80.300000</td>\n",
              "      <td>3.051680e+05</td>\n",
              "      <td>7.751697e+11</td>\n",
              "      <td>1.702053e+09</td>\n",
              "      <td>79.950000</td>\n",
              "      <td>0.000000</td>\n",
              "      <td>36.200000</td>\n",
              "      <td>-84.310000</td>\n",
              "    </tr>\n",
              "    <tr>\n",
              "      <th>max</th>\n",
              "      <td>4.997335e+18</td>\n",
              "      <td>37381.0</td>\n",
              "      <td>61.110000</td>\n",
              "      <td>-70.230000</td>\n",
              "      <td>2.906700e+06</td>\n",
              "      <td>9.993899e+11</td>\n",
              "      <td>1.709953e+09</td>\n",
              "      <td>16879.600000</td>\n",
              "      <td>1.000000</td>\n",
              "      <td>36.690000</td>\n",
              "      <td>-83.820000</td>\n",
              "    </tr>\n",
              "  </tbody>\n",
              "</table>\n",
              "</div>\n",
              "    <div class=\"colab-df-buttons\">\n",
              "\n",
              "  <div class=\"colab-df-container\">\n",
              "    <button class=\"colab-df-convert\" onclick=\"convertToInteractive('df-096f6a85-a5a3-4259-bd2f-c7112206fdeb')\"\n",
              "            title=\"Convert this dataframe to an interactive table.\"\n",
              "            style=\"display:none;\">\n",
              "\n",
              "  <svg xmlns=\"http://www.w3.org/2000/svg\" height=\"24px\" viewBox=\"0 -960 960 960\">\n",
              "    <path d=\"M120-120v-720h720v720H120Zm60-500h600v-160H180v160Zm220 220h160v-160H400v160Zm0 220h160v-160H400v160ZM180-400h160v-160H180v160Zm440 0h160v-160H620v160ZM180-180h160v-160H180v160Zm440 0h160v-160H620v160Z\"/>\n",
              "  </svg>\n",
              "    </button>\n",
              "\n",
              "  <style>\n",
              "    .colab-df-container {\n",
              "      display:flex;\n",
              "      gap: 12px;\n",
              "    }\n",
              "\n",
              "    .colab-df-convert {\n",
              "      background-color: #E8F0FE;\n",
              "      border: none;\n",
              "      border-radius: 50%;\n",
              "      cursor: pointer;\n",
              "      display: none;\n",
              "      fill: #1967D2;\n",
              "      height: 32px;\n",
              "      padding: 0 0 0 0;\n",
              "      width: 32px;\n",
              "    }\n",
              "\n",
              "    .colab-df-convert:hover {\n",
              "      background-color: #E2EBFA;\n",
              "      box-shadow: 0px 1px 2px rgba(60, 64, 67, 0.3), 0px 1px 3px 1px rgba(60, 64, 67, 0.15);\n",
              "      fill: #174EA6;\n",
              "    }\n",
              "\n",
              "    .colab-df-buttons div {\n",
              "      margin-bottom: 4px;\n",
              "    }\n",
              "\n",
              "    [theme=dark] .colab-df-convert {\n",
              "      background-color: #3B4455;\n",
              "      fill: #D2E3FC;\n",
              "    }\n",
              "\n",
              "    [theme=dark] .colab-df-convert:hover {\n",
              "      background-color: #434B5C;\n",
              "      box-shadow: 0px 1px 3px 1px rgba(0, 0, 0, 0.15);\n",
              "      filter: drop-shadow(0px 1px 2px rgba(0, 0, 0, 0.3));\n",
              "      fill: #FFFFFF;\n",
              "    }\n",
              "  </style>\n",
              "\n",
              "    <script>\n",
              "      const buttonEl =\n",
              "        document.querySelector('#df-096f6a85-a5a3-4259-bd2f-c7112206fdeb button.colab-df-convert');\n",
              "      buttonEl.style.display =\n",
              "        google.colab.kernel.accessAllowed ? 'block' : 'none';\n",
              "\n",
              "      async function convertToInteractive(key) {\n",
              "        const element = document.querySelector('#df-096f6a85-a5a3-4259-bd2f-c7112206fdeb');\n",
              "        const dataTable =\n",
              "          await google.colab.kernel.invokeFunction('convertToInteractive',\n",
              "                                                    [key], {});\n",
              "        if (!dataTable) return;\n",
              "\n",
              "        const docLinkHtml = 'Like what you see? Visit the ' +\n",
              "          '<a target=\"_blank\" href=https://colab.research.google.com/notebooks/data_table.ipynb>data table notebook</a>'\n",
              "          + ' to learn more about interactive tables.';\n",
              "        element.innerHTML = '';\n",
              "        dataTable['output_type'] = 'display_data';\n",
              "        await google.colab.output.renderOutput(dataTable, element);\n",
              "        const docLink = document.createElement('div');\n",
              "        docLink.innerHTML = docLinkHtml;\n",
              "        element.appendChild(docLink);\n",
              "      }\n",
              "    </script>\n",
              "  </div>\n",
              "\n",
              "\n",
              "<div id=\"df-2e63a230-0915-4d6b-bf30-9b8451ad38ce\">\n",
              "  <button class=\"colab-df-quickchart\" onclick=\"quickchart('df-2e63a230-0915-4d6b-bf30-9b8451ad38ce')\"\n",
              "            title=\"Suggest charts\"\n",
              "            style=\"display:none;\">\n",
              "\n",
              "<svg xmlns=\"http://www.w3.org/2000/svg\" height=\"24px\"viewBox=\"0 0 24 24\"\n",
              "     width=\"24px\">\n",
              "    <g>\n",
              "        <path d=\"M19 3H5c-1.1 0-2 .9-2 2v14c0 1.1.9 2 2 2h14c1.1 0 2-.9 2-2V5c0-1.1-.9-2-2-2zM9 17H7v-7h2v7zm4 0h-2V7h2v10zm4 0h-2v-4h2v4z\"/>\n",
              "    </g>\n",
              "</svg>\n",
              "  </button>\n",
              "\n",
              "<style>\n",
              "  .colab-df-quickchart {\n",
              "      --bg-color: #E8F0FE;\n",
              "      --fill-color: #1967D2;\n",
              "      --hover-bg-color: #E2EBFA;\n",
              "      --hover-fill-color: #174EA6;\n",
              "      --disabled-fill-color: #AAA;\n",
              "      --disabled-bg-color: #DDD;\n",
              "  }\n",
              "\n",
              "  [theme=dark] .colab-df-quickchart {\n",
              "      --bg-color: #3B4455;\n",
              "      --fill-color: #D2E3FC;\n",
              "      --hover-bg-color: #434B5C;\n",
              "      --hover-fill-color: #FFFFFF;\n",
              "      --disabled-bg-color: #3B4455;\n",
              "      --disabled-fill-color: #666;\n",
              "  }\n",
              "\n",
              "  .colab-df-quickchart {\n",
              "    background-color: var(--bg-color);\n",
              "    border: none;\n",
              "    border-radius: 50%;\n",
              "    cursor: pointer;\n",
              "    display: none;\n",
              "    fill: var(--fill-color);\n",
              "    height: 32px;\n",
              "    padding: 0;\n",
              "    width: 32px;\n",
              "  }\n",
              "\n",
              "  .colab-df-quickchart:hover {\n",
              "    background-color: var(--hover-bg-color);\n",
              "    box-shadow: 0 1px 2px rgba(60, 64, 67, 0.3), 0 1px 3px 1px rgba(60, 64, 67, 0.15);\n",
              "    fill: var(--button-hover-fill-color);\n",
              "  }\n",
              "\n",
              "  .colab-df-quickchart-complete:disabled,\n",
              "  .colab-df-quickchart-complete:disabled:hover {\n",
              "    background-color: var(--disabled-bg-color);\n",
              "    fill: var(--disabled-fill-color);\n",
              "    box-shadow: none;\n",
              "  }\n",
              "\n",
              "  .colab-df-spinner {\n",
              "    border: 2px solid var(--fill-color);\n",
              "    border-color: transparent;\n",
              "    border-bottom-color: var(--fill-color);\n",
              "    animation:\n",
              "      spin 1s steps(1) infinite;\n",
              "  }\n",
              "\n",
              "  @keyframes spin {\n",
              "    0% {\n",
              "      border-color: transparent;\n",
              "      border-bottom-color: var(--fill-color);\n",
              "      border-left-color: var(--fill-color);\n",
              "    }\n",
              "    20% {\n",
              "      border-color: transparent;\n",
              "      border-left-color: var(--fill-color);\n",
              "      border-top-color: var(--fill-color);\n",
              "    }\n",
              "    30% {\n",
              "      border-color: transparent;\n",
              "      border-left-color: var(--fill-color);\n",
              "      border-top-color: var(--fill-color);\n",
              "      border-right-color: var(--fill-color);\n",
              "    }\n",
              "    40% {\n",
              "      border-color: transparent;\n",
              "      border-right-color: var(--fill-color);\n",
              "      border-top-color: var(--fill-color);\n",
              "    }\n",
              "    60% {\n",
              "      border-color: transparent;\n",
              "      border-right-color: var(--fill-color);\n",
              "    }\n",
              "    80% {\n",
              "      border-color: transparent;\n",
              "      border-right-color: var(--fill-color);\n",
              "      border-bottom-color: var(--fill-color);\n",
              "    }\n",
              "    90% {\n",
              "      border-color: transparent;\n",
              "      border-bottom-color: var(--fill-color);\n",
              "    }\n",
              "  }\n",
              "</style>\n",
              "\n",
              "  <script>\n",
              "    async function quickchart(key) {\n",
              "      const quickchartButtonEl =\n",
              "        document.querySelector('#' + key + ' button');\n",
              "      quickchartButtonEl.disabled = true;  // To prevent multiple clicks.\n",
              "      quickchartButtonEl.classList.add('colab-df-spinner');\n",
              "      try {\n",
              "        const charts = await google.colab.kernel.invokeFunction(\n",
              "            'suggestCharts', [key], {});\n",
              "      } catch (error) {\n",
              "        console.error('Error during call to suggestCharts:', error);\n",
              "      }\n",
              "      quickchartButtonEl.classList.remove('colab-df-spinner');\n",
              "      quickchartButtonEl.classList.add('colab-df-quickchart-complete');\n",
              "    }\n",
              "    (() => {\n",
              "      let quickchartButtonEl =\n",
              "        document.querySelector('#df-2e63a230-0915-4d6b-bf30-9b8451ad38ce button');\n",
              "      quickchartButtonEl.style.display =\n",
              "        google.colab.kernel.accessAllowed ? 'block' : 'none';\n",
              "    })();\n",
              "  </script>\n",
              "</div>\n",
              "\n",
              "    </div>\n",
              "  </div>\n"
            ],
            "application/vnd.google.colaboratory.intrinsic+json": {
              "type": "dataframe",
              "summary": "{\n  \"name\": \"treino\",\n  \"rows\": 8,\n  \"fields\": [\n    {\n      \"column\": \"cc_num\",\n      \"properties\": {\n        \"dtype\": \"number\",\n        \"std\": 1.7383249941978312e+18,\n        \"min\": 144352.0,\n        \"max\": 4.99733549465191e+18,\n        \"num_unique_values\": 8,\n        \"samples\": [\n          3.197981714000779e+17,\n          3533484344375759.0,\n          144352.0\n        ],\n        \"semantic_type\": \"\",\n        \"description\": \"\"\n      }\n    },\n    {\n      \"column\": \"zip\",\n      \"properties\": {\n        \"dtype\": \"number\",\n        \"std\": 16968.80088995263,\n        \"min\": 0.0,\n        \"max\": 37381.0,\n        \"num_unique_values\": 3,\n        \"samples\": [\n          1468.0,\n          37381.0,\n          0.0\n        ],\n        \"semantic_type\": \"\",\n        \"description\": \"\"\n      }\n    },\n    {\n      \"column\": \"lat\",\n      \"properties\": {\n        \"dtype\": \"number\",\n        \"std\": 51023.7437806923,\n        \"min\": 5.578041487797423,\n        \"max\": 144352.0,\n        \"num_unique_values\": 8,\n        \"samples\": [\n          38.16288690146308,\n          39.17,\n          144352.0\n        ],\n        \"semantic_type\": \"\",\n        \"description\": \"\"\n      }\n    },\n    {\n      \"column\": \"long\",\n      \"properties\": {\n        \"dtype\": \"number\",\n        \"std\": 51064.94492320546,\n        \"min\": -149.78,\n        \"max\": 144352.0,\n        \"num_unique_values\": 8,\n        \"samples\": [\n          -93.2614524911328,\n          -87.99,\n          144352.0\n        ],\n        \"semantic_type\": \"\",\n        \"description\": \"\"\n      }\n    },\n    {\n      \"column\": \"city_pop\",\n      \"properties\": {\n        \"dtype\": \"number\",\n        \"std\": 975181.2436823985,\n        \"min\": 411.0,\n        \"max\": 2906700.0,\n        \"num_unique_values\": 8,\n        \"samples\": [\n          308624.5315409554,\n          63868.0,\n          144352.0\n        ],\n        \"semantic_type\": \"\",\n        \"description\": \"\"\n      }\n    },\n    {\n      \"column\": \"acct_num\",\n      \"properties\": {\n        \"dtype\": \"number\",\n        \"std\": 354146862113.7251,\n        \"min\": 144352.0,\n        \"max\": 999389892260.0,\n        \"num_unique_values\": 8,\n        \"samples\": [\n          522307086476.9387,\n          550157085827.0,\n          144352.0\n        ],\n        \"semantic_type\": \"\",\n        \"description\": \"\"\n      }\n    },\n    {\n      \"column\": \"unix_time\",\n      \"properties\": {\n        \"dtype\": \"number\",\n        \"std\": 782217987.6099328,\n        \"min\": 144194.0,\n        \"max\": 1709953174.0,\n        \"num_unique_values\": 8,\n        \"samples\": [\n          1694038752.0713692,\n          1693771492.5,\n          144194.0\n        ],\n        \"semantic_type\": \"\",\n        \"description\": \"\"\n      }\n    },\n    {\n      \"column\": \"amt\",\n      \"properties\": {\n        \"dtype\": \"number\",\n        \"std\": 50453.14170729051,\n        \"min\": 1.0,\n        \"max\": 144194.0,\n        \"num_unique_values\": 8,\n        \"samples\": [\n          71.34226916515249,\n          42.76,\n          144194.0\n        ],\n        \"semantic_type\": \"\",\n        \"description\": \"\"\n      }\n    },\n    {\n      \"column\": \"is_fraud\",\n      \"properties\": {\n        \"dtype\": \"number\",\n        \"std\": 50980.22138982777,\n        \"min\": 0.0,\n        \"max\": 144194.0,\n        \"num_unique_values\": 5,\n        \"samples\": [\n          0.010596834819756717,\n          1.0,\n          0.10239440718820654\n        ],\n        \"semantic_type\": \"\",\n        \"description\": \"\"\n      }\n    },\n    {\n      \"column\": \"merch_lat\",\n      \"properties\": {\n        \"dtype\": \"number\",\n        \"std\": 508.3198612259817,\n        \"min\": 0.58567617096241,\n        \"max\": 1468.0,\n        \"num_unique_values\": 8,\n        \"samples\": [\n          35.69068119891008,\n          35.69,\n          1468.0\n        ],\n        \"semantic_type\": \"\",\n        \"description\": \"\"\n      }\n    },\n    {\n      \"column\": \"merch_long\",\n      \"properties\": {\n        \"dtype\": \"number\",\n        \"std\": 545.5100729305527,\n        \"min\": -85.82,\n        \"max\": 1468.0,\n        \"num_unique_values\": 8,\n        \"samples\": [\n          -84.81474795640328,\n          -84.82,\n          1468.0\n        ],\n        \"semantic_type\": \"\",\n        \"description\": \"\"\n      }\n    }\n  ]\n}"
            }
          },
          "metadata": {},
          "execution_count": 77
        }
      ],
      "source": [
        "treino.describe() # Estatistica descritiva dos dados."
      ]
    },
    {
      "cell_type": "markdown",
      "source": [
        "Aqui vemos uma ferramenta poderosa, que são as estatísticas descritivas de nossas variáveis.\n",
        "\n",
        "As estatisticas descritivas nos ajudam a compreender como que os dados estão distribuidos. Por exemplo: se existem valores negativos na variável \"amt\" que é o valor da transação. Nos permite também observar a discrepância nos dados. Ainda utilizando a variável \"amt\" como exemplo, vemos que até 75% dos valores é igual a 79.95 reais, mas que o valor máximo é 16879 reais. A média é 71 reais e o desvio padrão 172 reais. Esta análise prévia das estatisticas pode nos dar algumas pistas sobre padrões nas fraudes (por exemplo, fraudes tendem a ter uma média transacionada maior). É o que descobriremos ao longo do nosso estudo."
      ],
      "metadata": {
        "id": "Po2W1ifn3rP-"
      }
    },
    {
      "cell_type": "code",
      "execution_count": null,
      "metadata": {
        "colab": {
          "base_uri": "https://localhost:8080/",
          "height": 449
        },
        "id": "bAXiDT_UtSm1",
        "outputId": "379e35d7-5282-443b-8af0-b23a96bee3db"
      },
      "outputs": [
        {
          "output_type": "stream",
          "name": "stderr",
          "text": [
            "<ipython-input-78-b8429d737e73>:1: FutureWarning: The default value of numeric_only in DataFrame.corr is deprecated. In a future version, it will default to False. Select only valid columns or specify the value of numeric_only to silence this warning.\n",
            "  treino.corr() # Exibindo a correlação linear das variáveis numéricas dos nossos dados.\n"
          ]
        },
        {
          "output_type": "execute_result",
          "data": {
            "text/plain": [
              "              cc_num  zip       lat      long  city_pop  acct_num  unix_time  \\\n",
              "cc_num      1.000000  NaN  0.001285  0.053492 -0.091743  0.055559  -0.000189   \n",
              "zip              NaN  NaN       NaN       NaN       NaN       NaN        NaN   \n",
              "lat         0.001285  NaN  1.000000 -0.169448 -0.159943 -0.048507   0.000831   \n",
              "long        0.053492  NaN -0.169448  1.000000  0.060948  0.097406  -0.000786   \n",
              "city_pop   -0.091743  NaN -0.159943  0.060948  1.000000  0.056965   0.004224   \n",
              "acct_num    0.055559  NaN -0.048507  0.097406  0.056965  1.000000   0.002564   \n",
              "unix_time  -0.000189  NaN  0.000831 -0.000786  0.004224  0.002564   1.000000   \n",
              "amt         0.006309  NaN -0.000287  0.006657  0.006386  0.003494  -0.028169   \n",
              "is_fraud    0.002694  NaN -0.002902 -0.002870 -0.001439 -0.002505  -0.001975   \n",
              "merch_lat  -0.051308  NaN -0.019410  0.023596  0.048545  0.044423  -0.017289   \n",
              "merch_long  0.027568  NaN -0.009255 -0.027689 -0.026860 -0.035449   0.000608   \n",
              "\n",
              "                 amt  is_fraud  merch_lat  merch_long  \n",
              "cc_num      0.006309  0.002694  -0.051308    0.027568  \n",
              "zip              NaN       NaN        NaN         NaN  \n",
              "lat        -0.000287 -0.002902  -0.019410   -0.009255  \n",
              "long        0.006657 -0.002870   0.023596   -0.027689  \n",
              "city_pop    0.006386 -0.001439   0.048545   -0.026860  \n",
              "acct_num    0.003494 -0.002505   0.044423   -0.035449  \n",
              "unix_time  -0.028169 -0.001975  -0.017289    0.000608  \n",
              "amt         1.000000  0.283082   0.015896   -0.050527  \n",
              "is_fraud    0.283082  1.000000   0.020397   -0.000613  \n",
              "merch_lat   0.015896  0.020397   1.000000   -0.014045  \n",
              "merch_long -0.050527 -0.000613  -0.014045    1.000000  "
            ],
            "text/html": [
              "\n",
              "  <div id=\"df-4285ad18-aa50-4da3-ae4f-0f8e383c29da\" class=\"colab-df-container\">\n",
              "    <div>\n",
              "<style scoped>\n",
              "    .dataframe tbody tr th:only-of-type {\n",
              "        vertical-align: middle;\n",
              "    }\n",
              "\n",
              "    .dataframe tbody tr th {\n",
              "        vertical-align: top;\n",
              "    }\n",
              "\n",
              "    .dataframe thead th {\n",
              "        text-align: right;\n",
              "    }\n",
              "</style>\n",
              "<table border=\"1\" class=\"dataframe\">\n",
              "  <thead>\n",
              "    <tr style=\"text-align: right;\">\n",
              "      <th></th>\n",
              "      <th>cc_num</th>\n",
              "      <th>zip</th>\n",
              "      <th>lat</th>\n",
              "      <th>long</th>\n",
              "      <th>city_pop</th>\n",
              "      <th>acct_num</th>\n",
              "      <th>unix_time</th>\n",
              "      <th>amt</th>\n",
              "      <th>is_fraud</th>\n",
              "      <th>merch_lat</th>\n",
              "      <th>merch_long</th>\n",
              "    </tr>\n",
              "  </thead>\n",
              "  <tbody>\n",
              "    <tr>\n",
              "      <th>cc_num</th>\n",
              "      <td>1.000000</td>\n",
              "      <td>NaN</td>\n",
              "      <td>0.001285</td>\n",
              "      <td>0.053492</td>\n",
              "      <td>-0.091743</td>\n",
              "      <td>0.055559</td>\n",
              "      <td>-0.000189</td>\n",
              "      <td>0.006309</td>\n",
              "      <td>0.002694</td>\n",
              "      <td>-0.051308</td>\n",
              "      <td>0.027568</td>\n",
              "    </tr>\n",
              "    <tr>\n",
              "      <th>zip</th>\n",
              "      <td>NaN</td>\n",
              "      <td>NaN</td>\n",
              "      <td>NaN</td>\n",
              "      <td>NaN</td>\n",
              "      <td>NaN</td>\n",
              "      <td>NaN</td>\n",
              "      <td>NaN</td>\n",
              "      <td>NaN</td>\n",
              "      <td>NaN</td>\n",
              "      <td>NaN</td>\n",
              "      <td>NaN</td>\n",
              "    </tr>\n",
              "    <tr>\n",
              "      <th>lat</th>\n",
              "      <td>0.001285</td>\n",
              "      <td>NaN</td>\n",
              "      <td>1.000000</td>\n",
              "      <td>-0.169448</td>\n",
              "      <td>-0.159943</td>\n",
              "      <td>-0.048507</td>\n",
              "      <td>0.000831</td>\n",
              "      <td>-0.000287</td>\n",
              "      <td>-0.002902</td>\n",
              "      <td>-0.019410</td>\n",
              "      <td>-0.009255</td>\n",
              "    </tr>\n",
              "    <tr>\n",
              "      <th>long</th>\n",
              "      <td>0.053492</td>\n",
              "      <td>NaN</td>\n",
              "      <td>-0.169448</td>\n",
              "      <td>1.000000</td>\n",
              "      <td>0.060948</td>\n",
              "      <td>0.097406</td>\n",
              "      <td>-0.000786</td>\n",
              "      <td>0.006657</td>\n",
              "      <td>-0.002870</td>\n",
              "      <td>0.023596</td>\n",
              "      <td>-0.027689</td>\n",
              "    </tr>\n",
              "    <tr>\n",
              "      <th>city_pop</th>\n",
              "      <td>-0.091743</td>\n",
              "      <td>NaN</td>\n",
              "      <td>-0.159943</td>\n",
              "      <td>0.060948</td>\n",
              "      <td>1.000000</td>\n",
              "      <td>0.056965</td>\n",
              "      <td>0.004224</td>\n",
              "      <td>0.006386</td>\n",
              "      <td>-0.001439</td>\n",
              "      <td>0.048545</td>\n",
              "      <td>-0.026860</td>\n",
              "    </tr>\n",
              "    <tr>\n",
              "      <th>acct_num</th>\n",
              "      <td>0.055559</td>\n",
              "      <td>NaN</td>\n",
              "      <td>-0.048507</td>\n",
              "      <td>0.097406</td>\n",
              "      <td>0.056965</td>\n",
              "      <td>1.000000</td>\n",
              "      <td>0.002564</td>\n",
              "      <td>0.003494</td>\n",
              "      <td>-0.002505</td>\n",
              "      <td>0.044423</td>\n",
              "      <td>-0.035449</td>\n",
              "    </tr>\n",
              "    <tr>\n",
              "      <th>unix_time</th>\n",
              "      <td>-0.000189</td>\n",
              "      <td>NaN</td>\n",
              "      <td>0.000831</td>\n",
              "      <td>-0.000786</td>\n",
              "      <td>0.004224</td>\n",
              "      <td>0.002564</td>\n",
              "      <td>1.000000</td>\n",
              "      <td>-0.028169</td>\n",
              "      <td>-0.001975</td>\n",
              "      <td>-0.017289</td>\n",
              "      <td>0.000608</td>\n",
              "    </tr>\n",
              "    <tr>\n",
              "      <th>amt</th>\n",
              "      <td>0.006309</td>\n",
              "      <td>NaN</td>\n",
              "      <td>-0.000287</td>\n",
              "      <td>0.006657</td>\n",
              "      <td>0.006386</td>\n",
              "      <td>0.003494</td>\n",
              "      <td>-0.028169</td>\n",
              "      <td>1.000000</td>\n",
              "      <td>0.283082</td>\n",
              "      <td>0.015896</td>\n",
              "      <td>-0.050527</td>\n",
              "    </tr>\n",
              "    <tr>\n",
              "      <th>is_fraud</th>\n",
              "      <td>0.002694</td>\n",
              "      <td>NaN</td>\n",
              "      <td>-0.002902</td>\n",
              "      <td>-0.002870</td>\n",
              "      <td>-0.001439</td>\n",
              "      <td>-0.002505</td>\n",
              "      <td>-0.001975</td>\n",
              "      <td>0.283082</td>\n",
              "      <td>1.000000</td>\n",
              "      <td>0.020397</td>\n",
              "      <td>-0.000613</td>\n",
              "    </tr>\n",
              "    <tr>\n",
              "      <th>merch_lat</th>\n",
              "      <td>-0.051308</td>\n",
              "      <td>NaN</td>\n",
              "      <td>-0.019410</td>\n",
              "      <td>0.023596</td>\n",
              "      <td>0.048545</td>\n",
              "      <td>0.044423</td>\n",
              "      <td>-0.017289</td>\n",
              "      <td>0.015896</td>\n",
              "      <td>0.020397</td>\n",
              "      <td>1.000000</td>\n",
              "      <td>-0.014045</td>\n",
              "    </tr>\n",
              "    <tr>\n",
              "      <th>merch_long</th>\n",
              "      <td>0.027568</td>\n",
              "      <td>NaN</td>\n",
              "      <td>-0.009255</td>\n",
              "      <td>-0.027689</td>\n",
              "      <td>-0.026860</td>\n",
              "      <td>-0.035449</td>\n",
              "      <td>0.000608</td>\n",
              "      <td>-0.050527</td>\n",
              "      <td>-0.000613</td>\n",
              "      <td>-0.014045</td>\n",
              "      <td>1.000000</td>\n",
              "    </tr>\n",
              "  </tbody>\n",
              "</table>\n",
              "</div>\n",
              "    <div class=\"colab-df-buttons\">\n",
              "\n",
              "  <div class=\"colab-df-container\">\n",
              "    <button class=\"colab-df-convert\" onclick=\"convertToInteractive('df-4285ad18-aa50-4da3-ae4f-0f8e383c29da')\"\n",
              "            title=\"Convert this dataframe to an interactive table.\"\n",
              "            style=\"display:none;\">\n",
              "\n",
              "  <svg xmlns=\"http://www.w3.org/2000/svg\" height=\"24px\" viewBox=\"0 -960 960 960\">\n",
              "    <path d=\"M120-120v-720h720v720H120Zm60-500h600v-160H180v160Zm220 220h160v-160H400v160Zm0 220h160v-160H400v160ZM180-400h160v-160H180v160Zm440 0h160v-160H620v160ZM180-180h160v-160H180v160Zm440 0h160v-160H620v160Z\"/>\n",
              "  </svg>\n",
              "    </button>\n",
              "\n",
              "  <style>\n",
              "    .colab-df-container {\n",
              "      display:flex;\n",
              "      gap: 12px;\n",
              "    }\n",
              "\n",
              "    .colab-df-convert {\n",
              "      background-color: #E8F0FE;\n",
              "      border: none;\n",
              "      border-radius: 50%;\n",
              "      cursor: pointer;\n",
              "      display: none;\n",
              "      fill: #1967D2;\n",
              "      height: 32px;\n",
              "      padding: 0 0 0 0;\n",
              "      width: 32px;\n",
              "    }\n",
              "\n",
              "    .colab-df-convert:hover {\n",
              "      background-color: #E2EBFA;\n",
              "      box-shadow: 0px 1px 2px rgba(60, 64, 67, 0.3), 0px 1px 3px 1px rgba(60, 64, 67, 0.15);\n",
              "      fill: #174EA6;\n",
              "    }\n",
              "\n",
              "    .colab-df-buttons div {\n",
              "      margin-bottom: 4px;\n",
              "    }\n",
              "\n",
              "    [theme=dark] .colab-df-convert {\n",
              "      background-color: #3B4455;\n",
              "      fill: #D2E3FC;\n",
              "    }\n",
              "\n",
              "    [theme=dark] .colab-df-convert:hover {\n",
              "      background-color: #434B5C;\n",
              "      box-shadow: 0px 1px 3px 1px rgba(0, 0, 0, 0.15);\n",
              "      filter: drop-shadow(0px 1px 2px rgba(0, 0, 0, 0.3));\n",
              "      fill: #FFFFFF;\n",
              "    }\n",
              "  </style>\n",
              "\n",
              "    <script>\n",
              "      const buttonEl =\n",
              "        document.querySelector('#df-4285ad18-aa50-4da3-ae4f-0f8e383c29da button.colab-df-convert');\n",
              "      buttonEl.style.display =\n",
              "        google.colab.kernel.accessAllowed ? 'block' : 'none';\n",
              "\n",
              "      async function convertToInteractive(key) {\n",
              "        const element = document.querySelector('#df-4285ad18-aa50-4da3-ae4f-0f8e383c29da');\n",
              "        const dataTable =\n",
              "          await google.colab.kernel.invokeFunction('convertToInteractive',\n",
              "                                                    [key], {});\n",
              "        if (!dataTable) return;\n",
              "\n",
              "        const docLinkHtml = 'Like what you see? Visit the ' +\n",
              "          '<a target=\"_blank\" href=https://colab.research.google.com/notebooks/data_table.ipynb>data table notebook</a>'\n",
              "          + ' to learn more about interactive tables.';\n",
              "        element.innerHTML = '';\n",
              "        dataTable['output_type'] = 'display_data';\n",
              "        await google.colab.output.renderOutput(dataTable, element);\n",
              "        const docLink = document.createElement('div');\n",
              "        docLink.innerHTML = docLinkHtml;\n",
              "        element.appendChild(docLink);\n",
              "      }\n",
              "    </script>\n",
              "  </div>\n",
              "\n",
              "\n",
              "<div id=\"df-688b6b8c-061e-4c24-89c1-df9f3df228f6\">\n",
              "  <button class=\"colab-df-quickchart\" onclick=\"quickchart('df-688b6b8c-061e-4c24-89c1-df9f3df228f6')\"\n",
              "            title=\"Suggest charts\"\n",
              "            style=\"display:none;\">\n",
              "\n",
              "<svg xmlns=\"http://www.w3.org/2000/svg\" height=\"24px\"viewBox=\"0 0 24 24\"\n",
              "     width=\"24px\">\n",
              "    <g>\n",
              "        <path d=\"M19 3H5c-1.1 0-2 .9-2 2v14c0 1.1.9 2 2 2h14c1.1 0 2-.9 2-2V5c0-1.1-.9-2-2-2zM9 17H7v-7h2v7zm4 0h-2V7h2v10zm4 0h-2v-4h2v4z\"/>\n",
              "    </g>\n",
              "</svg>\n",
              "  </button>\n",
              "\n",
              "<style>\n",
              "  .colab-df-quickchart {\n",
              "      --bg-color: #E8F0FE;\n",
              "      --fill-color: #1967D2;\n",
              "      --hover-bg-color: #E2EBFA;\n",
              "      --hover-fill-color: #174EA6;\n",
              "      --disabled-fill-color: #AAA;\n",
              "      --disabled-bg-color: #DDD;\n",
              "  }\n",
              "\n",
              "  [theme=dark] .colab-df-quickchart {\n",
              "      --bg-color: #3B4455;\n",
              "      --fill-color: #D2E3FC;\n",
              "      --hover-bg-color: #434B5C;\n",
              "      --hover-fill-color: #FFFFFF;\n",
              "      --disabled-bg-color: #3B4455;\n",
              "      --disabled-fill-color: #666;\n",
              "  }\n",
              "\n",
              "  .colab-df-quickchart {\n",
              "    background-color: var(--bg-color);\n",
              "    border: none;\n",
              "    border-radius: 50%;\n",
              "    cursor: pointer;\n",
              "    display: none;\n",
              "    fill: var(--fill-color);\n",
              "    height: 32px;\n",
              "    padding: 0;\n",
              "    width: 32px;\n",
              "  }\n",
              "\n",
              "  .colab-df-quickchart:hover {\n",
              "    background-color: var(--hover-bg-color);\n",
              "    box-shadow: 0 1px 2px rgba(60, 64, 67, 0.3), 0 1px 3px 1px rgba(60, 64, 67, 0.15);\n",
              "    fill: var(--button-hover-fill-color);\n",
              "  }\n",
              "\n",
              "  .colab-df-quickchart-complete:disabled,\n",
              "  .colab-df-quickchart-complete:disabled:hover {\n",
              "    background-color: var(--disabled-bg-color);\n",
              "    fill: var(--disabled-fill-color);\n",
              "    box-shadow: none;\n",
              "  }\n",
              "\n",
              "  .colab-df-spinner {\n",
              "    border: 2px solid var(--fill-color);\n",
              "    border-color: transparent;\n",
              "    border-bottom-color: var(--fill-color);\n",
              "    animation:\n",
              "      spin 1s steps(1) infinite;\n",
              "  }\n",
              "\n",
              "  @keyframes spin {\n",
              "    0% {\n",
              "      border-color: transparent;\n",
              "      border-bottom-color: var(--fill-color);\n",
              "      border-left-color: var(--fill-color);\n",
              "    }\n",
              "    20% {\n",
              "      border-color: transparent;\n",
              "      border-left-color: var(--fill-color);\n",
              "      border-top-color: var(--fill-color);\n",
              "    }\n",
              "    30% {\n",
              "      border-color: transparent;\n",
              "      border-left-color: var(--fill-color);\n",
              "      border-top-color: var(--fill-color);\n",
              "      border-right-color: var(--fill-color);\n",
              "    }\n",
              "    40% {\n",
              "      border-color: transparent;\n",
              "      border-right-color: var(--fill-color);\n",
              "      border-top-color: var(--fill-color);\n",
              "    }\n",
              "    60% {\n",
              "      border-color: transparent;\n",
              "      border-right-color: var(--fill-color);\n",
              "    }\n",
              "    80% {\n",
              "      border-color: transparent;\n",
              "      border-right-color: var(--fill-color);\n",
              "      border-bottom-color: var(--fill-color);\n",
              "    }\n",
              "    90% {\n",
              "      border-color: transparent;\n",
              "      border-bottom-color: var(--fill-color);\n",
              "    }\n",
              "  }\n",
              "</style>\n",
              "\n",
              "  <script>\n",
              "    async function quickchart(key) {\n",
              "      const quickchartButtonEl =\n",
              "        document.querySelector('#' + key + ' button');\n",
              "      quickchartButtonEl.disabled = true;  // To prevent multiple clicks.\n",
              "      quickchartButtonEl.classList.add('colab-df-spinner');\n",
              "      try {\n",
              "        const charts = await google.colab.kernel.invokeFunction(\n",
              "            'suggestCharts', [key], {});\n",
              "      } catch (error) {\n",
              "        console.error('Error during call to suggestCharts:', error);\n",
              "      }\n",
              "      quickchartButtonEl.classList.remove('colab-df-spinner');\n",
              "      quickchartButtonEl.classList.add('colab-df-quickchart-complete');\n",
              "    }\n",
              "    (() => {\n",
              "      let quickchartButtonEl =\n",
              "        document.querySelector('#df-688b6b8c-061e-4c24-89c1-df9f3df228f6 button');\n",
              "      quickchartButtonEl.style.display =\n",
              "        google.colab.kernel.accessAllowed ? 'block' : 'none';\n",
              "    })();\n",
              "  </script>\n",
              "</div>\n",
              "\n",
              "    </div>\n",
              "  </div>\n"
            ],
            "application/vnd.google.colaboratory.intrinsic+json": {
              "type": "dataframe",
              "summary": "{\n  \"name\": \"treino\",\n  \"rows\": 11,\n  \"fields\": [\n    {\n      \"column\": \"cc_num\",\n      \"properties\": {\n        \"dtype\": \"number\",\n        \"std\": 0.31921284452875365,\n        \"min\": -0.0917425103757413,\n        \"max\": 1.0,\n        \"num_unique_values\": 10,\n        \"samples\": [\n          -0.051308138527725644,\n          0.0012845105348385124,\n          -0.00018922227361442006\n        ],\n        \"semantic_type\": \"\",\n        \"description\": \"\"\n      }\n    },\n    {\n      \"column\": \"zip\",\n      \"properties\": {\n        \"dtype\": \"number\",\n        \"std\": null,\n        \"min\": null,\n        \"max\": null,\n        \"num_unique_values\": 0,\n        \"samples\": [],\n        \"semantic_type\": \"\",\n        \"description\": \"\"\n      }\n    },\n    {\n      \"column\": \"lat\",\n      \"properties\": {\n        \"dtype\": \"number\",\n        \"std\": 0.33698513080606635,\n        \"min\": -0.16944790851264913,\n        \"max\": 1.0,\n        \"num_unique_values\": 10,\n        \"samples\": [],\n        \"semantic_type\": \"\",\n        \"description\": \"\"\n      }\n    },\n    {\n      \"column\": \"long\",\n      \"properties\": {\n        \"dtype\": \"number\",\n        \"std\": 0.322786682231459,\n        \"min\": -0.16944790851264913,\n        \"max\": 1.0,\n        \"num_unique_values\": 10,\n        \"samples\": [],\n        \"semantic_type\": \"\",\n        \"description\": \"\"\n      }\n    },\n    {\n      \"column\": \"city_pop\",\n      \"properties\": {\n        \"dtype\": \"number\",\n        \"std\": 0.32721398783141464,\n        \"min\": -0.15994250993828268,\n        \"max\": 1.0,\n        \"num_unique_values\": 10,\n        \"samples\": [],\n        \"semantic_type\": \"\",\n        \"description\": \"\"\n      }\n    },\n    {\n      \"column\": \"acct_num\",\n      \"properties\": {\n        \"dtype\": \"number\",\n        \"std\": 0.3133353965177377,\n        \"min\": -0.048506569190218986,\n        \"max\": 1.0,\n        \"num_unique_values\": 10,\n        \"samples\": [],\n        \"semantic_type\": \"\",\n        \"description\": \"\"\n      }\n    },\n    {\n      \"column\": \"unix_time\",\n      \"properties\": {\n        \"dtype\": \"number\",\n        \"std\": 0.317804464878035,\n        \"min\": -0.02816854219605898,\n        \"max\": 1.0,\n        \"num_unique_values\": 10,\n        \"samples\": [],\n        \"semantic_type\": \"\",\n        \"description\": \"\"\n      }\n    },\n    {\n      \"column\": \"amt\",\n      \"properties\": {\n        \"dtype\": \"number\",\n        \"std\": 0.32135244315682715,\n        \"min\": -0.050527418360549026,\n        \"max\": 1.0,\n        \"num_unique_values\": 10,\n        \"samples\": [],\n        \"semantic_type\": \"\",\n        \"description\": \"\"\n      }\n    },\n    {\n      \"column\": \"is_fraud\",\n      \"properties\": {\n        \"dtype\": \"number\",\n        \"std\": 0.3185345489956063,\n        \"min\": -0.002902137765839239,\n        \"max\": 1.0,\n        \"num_unique_values\": 10,\n        \"samples\": [],\n        \"semantic_type\": \"\",\n        \"description\": \"\"\n      }\n    },\n    {\n      \"column\": \"merch_lat\",\n      \"properties\": {\n        \"dtype\": \"number\",\n        \"std\": 0.3159891214971343,\n        \"min\": -0.051308138527725644,\n        \"max\": 1.0,\n        \"num_unique_values\": 10,\n        \"samples\": [],\n        \"semantic_type\": \"\",\n        \"description\": \"\"\n      }\n    },\n    {\n      \"column\": \"merch_long\",\n      \"properties\": {\n        \"dtype\": \"number\",\n        \"std\": 0.3217551160709612,\n        \"min\": -0.050527418360549026,\n        \"max\": 1.0,\n        \"num_unique_values\": 10,\n        \"samples\": [],\n        \"semantic_type\": \"\",\n        \"description\": \"\"\n      }\n    }\n  ]\n}"
            }
          },
          "metadata": {},
          "execution_count": 78
        }
      ],
      "source": [
        "treino.corr() # Exibindo a correlação linear das variáveis numéricas dos nossos dados."
      ]
    },
    {
      "cell_type": "code",
      "execution_count": null,
      "metadata": {
        "colab": {
          "base_uri": "https://localhost:8080/"
        },
        "id": "j21_exomfW-4",
        "outputId": "3d4fb5ee-15b7-4dc0-b3e0-7088e2b73e04"
      },
      "outputs": [
        {
          "output_type": "execute_result",
          "data": {
            "text/plain": [
              "0.0    142666\n",
              "1.0      1528\n",
              "Name: is_fraud, dtype: int64"
            ]
          },
          "metadata": {},
          "execution_count": 79
        }
      ],
      "source": [
        "treino['is_fraud'].value_counts() # Verificando o balanceamento de dados da nossa variável alvo."
      ]
    },
    {
      "cell_type": "code",
      "execution_count": null,
      "metadata": {
        "colab": {
          "base_uri": "https://localhost:8080/",
          "height": 467
        },
        "id": "IG4DMSjvfOry",
        "outputId": "d6c099ff-d5d2-4c39-e790-4a0770b7e9c3"
      },
      "outputs": [
        {
          "output_type": "execute_result",
          "data": {
            "text/plain": [
              "<Axes: xlabel='is_fraud', ylabel='count'>"
            ]
          },
          "metadata": {},
          "execution_count": 80
        },
        {
          "output_type": "display_data",
          "data": {
            "text/plain": [
              "<Figure size 640x480 with 1 Axes>"
            ],
            "image/png": "[encoded data removed]"
          },
          "metadata": {}
        }
      ],
      "source": [
        "sns.countplot(x = 'is_fraud', data = treino) # Exibindo este desbalanceamento"
      ]
    },
    {
      "cell_type": "markdown",
      "source": [
        "A variável alvo possui um desbalanceamento muito grande, o que é um problema para os algoritmos de machine learning. Com este desbalanceamento, o modelo pode ter problemas em generalizar para a classe minoritária (fraude), o que é ruim para nós. Portanto, deveremos buscar soluções para este desbalanceamento.\n",
        "\n",
        "Uma boa solução será utilizar a técnica SMOTE (Synthetic Minority Over-sampling Technique), que criará novas instâncias utilizando o algoritmo de K-vizinhos mais próximos para criar dados sintéticos e assim o nosso modelo generalizar bem tanto para os dados de não fraude como para os dados de fraude."
      ],
      "metadata": {
        "id": "WkeK1tR85531"
      }
    },
    {
      "cell_type": "code",
      "execution_count": null,
      "metadata": {
        "colab": {
          "base_uri": "https://localhost:8080/"
        },
        "id": "YDse7nSEgNXG",
        "outputId": "69dace18-d33e-4f12-b17e-b4776b3c11fe"
      },
      "outputs": [
        {
          "output_type": "execute_result",
          "data": {
            "text/plain": [
              "(34, 2)"
            ]
          },
          "metadata": {},
          "execution_count": 81
        }
      ],
      "source": [
        "# Filtrando as linhas onde is_fraud é igual a 1 e verificando os valores não nulos em merch_lat e merch_long\n",
        "fraudes_merch = treino.loc[treino['is_fraud'] == 1, ['merch_lat', 'merch_long']].dropna()\n",
        "\n",
        "fraudes_merch.shape"
      ]
    },
    {
      "cell_type": "markdown",
      "metadata": {
        "id": "QUZXvlHqmYEw"
      },
      "source": [
        "Dos dados que temos sobre a latitude e longitude das fraudes, temos apenas 34 valores de todos os 1400. Talvez seja uma boa dropar estas duas colunas ou então usar alguma biblioteca para descobrir a latitude e longitude do comerciante. Porém, utilizar de bibliotecas para descobrir a latitude e longitude do comerciante pode ser um problema pelo fato de não sabermos a localização exata.\n",
        "\n",
        "Portanto, como regra geral, droparemos esta e outras colunas que possuem mais de 20% dos valores nulos."
      ]
    },
    {
      "cell_type": "code",
      "execution_count": null,
      "metadata": {
        "colab": {
          "base_uri": "https://localhost:8080/",
          "height": 464
        },
        "id": "BGy5G_uQEBgT",
        "outputId": "dcc74dab-675d-42d5-b05e-0a5c044a034c"
      },
      "outputs": [
        {
          "output_type": "execute_result",
          "data": {
            "text/plain": [
              "           ssn            cc_num     first     last gender  \\\n",
              "0  176-11-8190  6591803397401489    Justin  Johnson      M   \n",
              "1  481-92-6127  4772233060463333    Andrea       Ho      F   \n",
              "2  849-66-8722    30470551694093      John   Coffey      M   \n",
              "3  392-97-2182  4189092753269739  Angelica   Garcia      F   \n",
              "4  742-37-0405   180088770435813    Travis  Jackson      M   \n",
              "\n",
              "                          street         city state  zip    lat  ...  \\\n",
              "0  39261 Martin Garden Suite 856     Murrieta    CA  NaN  33.57  ...   \n",
              "1      757 Ronald Trail Apt. 965      Ontario    CA  NaN  34.08  ...   \n",
              "2       097 Alexandria Stravenue    Lancaster    CA  NaN  34.69  ...   \n",
              "3              656 Moody Gateway  Carson City    NV  NaN  39.17  ...   \n",
              "4               133 Houston Ford    Rochester    NY  NaN  43.17  ...   \n",
              "\n",
              "   trans_time     unix_time       category     amt  is_fraud  \\\n",
              "0    15:23:53  1.690137e+09       misc_pos    2.27       0.0   \n",
              "1    22:13:50  1.702516e+09           home   10.52       0.0   \n",
              "2    23:46:47  1.690167e+09       misc_pos  149.01       0.0   \n",
              "3    16:45:57  1.706558e+09  personal_care   32.01       0.0   \n",
              "4    04:16:14  1.687073e+09       misc_pos  137.31       0.0   \n",
              "\n",
              "                            merchant merch_lat merch_long     trans_date_time  \\\n",
              "0                    fraud_Thiel PLC       NaN        NaN 2023-07-23 15:23:53   \n",
              "1   fraud_Koss, Hansen and Lueilwitz       NaN        NaN 2023-12-13 22:13:50   \n",
              "2                  fraud_Haley Group       NaN        NaN 2023-07-23 23:46:47   \n",
              "3  fraud_Lubowitz, Terry and Stracke       NaN        NaN 2024-01-29 16:45:57   \n",
              "4            fraud_McGlynn-Jaskolski       NaN        NaN 2023-06-18 04:16:14   \n",
              "\n",
              "   feriado  \n",
              "0        0  \n",
              "1        0  \n",
              "2        0  \n",
              "3        0  \n",
              "4        0  \n",
              "\n",
              "[5 rows x 28 columns]"
            ],
            "text/html": [
              "\n",
              "  <div id=\"df-f17b36fc-05b3-4ce1-82e0-4156e9d823a9\" class=\"colab-df-container\">\n",
              "    <div>\n",
              "<style scoped>\n",
              "    .dataframe tbody tr th:only-of-type {\n",
              "        vertical-align: middle;\n",
              "    }\n",
              "\n",
              "    .dataframe tbody tr th {\n",
              "        vertical-align: top;\n",
              "    }\n",
              "\n",
              "    .dataframe thead th {\n",
              "        text-align: right;\n",
              "    }\n",
              "</style>\n",
              "<table border=\"1\" class=\"dataframe\">\n",
              "  <thead>\n",
              "    <tr style=\"text-align: right;\">\n",
              "      <th></th>\n",
              "      <th>ssn</th>\n",
              "      <th>cc_num</th>\n",
              "      <th>first</th>\n",
              "      <th>last</th>\n",
              "      <th>gender</th>\n",
              "      <th>street</th>\n",
              "      <th>city</th>\n",
              "      <th>state</th>\n",
              "      <th>zip</th>\n",
              "      <th>lat</th>\n",
              "      <th>...</th>\n",
              "      <th>trans_time</th>\n",
              "      <th>unix_time</th>\n",
              "      <th>category</th>\n",
              "      <th>amt</th>\n",
              "      <th>is_fraud</th>\n",
              "      <th>merchant</th>\n",
              "      <th>merch_lat</th>\n",
              "      <th>merch_long</th>\n",
              "      <th>trans_date_time</th>\n",
              "      <th>feriado</th>\n",
              "    </tr>\n",
              "  </thead>\n",
              "  <tbody>\n",
              "    <tr>\n",
              "      <th>0</th>\n",
              "      <td>176-11-8190</td>\n",
              "      <td>6591803397401489</td>\n",
              "      <td>Justin</td>\n",
              "      <td>Johnson</td>\n",
              "      <td>M</td>\n",
              "      <td>39261 Martin Garden Suite 856</td>\n",
              "      <td>Murrieta</td>\n",
              "      <td>CA</td>\n",
              "      <td>NaN</td>\n",
              "      <td>33.57</td>\n",
              "      <td>...</td>\n",
              "      <td>15:23:53</td>\n",
              "      <td>1.690137e+09</td>\n",
              "      <td>misc_pos</td>\n",
              "      <td>2.27</td>\n",
              "      <td>0.0</td>\n",
              "      <td>fraud_Thiel PLC</td>\n",
              "      <td>NaN</td>\n",
              "      <td>NaN</td>\n",
              "      <td>2023-07-23 15:23:53</td>\n",
              "      <td>0</td>\n",
              "    </tr>\n",
              "    <tr>\n",
              "      <th>1</th>\n",
              "      <td>481-92-6127</td>\n",
              "      <td>4772233060463333</td>\n",
              "      <td>Andrea</td>\n",
              "      <td>Ho</td>\n",
              "      <td>F</td>\n",
              "      <td>757 Ronald Trail Apt. 965</td>\n",
              "      <td>Ontario</td>\n",
              "      <td>CA</td>\n",
              "      <td>NaN</td>\n",
              "      <td>34.08</td>\n",
              "      <td>...</td>\n",
              "      <td>22:13:50</td>\n",
              "      <td>1.702516e+09</td>\n",
              "      <td>home</td>\n",
              "      <td>10.52</td>\n",
              "      <td>0.0</td>\n",
              "      <td>fraud_Koss, Hansen and Lueilwitz</td>\n",
              "      <td>NaN</td>\n",
              "      <td>NaN</td>\n",
              "      <td>2023-12-13 22:13:50</td>\n",
              "      <td>0</td>\n",
              "    </tr>\n",
              "    <tr>\n",
              "      <th>2</th>\n",
              "      <td>849-66-8722</td>\n",
              "      <td>30470551694093</td>\n",
              "      <td>John</td>\n",
              "      <td>Coffey</td>\n",
              "      <td>M</td>\n",
              "      <td>097 Alexandria Stravenue</td>\n",
              "      <td>Lancaster</td>\n",
              "      <td>CA</td>\n",
              "      <td>NaN</td>\n",
              "      <td>34.69</td>\n",
              "      <td>...</td>\n",
              "      <td>23:46:47</td>\n",
              "      <td>1.690167e+09</td>\n",
              "      <td>misc_pos</td>\n",
              "      <td>149.01</td>\n",
              "      <td>0.0</td>\n",
              "      <td>fraud_Haley Group</td>\n",
              "      <td>NaN</td>\n",
              "      <td>NaN</td>\n",
              "      <td>2023-07-23 23:46:47</td>\n",
              "      <td>0</td>\n",
              "    </tr>\n",
              "    <tr>\n",
              "      <th>3</th>\n",
              "      <td>392-97-2182</td>\n",
              "      <td>4189092753269739</td>\n",
              "      <td>Angelica</td>\n",
              "      <td>Garcia</td>\n",
              "      <td>F</td>\n",
              "      <td>656 Moody Gateway</td>\n",
              "      <td>Carson City</td>\n",
              "      <td>NV</td>\n",
              "      <td>NaN</td>\n",
              "      <td>39.17</td>\n",
              "      <td>...</td>\n",
              "      <td>16:45:57</td>\n",
              "      <td>1.706558e+09</td>\n",
              "      <td>personal_care</td>\n",
              "      <td>32.01</td>\n",
              "      <td>0.0</td>\n",
              "      <td>fraud_Lubowitz, Terry and Stracke</td>\n",
              "      <td>NaN</td>\n",
              "      <td>NaN</td>\n",
              "      <td>2024-01-29 16:45:57</td>\n",
              "      <td>0</td>\n",
              "    </tr>\n",
              "    <tr>\n",
              "      <th>4</th>\n",
              "      <td>742-37-0405</td>\n",
              "      <td>180088770435813</td>\n",
              "      <td>Travis</td>\n",
              "      <td>Jackson</td>\n",
              "      <td>M</td>\n",
              "      <td>133 Houston Ford</td>\n",
              "      <td>Rochester</td>\n",
              "      <td>NY</td>\n",
              "      <td>NaN</td>\n",
              "      <td>43.17</td>\n",
              "      <td>...</td>\n",
              "      <td>04:16:14</td>\n",
              "      <td>1.687073e+09</td>\n",
              "      <td>misc_pos</td>\n",
              "      <td>137.31</td>\n",
              "      <td>0.0</td>\n",
              "      <td>fraud_McGlynn-Jaskolski</td>\n",
              "      <td>NaN</td>\n",
              "      <td>NaN</td>\n",
              "      <td>2023-06-18 04:16:14</td>\n",
              "      <td>0</td>\n",
              "    </tr>\n",
              "  </tbody>\n",
              "</table>\n",
              "<p>5 rows × 28 columns</p>\n",
              "</div>\n",
              "    <div class=\"colab-df-buttons\">\n",
              "\n",
              "  <div class=\"colab-df-container\">\n",
              "    <button class=\"colab-df-convert\" onclick=\"convertToInteractive('df-f17b36fc-05b3-4ce1-82e0-4156e9d823a9')\"\n",
              "            title=\"Convert this dataframe to an interactive table.\"\n",
              "            style=\"display:none;\">\n",
              "\n",
              "  <svg xmlns=\"http://www.w3.org/2000/svg\" height=\"24px\" viewBox=\"0 -960 960 960\">\n",
              "    <path d=\"M120-120v-720h720v720H120Zm60-500h600v-160H180v160Zm220 220h160v-160H400v160Zm0 220h160v-160H400v160ZM180-400h160v-160H180v160Zm440 0h160v-160H620v160ZM180-180h160v-160H180v160Zm440 0h160v-160H620v160Z\"/>\n",
              "  </svg>\n",
              "    </button>\n",
              "\n",
              "  <style>\n",
              "    .colab-df-container {\n",
              "      display:flex;\n",
              "      gap: 12px;\n",
              "    }\n",
              "\n",
              "    .colab-df-convert {\n",
              "      background-color: #E8F0FE;\n",
              "      border: none;\n",
              "      border-radius: 50%;\n",
              "      cursor: pointer;\n",
              "      display: none;\n",
              "      fill: #1967D2;\n",
              "      height: 32px;\n",
              "      padding: 0 0 0 0;\n",
              "      width: 32px;\n",
              "    }\n",
              "\n",
              "    .colab-df-convert:hover {\n",
              "      background-color: #E2EBFA;\n",
              "      box-shadow: 0px 1px 2px rgba(60, 64, 67, 0.3), 0px 1px 3px 1px rgba(60, 64, 67, 0.15);\n",
              "      fill: #174EA6;\n",
              "    }\n",
              "\n",
              "    .colab-df-buttons div {\n",
              "      margin-bottom: 4px;\n",
              "    }\n",
              "\n",
              "    [theme=dark] .colab-df-convert {\n",
              "      background-color: #3B4455;\n",
              "      fill: #D2E3FC;\n",
              "    }\n",
              "\n",
              "    [theme=dark] .colab-df-convert:hover {\n",
              "      background-color: #434B5C;\n",
              "      box-shadow: 0px 1px 3px 1px rgba(0, 0, 0, 0.15);\n",
              "      filter: drop-shadow(0px 1px 2px rgba(0, 0, 0, 0.3));\n",
              "      fill: #FFFFFF;\n",
              "    }\n",
              "  </style>\n",
              "\n",
              "    <script>\n",
              "      const buttonEl =\n",
              "        document.querySelector('#df-f17b36fc-05b3-4ce1-82e0-4156e9d823a9 button.colab-df-convert');\n",
              "      buttonEl.style.display =\n",
              "        google.colab.kernel.accessAllowed ? 'block' : 'none';\n",
              "\n",
              "      async function convertToInteractive(key) {\n",
              "        const element = document.querySelector('#df-f17b36fc-05b3-4ce1-82e0-4156e9d823a9');\n",
              "        const dataTable =\n",
              "          await google.colab.kernel.invokeFunction('convertToInteractive',\n",
              "                                                    [key], {});\n",
              "        if (!dataTable) return;\n",
              "\n",
              "        const docLinkHtml = 'Like what you see? Visit the ' +\n",
              "          '<a target=\"_blank\" href=https://colab.research.google.com/notebooks/data_table.ipynb>data table notebook</a>'\n",
              "          + ' to learn more about interactive tables.';\n",
              "        element.innerHTML = '';\n",
              "        dataTable['output_type'] = 'display_data';\n",
              "        await google.colab.output.renderOutput(dataTable, element);\n",
              "        const docLink = document.createElement('div');\n",
              "        docLink.innerHTML = docLinkHtml;\n",
              "        element.appendChild(docLink);\n",
              "      }\n",
              "    </script>\n",
              "  </div>\n",
              "\n",
              "\n",
              "<div id=\"df-958ec3b7-8c7e-4ef4-a4b6-2de8a3831b19\">\n",
              "  <button class=\"colab-df-quickchart\" onclick=\"quickchart('df-958ec3b7-8c7e-4ef4-a4b6-2de8a3831b19')\"\n",
              "            title=\"Suggest charts\"\n",
              "            style=\"display:none;\">\n",
              "\n",
              "<svg xmlns=\"http://www.w3.org/2000/svg\" height=\"24px\"viewBox=\"0 0 24 24\"\n",
              "     width=\"24px\">\n",
              "    <g>\n",
              "        <path d=\"M19 3H5c-1.1 0-2 .9-2 2v14c0 1.1.9 2 2 2h14c1.1 0 2-.9 2-2V5c0-1.1-.9-2-2-2zM9 17H7v-7h2v7zm4 0h-2V7h2v10zm4 0h-2v-4h2v4z\"/>\n",
              "    </g>\n",
              "</svg>\n",
              "  </button>\n",
              "\n",
              "<style>\n",
              "  .colab-df-quickchart {\n",
              "      --bg-color: #E8F0FE;\n",
              "      --fill-color: #1967D2;\n",
              "      --hover-bg-color: #E2EBFA;\n",
              "      --hover-fill-color: #174EA6;\n",
              "      --disabled-fill-color: #AAA;\n",
              "      --disabled-bg-color: #DDD;\n",
              "  }\n",
              "\n",
              "  [theme=dark] .colab-df-quickchart {\n",
              "      --bg-color: #3B4455;\n",
              "      --fill-color: #D2E3FC;\n",
              "      --hover-bg-color: #434B5C;\n",
              "      --hover-fill-color: #FFFFFF;\n",
              "      --disabled-bg-color: #3B4455;\n",
              "      --disabled-fill-color: #666;\n",
              "  }\n",
              "\n",
              "  .colab-df-quickchart {\n",
              "    background-color: var(--bg-color);\n",
              "    border: none;\n",
              "    border-radius: 50%;\n",
              "    cursor: pointer;\n",
              "    display: none;\n",
              "    fill: var(--fill-color);\n",
              "    height: 32px;\n",
              "    padding: 0;\n",
              "    width: 32px;\n",
              "  }\n",
              "\n",
              "  .colab-df-quickchart:hover {\n",
              "    background-color: var(--hover-bg-color);\n",
              "    box-shadow: 0 1px 2px rgba(60, 64, 67, 0.3), 0 1px 3px 1px rgba(60, 64, 67, 0.15);\n",
              "    fill: var(--button-hover-fill-color);\n",
              "  }\n",
              "\n",
              "  .colab-df-quickchart-complete:disabled,\n",
              "  .colab-df-quickchart-complete:disabled:hover {\n",
              "    background-color: var(--disabled-bg-color);\n",
              "    fill: var(--disabled-fill-color);\n",
              "    box-shadow: none;\n",
              "  }\n",
              "\n",
              "  .colab-df-spinner {\n",
              "    border: 2px solid var(--fill-color);\n",
              "    border-color: transparent;\n",
              "    border-bottom-color: var(--fill-color);\n",
              "    animation:\n",
              "      spin 1s steps(1) infinite;\n",
              "  }\n",
              "\n",
              "  @keyframes spin {\n",
              "    0% {\n",
              "      border-color: transparent;\n",
              "      border-bottom-color: var(--fill-color);\n",
              "      border-left-color: var(--fill-color);\n",
              "    }\n",
              "    20% {\n",
              "      border-color: transparent;\n",
              "      border-left-color: var(--fill-color);\n",
              "      border-top-color: var(--fill-color);\n",
              "    }\n",
              "    30% {\n",
              "      border-color: transparent;\n",
              "      border-left-color: var(--fill-color);\n",
              "      border-top-color: var(--fill-color);\n",
              "      border-right-color: var(--fill-color);\n",
              "    }\n",
              "    40% {\n",
              "      border-color: transparent;\n",
              "      border-right-color: var(--fill-color);\n",
              "      border-top-color: var(--fill-color);\n",
              "    }\n",
              "    60% {\n",
              "      border-color: transparent;\n",
              "      border-right-color: var(--fill-color);\n",
              "    }\n",
              "    80% {\n",
              "      border-color: transparent;\n",
              "      border-right-color: var(--fill-color);\n",
              "      border-bottom-color: var(--fill-color);\n",
              "    }\n",
              "    90% {\n",
              "      border-color: transparent;\n",
              "      border-bottom-color: var(--fill-color);\n",
              "    }\n",
              "  }\n",
              "</style>\n",
              "\n",
              "  <script>\n",
              "    async function quickchart(key) {\n",
              "      const quickchartButtonEl =\n",
              "        document.querySelector('#' + key + ' button');\n",
              "      quickchartButtonEl.disabled = true;  // To prevent multiple clicks.\n",
              "      quickchartButtonEl.classList.add('colab-df-spinner');\n",
              "      try {\n",
              "        const charts = await google.colab.kernel.invokeFunction(\n",
              "            'suggestCharts', [key], {});\n",
              "      } catch (error) {\n",
              "        console.error('Error during call to suggestCharts:', error);\n",
              "      }\n",
              "      quickchartButtonEl.classList.remove('colab-df-spinner');\n",
              "      quickchartButtonEl.classList.add('colab-df-quickchart-complete');\n",
              "    }\n",
              "    (() => {\n",
              "      let quickchartButtonEl =\n",
              "        document.querySelector('#df-958ec3b7-8c7e-4ef4-a4b6-2de8a3831b19 button');\n",
              "      quickchartButtonEl.style.display =\n",
              "        google.colab.kernel.accessAllowed ? 'block' : 'none';\n",
              "    })();\n",
              "  </script>\n",
              "</div>\n",
              "\n",
              "    </div>\n",
              "  </div>\n"
            ],
            "application/vnd.google.colaboratory.intrinsic+json": {
              "type": "dataframe",
              "variable_name": "treino"
            }
          },
          "metadata": {},
          "execution_count": 82
        }
      ],
      "source": [
        "# import holidays\n",
        "feriados_usa = holidays.UnitedStates() # Pegando os dias que são feriados nos EUA\n",
        "\n",
        "# Criando uma função para verificar se aquela data é um feriado.\n",
        "def e_feriado(data):\n",
        "    return 1 if data in feriados_usa else 0\n",
        "\n",
        "# Aplicando a função para verificar se cada data na coluna 'trans_date_time' é um feriado\n",
        "treino['feriado'] = treino['trans_date_time'].apply(e_feriado)\n",
        "\n",
        "# Exibindo o resultado com a nosta nova coluna criada \"feriado\"\n",
        "treino.head()"
      ]
    },
    {
      "cell_type": "code",
      "execution_count": null,
      "metadata": {
        "colab": {
          "base_uri": "https://localhost:8080/"
        },
        "id": "WmZ0OSI9gC1_",
        "outputId": "790faf85-6c49-419f-de0f-cced1abbb04b"
      },
      "outputs": [
        {
          "output_type": "stream",
          "name": "stdout",
          "text": [
            "Horário em que as fraudes mais ocorreram:\n",
            "22    377\n",
            "23    369\n",
            "3     155\n",
            "0     137\n",
            "1     135\n",
            "2     127\n",
            "12     20\n",
            "14     19\n",
            "15     18\n",
            "16     17\n",
            "10     16\n",
            "20     16\n",
            "13     16\n",
            "21     12\n",
            "19     12\n",
            "6      11\n",
            "8      11\n",
            "9      10\n",
            "18     10\n",
            "17     10\n",
            "7       9\n",
            "5       9\n",
            "11      7\n",
            "4       5\n",
            "Name: trans_date_time, dtype: int64\n"
          ]
        }
      ],
      "source": [
        "# Filtrando o dataframe para apenas dados de fraude\n",
        "fraudes = treino[treino['is_fraud'] == 1]\n",
        "\n",
        "# Verificando os horários que mais ocorrem as fraudes.\n",
        "horario_fraudes = fraudes['trans_date_time'].dt.hour\n",
        "\n",
        "# Contando os valores de fraudes que ocorrem por hora.\n",
        "contagem_fraudes_por_hora = horario_fraudes.value_counts()\n",
        "\n",
        "# Exibindo o horário em que as fraudes mais ocorrem.\n",
        "print('Horário em que as fraudes mais ocorreram:')\n",
        "print(contagem_fraudes_por_hora)"
      ]
    },
    {
      "cell_type": "code",
      "execution_count": null,
      "metadata": {
        "colab": {
          "base_uri": "https://localhost:8080/",
          "height": 565
        },
        "id": "z3-3NiXGiJyD",
        "outputId": "521ad712-f1e2-448f-d5b9-9a8739a9ffa0"
      },
      "outputs": [
        {
          "output_type": "display_data",
          "data": {
            "text/plain": [
              "<Figure size 1000x600 with 1 Axes>"
            ],
            "image/png": "[encoded data removed]"
          },
          "metadata": {}
        }
      ],
      "source": [
        "plt.figure(figsize=(10, 6))\n",
        "sns.countplot(data=fraudes, x=fraudes['trans_date_time'].dt.hour, color='blue')\n",
        "plt.xlabel('Hora do Dia')\n",
        "plt.ylabel('Número de Transações Fraudulentas')\n",
        "plt.title('Distribuição Horária de Transações Fraudulentas')\n",
        "plt.xticks(range(24))\n",
        "plt.grid(axis='y', linestyle='--', alpha=0.5)\n",
        "plt.show()"
      ]
    },
    {
      "cell_type": "code",
      "execution_count": null,
      "metadata": {
        "colab": {
          "base_uri": "https://localhost:8080/"
        },
        "id": "XzX0130hkcK3",
        "outputId": "c4ee17e7-1e90-4940-bf5c-d5593301c1e8"
      },
      "outputs": [
        {
          "output_type": "stream",
          "name": "stdout",
          "text": [
            "Dia em que as fraudes mais ocorreram:\n",
            "Sunday       270\n",
            "Friday       257\n",
            "Tuesday      221\n",
            "Saturday     215\n",
            "Monday       189\n",
            "Wednesday    189\n",
            "Thursday     187\n",
            "Name: trans_date_time, dtype: int64\n"
          ]
        }
      ],
      "source": [
        "dia_fraudes = fraudes['trans_date_time'].dt.day_name()\n",
        "\n",
        "contagem_fraudes_por_dia = dia_fraudes.value_counts()\n",
        "\n",
        "print(\"Dia em que as fraudes mais ocorreram:\")\n",
        "print(contagem_fraudes_por_dia)"
      ]
    },
    {
      "cell_type": "code",
      "execution_count": null,
      "metadata": {
        "colab": {
          "base_uri": "https://localhost:8080/",
          "height": 617
        },
        "id": "nQn-XNTpiZs1",
        "outputId": "36eb922f-d229-4968-be34-63f0efd0e64b"
      },
      "outputs": [
        {
          "output_type": "display_data",
          "data": {
            "text/plain": [
              "<Figure size 1000x600 with 1 Axes>"
            ],
            "image/png": "[encoded data removed]"
          },
          "metadata": {}
        }
      ],
      "source": [
        "# Organizando a ordem que os dias da semana irão aparecer\n",
        "ordem_dias_semana = ['Sunday', 'Monday', 'Tuesday', 'Wednesday', 'Thursday', 'Friday', 'Saturday']\n",
        "\n",
        "# Plotando o gráfico\n",
        "plt.figure(figsize=(10, 6))\n",
        "sns.countplot(data=fraudes, x=fraudes['trans_date_time'].dt.day_name(), order=ordem_dias_semana, color='blue')\n",
        "plt.xlabel('Dia da Semana')\n",
        "plt.ylabel('Número de Transações Fraudulentas')\n",
        "plt.title('Distribuição Diária de Transações Fraudulentas')\n",
        "plt.xticks(rotation=45)\n",
        "plt.grid(axis='y', linestyle='--', alpha=0.5)\n",
        "plt.show()"
      ]
    },
    {
      "cell_type": "code",
      "execution_count": null,
      "metadata": {
        "colab": {
          "base_uri": "https://localhost:8080/"
        },
        "id": "tQs4LraClRaU",
        "outputId": "d956b2c0-58cd-4a16-e509-d5950a4075c7"
      },
      "outputs": [
        {
          "output_type": "stream",
          "name": "stdout",
          "text": [
            "Mês em que as fraudes mais ocorreram:\n",
            "July         226\n",
            "December     159\n",
            "April        153\n",
            "August       145\n",
            "October      145\n",
            "May          123\n",
            "September    119\n",
            "January      111\n",
            "November     105\n",
            "February      83\n",
            "March         81\n",
            "June          78\n",
            "Name: trans_date_time, dtype: int64\n"
          ]
        }
      ],
      "source": [
        "# Separando os meses que mais ocorreram fraudes\n",
        "mes_fraudes = fraudes['trans_date_time'].dt.month_name()\n",
        "\n",
        "# Contando os valores que as fraudes aparecem\n",
        "contagem_fraudes_por_mes = mes_fraudes.value_counts()\n",
        "\n",
        "# Exibindo o mês que as fraudes mais ocorrem\n",
        "print('Mês em que as fraudes mais ocorreram:')\n",
        "print(contagem_fraudes_por_mes)"
      ]
    },
    {
      "cell_type": "code",
      "execution_count": null,
      "metadata": {
        "colab": {
          "base_uri": "https://localhost:8080/",
          "height": 823
        },
        "id": "wevVhq8Nj5uu",
        "outputId": "0a43cb3a-58e3-4df6-ac00-e1c0458f9743"
      },
      "outputs": [
        {
          "output_type": "stream",
          "name": "stderr",
          "text": [
            "<ipython-input-95-1d5f6af5f059>:2: SettingWithCopyWarning: \n",
            "A value is trying to be set on a copy of a slice from a DataFrame.\n",
            "Try using .loc[row_indexer,col_indexer] = value instead\n",
            "\n",
            "See the caveats in the documentation: https://pandas.pydata.org/pandas-docs/stable/user_guide/indexing.html#returning-a-view-versus-a-copy\n",
            "  fraudes['ano_mes_str'] = fraudes['trans_date_time'].dt.to_period('M').astype(str)\n",
            "<ipython-input-95-1d5f6af5f059>:5: SettingWithCopyWarning: \n",
            "A value is trying to be set on a copy of a slice from a DataFrame.\n",
            "Try using .loc[row_indexer,col_indexer] = value instead\n",
            "\n",
            "See the caveats in the documentation: https://pandas.pydata.org/pandas-docs/stable/user_guide/indexing.html#returning-a-view-versus-a-copy\n",
            "  fraudes['ano_mes_period'] = pd.to_datetime(fraudes['ano_mes_str']).dt.to_period('M')\n"
          ]
        },
        {
          "output_type": "display_data",
          "data": {
            "text/plain": [
              "<Figure size 1000x600 with 1 Axes>"
            ],
            "image/png": "[encoded data removed]"
          },
          "metadata": {}
        }
      ],
      "source": [
        "# Convertendo os valores de Period para strings\n",
        "fraudes['ano_mes_str'] = fraudes['trans_date_time'].dt.to_period('M').astype(str)\n",
        "\n",
        "# Convertendo os valores de string de volta para objetos Period\n",
        "fraudes['ano_mes_period'] = pd.to_datetime(fraudes['ano_mes_str']).dt.to_period('M')\n",
        "\n",
        "# Ordenando o dataframe com base no período\n",
        "fraudes_sort = fraudes.sort_values('ano_mes_period')\n",
        "\n",
        "# Plotando o histograma com os valores convertidos para strings\n",
        "plt.figure(figsize=(10, 6))\n",
        "sns.countplot(data=fraudes_sort, x = 'ano_mes_period', color='blue')\n",
        "plt.xlabel('Ano e Mês')\n",
        "plt.ylabel('Número de Transações Fraudulentas')\n",
        "plt.title('Distribuição Mensal de Transações Fraudulentas')\n",
        "plt.xticks(rotation=35)\n",
        "plt.grid(axis='y', linestyle='--', alpha=0.5)\n",
        "plt.show()"
      ]
    },
    {
      "cell_type": "code",
      "execution_count": null,
      "metadata": {
        "colab": {
          "base_uri": "https://localhost:8080/"
        },
        "id": "dOpbPIgW4zbw",
        "outputId": "ead38ae2-d140-4e9e-d0d9-305aa13f41b2"
      },
      "outputs": [
        {
          "output_type": "stream",
          "name": "stdout",
          "text": [
            "Datas com fraudes, em ordem decrescente:\n",
            "2023-03-12    25\n",
            "2024-03-01    24\n",
            "2023-12-15    22\n",
            "2023-12-30    19\n",
            "2023-07-30    18\n",
            "2023-11-30    17\n",
            "2023-07-27    17\n",
            "2023-10-04    17\n",
            "2023-08-20    17\n",
            "2023-08-13    17\n",
            "2023-07-18    16\n",
            "2024-01-14    16\n",
            "2023-07-28    15\n",
            "2023-04-02    15\n",
            "2023-08-05    15\n",
            "2023-12-29    14\n",
            "2023-06-02    13\n",
            "2023-07-10    13\n",
            "2023-07-16    13\n",
            "2023-11-03    13\n",
            "Name: data, dtype: int64\n"
          ]
        },
        {
          "output_type": "stream",
          "name": "stderr",
          "text": [
            "<ipython-input-97-0362a4c54791>:2: SettingWithCopyWarning: \n",
            "A value is trying to be set on a copy of a slice from a DataFrame.\n",
            "Try using .loc[row_indexer,col_indexer] = value instead\n",
            "\n",
            "See the caveats in the documentation: https://pandas.pydata.org/pandas-docs/stable/user_guide/indexing.html#returning-a-view-versus-a-copy\n",
            "  fraudes['data'] = fraudes['trans_date_time'].dt.date\n"
          ]
        }
      ],
      "source": [
        "# Criando uma nova coluna \"data\"\n",
        "fraudes['data'] = fraudes['trans_date_time'].dt.date\n",
        "\n",
        "# Contando as datas que são fraudes\n",
        "datas_fraudulentas = fraudes['data'].value_counts()\n",
        "\n",
        "# Exibindo as 20 datas que mais ocorreram fraudes.\n",
        "print('Datas com fraudes, em ordem decrescente:')\n",
        "print(datas_fraudulentas.head(20))"
      ]
    },
    {
      "cell_type": "code",
      "execution_count": null,
      "metadata": {
        "colab": {
          "base_uri": "https://localhost:8080/"
        },
        "id": "MfLkaine5jNf",
        "outputId": "cfe1ef0f-4456-4f17-ffc9-5af2121472d0"
      },
      "outputs": [
        {
          "output_type": "stream",
          "name": "stdout",
          "text": [
            "Dias de fraude que são feriados:\n",
            "[datetime.date(2023, 7, 4), datetime.date(2023, 10, 9), datetime.date(2023, 11, 11), datetime.date(2023, 11, 23), datetime.date(2024, 1, 15), datetime.date(2023, 9, 4), datetime.date(2024, 2, 19), datetime.date(2023, 12, 25)]\n"
          ]
        }
      ],
      "source": [
        "# Verificando se cada data com fraudes é um feriado\n",
        "feriados_fraude = [data for data in datas_fraudulentas.index if data in feriados_usa]\n",
        "\n",
        "# Exibindo os feriados que ocorreram fraudes.\n",
        "print('Dias de fraude que são feriados:')\n",
        "print(feriados_fraude)"
      ]
    },
    {
      "cell_type": "code",
      "execution_count": null,
      "metadata": {
        "colab": {
          "base_uri": "https://localhost:8080/"
        },
        "id": "pADCjxpC6AzQ",
        "outputId": "6592fa44-a6e5-4e47-d6a7-248f0886d857"
      },
      "outputs": [
        {
          "output_type": "stream",
          "name": "stdout",
          "text": [
            "Total de fraudes ocorridas nos feriados: 28\n"
          ]
        }
      ],
      "source": [
        "# Filtrando as transações que são fraudes para incluir apenas aquelas que ocorreram em feriados\n",
        "fraudes_nos_feriados = fraudes[fraudes['trans_date_time'].dt.date.isin(feriados_fraude)]\n",
        "\n",
        "# Contando o número de fraudes nos feriados\n",
        "total_fraudes_nos_feriados = fraudes_nos_feriados.shape[0]\n",
        "\n",
        "# Exibindo o total de fraudes nos feriados\n",
        "print('Total de fraudes ocorridas nos feriados:', total_fraudes_nos_feriados)"
      ]
    },
    {
      "cell_type": "markdown",
      "metadata": {
        "id": "2dVgWi_HhVyq"
      },
      "source": [
        "Vemos então o mês, o dia da semana e as horas em que as fraudes mais ocorreram.\n",
        "Podemos notar que as fraudes ocorrem majoritariamente no período da noite. Durante o período de 22:00 horas até 03:00 horas é onde está o pico de fraudes.\n",
        "\n",
        "Os dias que mais ocorrem fraudes, na ordem, são: Domingo (270 fraudes), Sexta (257 fraudes), Terça (221 fraudes), Sábado (215 fraudes), Segunda (189 fraudes), Quarta-feira (189 fraudes) e Quinta-feira (187 fraudes)\n",
        "\n",
        "O mês de Julho é o mês em que as fraúdes também mais ocorrem, de acordo com os nossos dados. No mês de Julho foram registradas 226 fraudes. Em segundo lugar, aparece Dezembro com 159 fraudes e em terceiro lugar aparece abril com 153 fraudes. O mês que menos ocorreu fraudes foi Junho.\n",
        "\n",
        "**Sugestão ao banco:** Uma possível sugestão seria aumentar a segurança na madrugada das transações bancárias, principalmente aos domingos. E durante o mês do Julho fortificar ainda mais a segurança, pois é o mês em que mais ocorrem fraudes. Uma explicação para que o mês de julho mais ocorra fraudes talvez seja pelo \"Summer Vacation\""
      ]
    },
    {
      "cell_type": "code",
      "execution_count": null,
      "metadata": {
        "colab": {
          "base_uri": "https://localhost:8080/"
        },
        "id": "YoGbb2iJsCEE",
        "outputId": "36b3465e-851a-43fb-b721-09a0746dcca5"
      },
      "outputs": [
        {
          "output_type": "stream",
          "name": "stdout",
          "text": [
            "Fraudes por cidades:\n",
            "Miami            31\n",
            "Seattle          23\n",
            "Riverside        21\n",
            "Saint Louis      20\n",
            "New York City    19\n",
            "Peoria           18\n",
            "Chandler         18\n",
            "Denver           17\n",
            "Montgomery       16\n",
            "Bronx            15\n",
            "Name: city, dtype: int64\n"
          ]
        }
      ],
      "source": [
        "# Separando as fraudes por cidades\n",
        "fraude_por_cidade = fraudes['city']\n",
        "\n",
        "#Exibindo as 10 primeiras cidades com mais fraudes\n",
        "print('Fraudes por cidades:')\n",
        "print(fraude_por_cidade.value_counts().head(10))"
      ]
    },
    {
      "cell_type": "markdown",
      "metadata": {
        "id": "C2yC2N6ezJ_j"
      },
      "source": [
        "As 5 cidades em que as fraudes mais ocorreram foram, na ordem: Miami        com    31 fraudes,\n",
        "Seattle       com   23 fraudes,\n",
        "Riverside      com  21 fraudes,\n",
        "Saint Louis     com 20 fraudes e\n",
        "New York City   com 19 fraudes."
      ]
    },
    {
      "cell_type": "code",
      "execution_count": null,
      "metadata": {
        "colab": {
          "base_uri": "https://localhost:8080/"
        },
        "id": "vbYlktUAYb1g",
        "outputId": "664c0e89-202d-4667-c7ea-137cf4fc88dc"
      },
      "outputs": [
        {
          "output_type": "stream",
          "name": "stdout",
          "text": [
            "Ruas com o maior número de fraudes:\n",
            "street\n",
            "739 Amy Islands Suite 498          13.0\n",
            "82997 Kristen Valley Suite 311     13.0\n",
            "793 Evans Locks Apt. 898           13.0\n",
            "26916 Carlson Mountain             13.0\n",
            "083 John Lodge Suite 837           12.0\n",
            "3421 Brennan Walks Suite 337       12.0\n",
            "7898 Hamilton Spur Apt. 575        12.0\n",
            "465 Lam Mission                    12.0\n",
            "20347 Shannon Isle Suite 558       12.0\n",
            "9359 Mason Circle                  12.0\n",
            "904 Jay Rest Suite 723             12.0\n",
            "2102 Larson Views                  11.0\n",
            "108 Hoffman Ranch Suite 417        11.0\n",
            "17797 Melissa Mission Suite 170    11.0\n",
            "490 Thomas Run                     11.0\n",
            "406 Smith Way Apt. 974             11.0\n",
            "4064 Laura Plaza Suite 368         11.0\n",
            "67165 Zimmerman Mews Apt. 849      11.0\n",
            "1452 Christopher Squares           11.0\n",
            "688 Stephens Turnpike Suite 891    11.0\n",
            "Name: is_fraud, dtype: float64\n"
          ]
        }
      ],
      "source": [
        "# Agrupando a rua pelas fraudes e fazendo a soma deste valor\n",
        "fraudes_por_rua = treino.groupby('street')['is_fraud'].sum()\n",
        "\n",
        "# Ordenando pela ordem decrescente\n",
        "fraudes_por_rua = fraudes_por_rua.sort_values(ascending=False)\n",
        "\n",
        "# Exibindo as ruas que mais ocorreram fraudes\n",
        "print('Ruas com o maior número de fraudes:')\n",
        "print(fraudes_por_rua.head(20))"
      ]
    },
    {
      "cell_type": "code",
      "execution_count": null,
      "metadata": {
        "colab": {
          "base_uri": "https://localhost:8080/"
        },
        "id": "wSVgwXQcZbCp",
        "outputId": "e5d3937c-cb89-4e81-ac4d-5a0b0352891d"
      },
      "outputs": [
        {
          "output_type": "stream",
          "name": "stdout",
          "text": [
            "Principais comerciantes com o maior número de fraudes:\n",
            "fraud_Murray-Smitham                  13\n",
            "fraud_Goldner, Kovacek and Abbott     12\n",
            "fraud_Mohr-Bayer                      12\n",
            "fraud_Fisher Inc                      12\n",
            "fraud_Reichert, Shanahan and Hayes    11\n",
            "fraud_Bailey-Morar                    11\n",
            "fraud_Ankunding LLC                   11\n",
            "fraud_Casper, Hand and Zulauf         11\n",
            "fraud_Vandervort-Funk                 11\n",
            "fraud_Bashirian Group                 11\n",
            "Name: merchant, dtype: int64\n"
          ]
        }
      ],
      "source": [
        "# Contando fraudes que ocorreram por cada comerciante\n",
        "fraudes_por_comerciante = fraudes['merchant'].value_counts()\n",
        "\n",
        "# Ordenando pela ordem decrescente\n",
        "fraudes_por_comerciante = fraudes_por_comerciante.sort_values(ascending=False)\n",
        "\n",
        "# Exibindo os 10 principais comerciantes com o maior número de fraudes\n",
        "print('Principais comerciantes com o maior número de fraudes:')\n",
        "print(fraudes_por_comerciante.head(10))"
      ]
    },
    {
      "cell_type": "code",
      "source": [
        "sns.boxplot(y = 'amt', data = treino.query('amt <= 1500'))"
      ],
      "metadata": {
        "colab": {
          "base_uri": "https://localhost:8080/",
          "height": 428
        },
        "id": "dAjL0oxuF6nU",
        "outputId": "b538f8ee-49e2-4ce6-8d88-643b5f193f27"
      },
      "execution_count": null,
      "outputs": [
        {
          "output_type": "execute_result",
          "data": {
            "text/plain": [
              "<Axes: ylabel='amt'>"
            ]
          },
          "metadata": {},
          "execution_count": 109
        },
        {
          "output_type": "display_data",
          "data": {
            "text/plain": [
              "<Figure size 640x480 with 1 Axes>"
            ],
            "image/png": "[encoded data removed]"
          },
          "metadata": {}
        }
      ]
    },
    {
      "cell_type": "code",
      "execution_count": null,
      "metadata": {
        "colab": {
          "base_uri": "https://localhost:8080/",
          "height": 466
        },
        "id": "xX7ca4uatyWa",
        "outputId": "756a212f-728f-4160-80e5-e1033eaab004"
      },
      "outputs": [
        {
          "output_type": "execute_result",
          "data": {
            "text/plain": [
              "<Axes: xlabel='amt', ylabel='Count'>"
            ]
          },
          "metadata": {},
          "execution_count": 105
        },
        {
          "output_type": "display_data",
          "data": {
            "text/plain": [
              "<Figure size 640x480 with 1 Axes>"
            ],
            "image/png": "[encoded data removed]"
          },
          "metadata": {}
        }
      ],
      "source": [
        "sns.histplot(x = 'amt', data = treino.query('amt <= 1500'))"
      ]
    },
    {
      "cell_type": "code",
      "execution_count": null,
      "metadata": {
        "colab": {
          "base_uri": "https://localhost:8080/",
          "height": 466
        },
        "id": "0RGpznN0r4yL",
        "outputId": "4e0e4731-858e-4f02-d2ea-88527c3832c6"
      },
      "outputs": [
        {
          "output_type": "execute_result",
          "data": {
            "text/plain": [
              "<Axes: xlabel='amt', ylabel='Count'>"
            ]
          },
          "metadata": {},
          "execution_count": 106
        },
        {
          "output_type": "display_data",
          "data": {
            "text/plain": [
              "<Figure size 640x480 with 1 Axes>"
            ],
            "image/png": "[encoded data removed]"
          },
          "metadata": {}
        }
      ],
      "source": [
        "sns.histplot(x = 'amt', data = fraudes)"
      ]
    },
    {
      "cell_type": "code",
      "execution_count": null,
      "metadata": {
        "colab": {
          "base_uri": "https://localhost:8080/"
        },
        "id": "9xQUzUBMynWb",
        "outputId": "415fd3da-1691-48f2-d850-72eb01594036"
      },
      "outputs": [
        {
          "output_type": "stream",
          "name": "stdout",
          "text": [
            "====================================================================================================\n",
            "Estatisticas para fraudes\n",
            "count    1528.000000\n",
            "mean      541.451774\n",
            "std       394.373423\n",
            "min         4.610000\n",
            "25%       259.262500\n",
            "50%       472.770000\n",
            "75%       915.385000\n",
            "max      1284.230000\n",
            "Name: amt, dtype: float64\n",
            "====================================================================================================\n",
            "Estatisticas para não fraudes\n",
            "count    142666.000000\n",
            "mean         66.307241\n",
            "std         160.614840\n",
            "min           1.000000\n",
            "25%           8.770000\n",
            "50%          42.275000\n",
            "75%          78.860000\n",
            "max       16879.600000\n",
            "Name: amt, dtype: float64\n",
            "====================================================================================================\n",
            "Teste t para verificar se as médias dos grupos são iguais ou diferentes\n",
            "P-valor: 0.0\n"
          ]
        }
      ],
      "source": [
        "# from scipy.stats import ttest_ind\n",
        "\n",
        "# Filtrando novamente os dados\n",
        "fraudes = treino[treino['is_fraud'] == 1]\n",
        "nao_fraudes = treino[treino['is_fraud'] == 0]\n",
        "\n",
        "estatisticas_fraudes = fraudes['amt']\n",
        "estatisticas_nao_fraudes = nao_fraudes['amt']\n",
        "\n",
        "\n",
        "# Pegando 1500 amostras para cada grupo de fraudes e não fraudes\n",
        "estatisticas_fraudes_n1500 = estatisticas_fraudes.sample(n = 1500, random_state = 42)\n",
        "estatisticas_nao_fraudes_n1500 = estatisticas_nao_fraudes.sample(n = 1500, random_state = 42)\n",
        "\n",
        "# Pegando o p-valor\n",
        "_ , p_valor = ttest_ind(estatisticas_fraudes_n1500, estatisticas_nao_fraudes_n1500)\n",
        "\n",
        "print('=' * 100)\n",
        "print('Estatisticas para fraudes')\n",
        "print(estatisticas_fraudes.describe())\n",
        "print('=' * 100)\n",
        "print('Estatisticas para não fraudes')\n",
        "print(estatisticas_nao_fraudes.describe())\n",
        "print('=' * 100)\n",
        "print('Teste t para verificar se as médias dos grupos são iguais ou diferentes')\n",
        "print('P-valor:', p_valor.round(3))"
      ]
    },
    {
      "cell_type": "markdown",
      "metadata": {
        "id": "cEZ0kfi8rqnQ"
      },
      "source": [
        "As hipóteses são:\n",
        "\n",
        "\n",
        "H0: μ1 = μ2\n",
        "\n",
        "HA: μ1 ≠ μ2\n",
        "\n",
        "Estabelecido um nível de significância de 0.05, vemos que o p-valor é bem próximo de 0, ou seja, rejeitamos a hipótese nula de que as médias são iguais. Portanto, a média da quantidade transacionada para o grupo de não fraudes e o grupo de fraudes são diferentes.\n",
        "\n",
        "E visualizando o gráfico e a sua média, podemos ver que fraudes geralmente ocorrem com uma quantidade transacionada maior."
      ]
    },
    {
      "cell_type": "code",
      "execution_count": null,
      "metadata": {
        "colab": {
          "base_uri": "https://localhost:8080/"
        },
        "id": "bWpO4GIHyMrB",
        "outputId": "e2273776-5edb-46e4-cd32-3ac883267351"
      },
      "outputs": [
        {
          "output_type": "stream",
          "name": "stdout",
          "text": [
            "Categorias de comerciantes com o maior número total de fraudes:\n",
            "category\n",
            "shopping_net      352.0\n",
            "grocery_pos       345.0\n",
            "misc_net          200.0\n",
            "shopping_pos      186.0\n",
            "gas_transport     138.0\n",
            "home               47.0\n",
            "entertainment      43.0\n",
            "kids_pets          40.0\n",
            "misc_pos           39.0\n",
            "personal_care      34.0\n",
            "food_dining        33.0\n",
            "grocery_net        24.0\n",
            "health_fitness     24.0\n",
            "travel             23.0\n",
            "Name: is_fraud, dtype: float64\n"
          ]
        }
      ],
      "source": [
        "# Agrupando a categoria pelo fato de ser fraude ou não\n",
        "fraudes_por_categoria = fraudes.groupby('category')['is_fraud'].sum()\n",
        "\n",
        "# Ordenando em valor decrescente\n",
        "fraudes_por_categoria = fraudes_por_categoria.sort_values(ascending=False)\n",
        "\n",
        "# Exibindo as categorias de comerciantes com o maior número total de fraudes\n",
        "print('Categorias de comerciantes com o maior número total de fraudes:')\n",
        "print(fraudes_por_categoria)"
      ]
    },
    {
      "cell_type": "markdown",
      "source": [
        "Notamos que as categorias de comerciantes que mais houveram fraudes foi shopping_net, grocery_pos, misc_net, shopping_pos e gas_transport."
      ],
      "metadata": {
        "id": "ZFtPVTQIHsN7"
      }
    },
    {
      "cell_type": "code",
      "execution_count": null,
      "metadata": {
        "colab": {
          "base_uri": "https://localhost:8080/"
        },
        "id": "BcXhhO774BBb",
        "outputId": "2dbc67b7-e05c-450f-c965-337c16834920"
      },
      "outputs": [
        {
          "output_type": "stream",
          "name": "stdout",
          "text": [
            "Taxa de fraudes por gênero da pessoa:\n"
          ]
        },
        {
          "output_type": "execute_result",
          "data": {
            "text/plain": [
              "gender\n",
              "F    770.0\n",
              "M    758.0\n",
              "Name: is_fraud, dtype: float64"
            ]
          },
          "metadata": {},
          "execution_count": 112
        }
      ],
      "source": [
        "# Agrupando os gêneros pela fraude\n",
        "taxa_de_fraude_por_genero = fraudes.groupby('gender')['is_fraud'].sum()\n",
        "\n",
        "\n",
        "# Exibindo a taxa de fraudes por gênero\n",
        "print('Taxa de fraudes por gênero da pessoa:')\n",
        "taxa_de_fraude_por_genero"
      ]
    },
    {
      "cell_type": "markdown",
      "metadata": {
        "id": "plE4Ysq54L69"
      },
      "source": [
        "Entre os individuos que houveram fraudes no cartão, não há distinção entre homens e mulheres."
      ]
    },
    {
      "cell_type": "code",
      "execution_count": null,
      "metadata": {
        "colab": {
          "base_uri": "https://localhost:8080/"
        },
        "id": "l563mgy12-CX",
        "outputId": "2baf4fbd-4e44-4c23-a534-3a35020fc9ce"
      },
      "outputs": [
        {
          "output_type": "stream",
          "name": "stdout",
          "text": [
            "Taxa de fraudes por gênero da pessoa:\n",
            "Social research officer, government                  30\n",
            "Therapist, speech and language                       21\n",
            "Emergency planning/management officer                20\n",
            "Recycling officer                                    19\n",
            "Engineer, civil (contracting)                        18\n",
            "Quarry manager                                       18\n",
            "Paediatric nurse                                     18\n",
            "Sports development officer                           18\n",
            "Clothing/textile technologist                        18\n",
            "Accounting technician                                18\n",
            "Accountant, chartered certified                      17\n",
            "Statistician                                         17\n",
            "Historic buildings inspector/conservation officer    17\n",
            "Retail buyer                                         17\n",
            "Product manager                                      15\n",
            "General practice doctor                              15\n",
            "Chartered accountant                                 14\n",
            "Health and safety inspector                          14\n",
            "Engineer, broadcasting (operations)                  14\n",
            "Seismic interpreter                                  12\n",
            "Name: job, dtype: int64\n"
          ]
        }
      ],
      "source": [
        "taxa_de_fraude_por_job = fraudes['job']\n",
        "print('Taxa de fraudes por gênero da pessoa:')\n",
        "print(taxa_de_fraude_por_job.value_counts().head(20))"
      ]
    },
    {
      "cell_type": "markdown",
      "metadata": {
        "id": "x00uM8auDVq2"
      },
      "source": [
        "Entre o trabalho do titular do cartão, \"Social research officer, government\" foram os que mais tiveram fraudes com 34 fraudes, seguidos pelo Clothing/textile technologist com 24 fraudes."
      ]
    },
    {
      "cell_type": "markdown",
      "metadata": {
        "id": "_uUMKoVcreC-"
      },
      "source": [
        "# Feature Engineering"
      ]
    },
    {
      "cell_type": "markdown",
      "source": [
        "O processo conhecido como \"Feature Engineering\" envolve a seleção, criação, transformação e o tratamento dos dados do nosso modelo.\n",
        "\n",
        "No nosso caso, estaremos removendo as linhas com os valores ausentes da coluna is_fraud e também estaremos criando novas colunas e dropando algumas outras colunas que tem muitos valores faltantes ou que não nos ajuda a realizar a previsão do nosso modelo."
      ],
      "metadata": {
        "id": "6Ygh7FznJzkO"
      }
    },
    {
      "cell_type": "code",
      "execution_count": null,
      "metadata": {
        "id": "bKlfvB_qsLAb"
      },
      "outputs": [],
      "source": [
        "# Remover linhas com valores ausentes na coluna 'is_fraud'\n",
        "treino.dropna(subset=['is_fraud'], inplace=True)"
      ]
    },
    {
      "cell_type": "code",
      "execution_count": null,
      "metadata": {
        "id": "6riEiI2Yrj9a"
      },
      "outputs": [],
      "source": [
        "# Criando novas variáveis\n",
        "def dataframe_create(dataframe):\n",
        "  hoje = datetime.now()\n",
        "  dataframe['trans_date_time'] = dataframe['trans_date'] + ' ' + dataframe['trans_time']\n",
        "  dataframe['trans_date_time'] = pd.to_datetime(dataframe['trans_date_time'])\n",
        "  dataframe['feriado'] = dataframe['trans_date_time'].apply(e_feriado)\n",
        "  dataframe['dob'] = pd.to_datetime(dataframe['dob'])\n",
        "  dataframe['idade'] = (hoje - dataframe['dob']).astype('<m8[Y]')\n",
        "  dataframe['dia_semana'] = dataframe['trans_date_time'].dt.dayofweek\n",
        "  dataframe['hora'] = dataframe['trans_date_time'].dt.hour\n",
        "\n",
        "# Dropando algumas variáveis\n",
        "def dataframe_drops(dataframe):\n",
        "  dataframe.drop(columns = ['first', 'last', 'zip','trans_date', 'ssn',\n",
        "                            'profile', 'trans_date_time', 'trans_time', 'trans_num', 'merch_lat', 'merch_long', 'dob'], inplace = True)\n",
        "\n"
      ]
    },
    {
      "cell_type": "code",
      "execution_count": null,
      "metadata": {
        "id": "m2AtAIT_y86Z"
      },
      "outputs": [],
      "source": [
        "dataframe_create(treino)"
      ]
    },
    {
      "cell_type": "code",
      "execution_count": null,
      "metadata": {
        "id": "4euuhkFnFvZ5"
      },
      "outputs": [],
      "source": [
        "dataframe_drops(treino)"
      ]
    },
    {
      "cell_type": "code",
      "execution_count": null,
      "metadata": {
        "colab": {
          "base_uri": "https://localhost:8080/"
        },
        "id": "wBqg92kxFwlg",
        "outputId": "88989c8a-6ae0-4494-9dee-a9cf4d5abc36"
      },
      "outputs": [
        {
          "output_type": "stream",
          "name": "stdout",
          "text": [
            "<class 'pandas.core.frame.DataFrame'>\n",
            "Int64Index: 136307 entries, 0 to 136459\n",
            "Data columns (total 19 columns):\n",
            " #   Column      Non-Null Count   Dtype  \n",
            "---  ------      --------------   -----  \n",
            " 0   cc_num      136307 non-null  int64  \n",
            " 1   gender      136307 non-null  object \n",
            " 2   street      136307 non-null  object \n",
            " 3   city        136307 non-null  object \n",
            " 4   state       136307 non-null  object \n",
            " 5   lat         136307 non-null  float64\n",
            " 6   long        136307 non-null  float64\n",
            " 7   city_pop    136307 non-null  int64  \n",
            " 8   job         136307 non-null  object \n",
            " 9   acct_num    136307 non-null  int64  \n",
            " 10  unix_time   136307 non-null  float64\n",
            " 11  category    136307 non-null  object \n",
            " 12  amt         136307 non-null  float64\n",
            " 13  is_fraud    136307 non-null  float64\n",
            " 14  merchant    136307 non-null  object \n",
            " 15  feriado     136307 non-null  int64  \n",
            " 16  idade       136307 non-null  float64\n",
            " 17  dia_semana  136307 non-null  int64  \n",
            " 18  hora        136307 non-null  int64  \n",
            "dtypes: float64(6), int64(6), object(7)\n",
            "memory usage: 20.8+ MB\n"
          ]
        }
      ],
      "source": [
        "treino.info()"
      ]
    },
    {
      "cell_type": "markdown",
      "metadata": {
        "id": "JkINOqiQGBFo"
      },
      "source": [
        "# Machine Learning"
      ]
    },
    {
      "cell_type": "markdown",
      "source": [
        "Agora iremos por a mão na massa e começar a desenvolver modelos de machine learning para realizar a previsão."
      ],
      "metadata": {
        "id": "DxfKXbbGKcyi"
      }
    },
    {
      "cell_type": "code",
      "execution_count": null,
      "metadata": {
        "colab": {
          "base_uri": "https://localhost:8080/",
          "height": 118
        },
        "id": "b9iin7avF5Dq",
        "outputId": "66678bd0-df9c-43d7-e082-83d9bd65e19c"
      },
      "outputs": [
        {
          "output_type": "execute_result",
          "data": {
            "text/plain": [
              "ColumnTransformer(transformers=[('numeric',\n",
              "                                 Pipeline(steps=[('std_scaler',\n",
              "                                                  StandardScaler())]),\n",
              "                                 ['dia_semana', 'cc_num', 'city_pop',\n",
              "                                  'unix_time', 'hora', 'long', 'feriado', 'lat',\n",
              "                                  'idade', 'acct_num', 'amt']),\n",
              "                                ('categoric',\n",
              "                                 Pipeline(steps=[('encoder',\n",
              "                                                  CatBoostEncoder())]),\n",
              "                                 ['street', 'city', 'state', 'gender',\n",
              "                                  'merchant', 'category', 'job'])])"
            ],
            "text/html": [
              "<style>#sk-container-id-1 {color: black;background-color: white;}#sk-container-id-1 pre{padding: 0;}#sk-container-id-1 div.sk-toggleable {background-color: white;}#sk-container-id-1 label.sk-toggleable__label {cursor: pointer;display: block;width: 100%;margin-bottom: 0;padding: 0.3em;box-sizing: border-box;text-align: center;}#sk-container-id-1 label.sk-toggleable__label-arrow:before {content: \"▸\";float: left;margin-right: 0.25em;color: #696969;}#sk-container-id-1 label.sk-toggleable__label-arrow:hover:before {color: black;}#sk-container-id-1 div.sk-estimator:hover label.sk-toggleable__label-arrow:before {color: black;}#sk-container-id-1 div.sk-toggleable__content {max-height: 0;max-width: 0;overflow: hidden;text-align: left;background-color: #f0f8ff;}#sk-container-id-1 div.sk-toggleable__content pre {margin: 0.2em;color: black;border-radius: 0.25em;background-color: #f0f8ff;}#sk-container-id-1 input.sk-toggleable__control:checked~div.sk-toggleable__content {max-height: 200px;max-width: 100%;overflow: auto;}#sk-container-id-1 input.sk-toggleable__control:checked~label.sk-toggleable__label-arrow:before {content: \"▾\";}#sk-container-id-1 div.sk-estimator input.sk-toggleable__control:checked~label.sk-toggleable__label {background-color: #d4ebff;}#sk-container-id-1 div.sk-label input.sk-toggleable__control:checked~label.sk-toggleable__label {background-color: #d4ebff;}#sk-container-id-1 input.sk-hidden--visually {border: 0;clip: rect(1px 1px 1px 1px);clip: rect(1px, 1px, 1px, 1px);height: 1px;margin: -1px;overflow: hidden;padding: 0;position: absolute;width: 1px;}#sk-container-id-1 div.sk-estimator {font-family: monospace;background-color: #f0f8ff;border: 1px dotted black;border-radius: 0.25em;box-sizing: border-box;margin-bottom: 0.5em;}#sk-container-id-1 div.sk-estimator:hover {background-color: #d4ebff;}#sk-container-id-1 div.sk-parallel-item::after {content: \"\";width: 100%;border-bottom: 1px solid gray;flex-grow: 1;}#sk-container-id-1 div.sk-label:hover label.sk-toggleable__label {background-color: #d4ebff;}#sk-container-id-1 div.sk-serial::before {content: \"\";position: absolute;border-left: 1px solid gray;box-sizing: border-box;top: 0;bottom: 0;left: 50%;z-index: 0;}#sk-container-id-1 div.sk-serial {display: flex;flex-direction: column;align-items: center;background-color: white;padding-right: 0.2em;padding-left: 0.2em;position: relative;}#sk-container-id-1 div.sk-item {position: relative;z-index: 1;}#sk-container-id-1 div.sk-parallel {display: flex;align-items: stretch;justify-content: center;background-color: white;position: relative;}#sk-container-id-1 div.sk-item::before, #sk-container-id-1 div.sk-parallel-item::before {content: \"\";position: absolute;border-left: 1px solid gray;box-sizing: border-box;top: 0;bottom: 0;left: 50%;z-index: -1;}#sk-container-id-1 div.sk-parallel-item {display: flex;flex-direction: column;z-index: 1;position: relative;background-color: white;}#sk-container-id-1 div.sk-parallel-item:first-child::after {align-self: flex-end;width: 50%;}#sk-container-id-1 div.sk-parallel-item:last-child::after {align-self: flex-start;width: 50%;}#sk-container-id-1 div.sk-parallel-item:only-child::after {width: 0;}#sk-container-id-1 div.sk-dashed-wrapped {border: 1px dashed gray;margin: 0 0.4em 0.5em 0.4em;box-sizing: border-box;padding-bottom: 0.4em;background-color: white;}#sk-container-id-1 div.sk-label label {font-family: monospace;font-weight: bold;display: inline-block;line-height: 1.2em;}#sk-container-id-1 div.sk-label-container {text-align: center;}#sk-container-id-1 div.sk-container {/* jupyter's `normalize.less` sets `[hidden] { display: none; }` but bootstrap.min.css set `[hidden] { display: none !important; }` so we also need the `!important` here to be able to override the default hidden behavior on the sphinx rendered scikit-learn.org. See: https://github.com/scikit-learn/scikit-learn/issues/21755 */display: inline-block !important;position: relative;}#sk-container-id-1 div.sk-text-repr-fallback {display: none;}</style><div id=\"sk-container-id-1\" class=\"sk-top-container\"><div class=\"sk-text-repr-fallback\"><pre>ColumnTransformer(transformers=[(&#x27;numeric&#x27;,\n",
              "                                 Pipeline(steps=[(&#x27;std_scaler&#x27;,\n",
              "                                                  StandardScaler())]),\n",
              "                                 [&#x27;dia_semana&#x27;, &#x27;cc_num&#x27;, &#x27;city_pop&#x27;,\n",
              "                                  &#x27;unix_time&#x27;, &#x27;hora&#x27;, &#x27;long&#x27;, &#x27;feriado&#x27;, &#x27;lat&#x27;,\n",
              "                                  &#x27;idade&#x27;, &#x27;acct_num&#x27;, &#x27;amt&#x27;]),\n",
              "                                (&#x27;categoric&#x27;,\n",
              "                                 Pipeline(steps=[(&#x27;encoder&#x27;,\n",
              "                                                  CatBoostEncoder())]),\n",
              "                                 [&#x27;street&#x27;, &#x27;city&#x27;, &#x27;state&#x27;, &#x27;gender&#x27;,\n",
              "                                  &#x27;merchant&#x27;, &#x27;category&#x27;, &#x27;job&#x27;])])</pre><b>In a Jupyter environment, please rerun this cell to show the HTML representation or trust the notebook. <br />On GitHub, the HTML representation is unable to render, please try loading this page with nbviewer.org.</b></div><div class=\"sk-container\" hidden><div class=\"sk-item sk-dashed-wrapped\"><div class=\"sk-label-container\"><div class=\"sk-label sk-toggleable\"><input class=\"sk-toggleable__control sk-hidden--visually\" id=\"sk-estimator-id-1\" type=\"checkbox\" ><label for=\"sk-estimator-id-1\" class=\"sk-toggleable__label sk-toggleable__label-arrow\">ColumnTransformer</label><div class=\"sk-toggleable__content\"><pre>ColumnTransformer(transformers=[(&#x27;numeric&#x27;,\n",
              "                                 Pipeline(steps=[(&#x27;std_scaler&#x27;,\n",
              "                                                  StandardScaler())]),\n",
              "                                 [&#x27;dia_semana&#x27;, &#x27;cc_num&#x27;, &#x27;city_pop&#x27;,\n",
              "                                  &#x27;unix_time&#x27;, &#x27;hora&#x27;, &#x27;long&#x27;, &#x27;feriado&#x27;, &#x27;lat&#x27;,\n",
              "                                  &#x27;idade&#x27;, &#x27;acct_num&#x27;, &#x27;amt&#x27;]),\n",
              "                                (&#x27;categoric&#x27;,\n",
              "                                 Pipeline(steps=[(&#x27;encoder&#x27;,\n",
              "                                                  CatBoostEncoder())]),\n",
              "                                 [&#x27;street&#x27;, &#x27;city&#x27;, &#x27;state&#x27;, &#x27;gender&#x27;,\n",
              "                                  &#x27;merchant&#x27;, &#x27;category&#x27;, &#x27;job&#x27;])])</pre></div></div></div><div class=\"sk-parallel\"><div class=\"sk-parallel-item\"><div class=\"sk-item\"><div class=\"sk-label-container\"><div class=\"sk-label sk-toggleable\"><input class=\"sk-toggleable__control sk-hidden--visually\" id=\"sk-estimator-id-2\" type=\"checkbox\" ><label for=\"sk-estimator-id-2\" class=\"sk-toggleable__label sk-toggleable__label-arrow\">numeric</label><div class=\"sk-toggleable__content\"><pre>[&#x27;dia_semana&#x27;, &#x27;cc_num&#x27;, &#x27;city_pop&#x27;, &#x27;unix_time&#x27;, &#x27;hora&#x27;, &#x27;long&#x27;, &#x27;feriado&#x27;, &#x27;lat&#x27;, &#x27;idade&#x27;, &#x27;acct_num&#x27;, &#x27;amt&#x27;]</pre></div></div></div><div class=\"sk-serial\"><div class=\"sk-item\"><div class=\"sk-serial\"><div class=\"sk-item\"><div class=\"sk-estimator sk-toggleable\"><input class=\"sk-toggleable__control sk-hidden--visually\" id=\"sk-estimator-id-3\" type=\"checkbox\" ><label for=\"sk-estimator-id-3\" class=\"sk-toggleable__label sk-toggleable__label-arrow\">StandardScaler</label><div class=\"sk-toggleable__content\"><pre>StandardScaler()</pre></div></div></div></div></div></div></div></div><div class=\"sk-parallel-item\"><div class=\"sk-item\"><div class=\"sk-label-container\"><div class=\"sk-label sk-toggleable\"><input class=\"sk-toggleable__control sk-hidden--visually\" id=\"sk-estimator-id-4\" type=\"checkbox\" ><label for=\"sk-estimator-id-4\" class=\"sk-toggleable__label sk-toggleable__label-arrow\">categoric</label><div class=\"sk-toggleable__content\"><pre>[&#x27;street&#x27;, &#x27;city&#x27;, &#x27;state&#x27;, &#x27;gender&#x27;, &#x27;merchant&#x27;, &#x27;category&#x27;, &#x27;job&#x27;]</pre></div></div></div><div class=\"sk-serial\"><div class=\"sk-item\"><div class=\"sk-serial\"><div class=\"sk-item\"><div class=\"sk-estimator sk-toggleable\"><input class=\"sk-toggleable__control sk-hidden--visually\" id=\"sk-estimator-id-5\" type=\"checkbox\" ><label for=\"sk-estimator-id-5\" class=\"sk-toggleable__label sk-toggleable__label-arrow\">CatBoostEncoder</label><div class=\"sk-toggleable__content\"><pre>CatBoostEncoder()</pre></div></div></div></div></div></div></div></div></div></div></div></div>"
            ]
          },
          "metadata": {},
          "execution_count": 44
        }
      ],
      "source": [
        "# from sklearn.pipeline import Pipeline\n",
        "# from sklearn.preprocessing import StandardScaler\n",
        "# from category_encoders import CatBoostEncoder\n",
        "# from sklearn.compose import ColumnTransformer\n",
        "# from sklearn.model_selection import train_test_split\n",
        "\n",
        "\n",
        "X = treino.drop('is_fraud', axis = 1)\n",
        "y = treino['is_fraud']\n",
        "\n",
        "cols_num = list(set(X.select_dtypes('number')))\n",
        "cols_cat = list(set(X.select_dtypes('object')))\n",
        "\n",
        "pipe_cat = Pipeline([('encoder', CatBoostEncoder())])\n",
        "pipe_num = Pipeline([('std_scaler', StandardScaler())])\n",
        "\n",
        "preprocessor = ColumnTransformer([('numeric', pipe_num, cols_num),\n",
        "                                  ('categoric', pipe_cat, cols_cat)])\n",
        "preprocessor"
      ]
    },
    {
      "cell_type": "markdown",
      "source": [
        "A escolha do CatBoostEncoder foi porque há uma grande quantidade de variáveis com muitas categorias e o CatBoostEncoder tem essa robustez de evitar o overfitting ou problemas relacionados. O TargetEncoder era uma opção, entretanto, ele não tem essa robustez.\n",
        "\n",
        "Outro Encoder comumente utilizado é o OneHotEncoder, mas devido a grande quantidade de variáveis e suas categorias no nosso modelo, isso levaria a um aumento da dimensionalidade do modelo.\n",
        "\n",
        "O CatBoostEncoder permite adicionar novas categorias durante o deploy do aplicativo também, ao contrário de outros codificadores como o OneHotEncoder. Este encodificador pode lidar com novas categorias que não estavam presentes nos dados de treinamento."
      ],
      "metadata": {
        "id": "ITYliaChLGnX"
      }
    },
    {
      "cell_type": "code",
      "execution_count": null,
      "metadata": {
        "id": "RNywsAUNJRf6"
      },
      "outputs": [],
      "source": [
        "SEED = 42\n",
        "\n",
        "X_treino, X_teste, y_treino, y_teste = train_test_split(X, y, test_size=0.3, stratify = y, random_state = SEED)"
      ]
    },
    {
      "cell_type": "code",
      "execution_count": null,
      "metadata": {
        "id": "Zz5E0aP3L2_w"
      },
      "outputs": [],
      "source": [
        "X_treino_preprocessado = preprocessor.fit_transform(X_treino, y_treino)\n",
        "\n",
        "X_teste_preprocessado = preprocessor.transform(X_teste)"
      ]
    },
    {
      "cell_type": "code",
      "execution_count": null,
      "metadata": {
        "id": "gTcAhi3Uui_U"
      },
      "outputs": [],
      "source": [
        "# from imblearn.over_sampling import SMOTE\n",
        "\n",
        "sm = SMOTE(random_state = SEED)"
      ]
    },
    {
      "cell_type": "markdown",
      "source": [
        "Usando a técnica SMOTE para balancear os dados. SMOTE irá criar dados sinteticos para a nossa variável alvo ficar balanceada, utilizando como base a técnica do K-vizinhos mais próximos."
      ],
      "metadata": {
        "id": "O2npQip0MIMq"
      }
    },
    {
      "cell_type": "code",
      "execution_count": null,
      "metadata": {
        "id": "uCEw6e8Csh9y"
      },
      "outputs": [],
      "source": [
        "X_treino_preprocessado_resampled, y_treino_resampled = sm.fit_resample(X_treino_preprocessado, y_treino)"
      ]
    },
    {
      "cell_type": "code",
      "execution_count": null,
      "metadata": {
        "colab": {
          "base_uri": "https://localhost:8080/"
        },
        "id": "RUMhcFUntAX9",
        "outputId": "138428ad-9bf0-49a4-8586-919e3d53e7c5"
      },
      "outputs": [
        {
          "output_type": "execute_result",
          "data": {
            "text/plain": [
              "(188842,)"
            ]
          },
          "metadata": {},
          "execution_count": 49
        }
      ],
      "source": [
        "y_treino_resampled.shape"
      ]
    },
    {
      "cell_type": "code",
      "execution_count": null,
      "metadata": {
        "colab": {
          "base_uri": "https://localhost:8080/",
          "height": 467
        },
        "id": "VUlBdlYZutqk",
        "outputId": "da9a7b1e-e4ea-49db-fece-f35d9c765ef0"
      },
      "outputs": [
        {
          "output_type": "execute_result",
          "data": {
            "text/plain": [
              "<Axes: xlabel='is_fraud', ylabel='count'>"
            ]
          },
          "metadata": {},
          "execution_count": 50
        },
        {
          "output_type": "display_data",
          "data": {
            "text/plain": [
              "<Figure size 640x480 with 1 Axes>"
            ],
            "image/png": "[encoded data removed]"
          },
          "metadata": {}
        }
      ],
      "source": [
        "teste_df = pd.DataFrame(y_treino_resampled)\n",
        "sns.countplot(x = 'is_fraud', data = teste_df)"
      ]
    },
    {
      "cell_type": "markdown",
      "source": [
        "Podemos notar que agora a nossa variável alvo está balanceada."
      ],
      "metadata": {
        "id": "ZisiThfsMUBN"
      }
    },
    {
      "cell_type": "markdown",
      "source": [
        "Iremos rodar agora alguns modelos de Machine Learning e verificar algumas de suas métricas."
      ],
      "metadata": {
        "id": "ApqpX0oUybx1"
      }
    },
    {
      "cell_type": "markdown",
      "source": [
        "# Regressão Logística"
      ],
      "metadata": {
        "id": "YLKKTtXJje6O"
      }
    },
    {
      "cell_type": "markdown",
      "source": [
        "O primeiro modelo e um modelo comumente utilizado neste cenário é o de Regressão Logistica. Iremos rodar o modelo de regressão logística para detectar fraudes."
      ],
      "metadata": {
        "id": "jaU1wjHTziXw"
      }
    },
    {
      "cell_type": "code",
      "execution_count": null,
      "metadata": {
        "id": "GEMtp-T5uwpK"
      },
      "outputs": [],
      "source": [
        "# from sklearn.linear_model import LogisticRegression\n",
        "\n",
        "modelo_lr = LogisticRegression(max_iter = 1000, random_state=SEED)\n",
        "\n",
        "modelo_lr.fit(X_treino_preprocessado_resampled, y_treino_resampled)\n",
        "\n",
        "y_teste_previsto = modelo_lr.predict(X_teste_preprocessado)"
      ]
    },
    {
      "cell_type": "code",
      "execution_count": null,
      "metadata": {
        "colab": {
          "base_uri": "https://localhost:8080/"
        },
        "id": "v_4IY5erv4ow",
        "outputId": "0737454f-83e0-40ec-be02-fe1e4db6c9cc"
      },
      "outputs": [
        {
          "output_type": "stream",
          "name": "stdout",
          "text": [
            "              precision    recall  f1-score   support\n",
            "\n",
            "         0.0       1.00      0.96      0.98     40468\n",
            "         1.0       0.15      0.76      0.25       425\n",
            "\n",
            "    accuracy                           0.95     40893\n",
            "   macro avg       0.58      0.86      0.62     40893\n",
            "weighted avg       0.99      0.95      0.97     40893\n",
            "\n"
          ]
        }
      ],
      "source": [
        "# from sklearn.metrics import classification_report\n",
        "\n",
        "print(classification_report(y_teste, y_teste_previsto))"
      ]
    },
    {
      "cell_type": "markdown",
      "source": [
        "Em modelos que o objetivo é detectar fraudes ou churns, por exemplo, geralmente é mais viável focar em métricas como Recall e F1-Score. Por que?\n",
        "Porque o recall irá medir a capacidade do modelo de identificar as instâncias positivas - fraudes - corretamente. Em cenários como detecção de fraúdes e churn, é muito crucial detectar o máximo possível de casos verdadeiros. Fraudes, por exemplo, tem consequências financeiras graves, portanto, detectar o número de fraude é essencial."
      ],
      "metadata": {
        "id": "mGatsEwH1I8x"
      }
    },
    {
      "cell_type": "code",
      "source": [
        "# from sklearn.metrics import confusion_matrix\n",
        "# from sklearn.metrics import ConfusionMatrixDisplay\n",
        "\n",
        "matriz = confusion_matrix(y_teste, y_teste_previsto)\n",
        "disp = ConfusionMatrixDisplay(confusion_matrix=matriz)\n",
        "disp.plot()"
      ],
      "metadata": {
        "colab": {
          "base_uri": "https://localhost:8080/",
          "height": 466
        },
        "id": "B2BCb_tKizTr",
        "outputId": "17c4fecb-9da0-4387-fc6b-db222f3f9fb7"
      },
      "execution_count": null,
      "outputs": [
        {
          "output_type": "execute_result",
          "data": {
            "text/plain": [
              "<sklearn.metrics._plot.confusion_matrix.ConfusionMatrixDisplay at 0x7f1c04433ac0>"
            ]
          },
          "metadata": {},
          "execution_count": 53
        },
        {
          "output_type": "display_data",
          "data": {
            "text/plain": [
              "<Figure size 640x480 with 2 Axes>"
            ],
            "image/png": "[encoded data removed]"
          },
          "metadata": {}
        }
      ]
    },
    {
      "cell_type": "markdown",
      "source": [
        "Matriz de confusão é uma tabela em que é mostrado o resultado do modelo de classificação para cade classe do modelo.  Usamos matriz de confusão quando queremos verificar o desempenho do modelo. A matriz de confusão possui quatro categorias:\n",
        "\n",
        "**Verdadeiros positivos**: casos em que o modelo previu corretamente uma classe como positiva.\n",
        "\n",
        "**Falsos positivos**: casos em que o modelo previu incorretamente uma classe como positiva quando na verdade era negativa.\n",
        "\n",
        "**Verdadeiros negativos**: casos em que o modelo previu corretamente uma classe como negativa.\n",
        "\n",
        "**Falsos negativos**: casos em que o modelo previu incorretamente uma classe como negativa quando na verdade era positiva.\n",
        "\n",
        "Verdadeiros Positivos (TP) | Falsos Negativos (FN)\n",
        "----------------------------|----------------------------\n",
        "Falsos Positivos (FP)      | Verdadeiros Negativos (TN)\n",
        "\n",
        "\n",
        "As métricas que conhecemos, como precisão, recall e f1-score como vimos no **classification_report** é calculada a partir de informações que também estão disponíveis na matriz de confusão.\n",
        "\n",
        "Por exemplo, a métrica recall é calculada pela fórmula:\n",
        "Recall = Verdadeiros Positivos / (Verdadeiros Positivos + Falsos Negativos)"
      ],
      "metadata": {
        "id": "AZTUWuSk1TTu"
      }
    },
    {
      "cell_type": "code",
      "source": [
        "# from sklearn.metrics import roc_curve, roc_auc_score\n",
        "\n",
        "prob_previsao = modelo_lr.predict_proba(X_teste_preprocessado)[:,1]\n",
        "\n",
        "#tfp = taxa de falso positivos\n",
        "#tvp = taxa de verdadeiro positivo\n",
        "\n",
        "tfp, tvp, limite = roc_curve(y_teste, prob_previsao)\n",
        "print('roc_auc', roc_auc_score(y_teste, prob_previsao))\n",
        "\n",
        "plt.subplots(1, figsize = (5, 5))\n",
        "plt.title('Curva ROC')\n",
        "plt.plot(tfp, tvp)\n",
        "plt.xlabel('Especificidade')\n",
        "plt.ylabel('Sensibilidade')\n",
        "plt.plot([0, 1], ls = '--', c = 'red') # plotando linha guia pontilhada vermelha\n",
        "plt.plot([0, 0], [1, 0], ls = '--', c = 'green'), plt.plot([1, 1], ls = '--', c = 'green') # plotando linha guia verde\n",
        "plt.show()"
      ],
      "metadata": {
        "colab": {
          "base_uri": "https://localhost:8080/",
          "height": 504
        },
        "id": "X3L67uvAjV4q",
        "outputId": "32841c47-d822-486f-b55a-a2f753360078"
      },
      "execution_count": null,
      "outputs": [
        {
          "output_type": "stream",
          "name": "stdout",
          "text": [
            "roc_auc 0.884103983394287\n"
          ]
        },
        {
          "output_type": "display_data",
          "data": {
            "text/plain": [
              "<Figure size 500x500 with 1 Axes>"
            ],
            "image/png": "[encoded data removed]"
          },
          "metadata": {}
        }
      ]
    },
    {
      "cell_type": "markdown",
      "source": [
        "# Árvore de Decisão"
      ],
      "metadata": {
        "id": "HS3O44r1iTQM"
      }
    },
    {
      "cell_type": "markdown",
      "source": [
        "O nosso segundo modelo será o modelo de Árvore de Decisão"
      ],
      "metadata": {
        "id": "IxJHqGKOztvf"
      }
    },
    {
      "cell_type": "code",
      "source": [
        "# from sklearn.tree import DecisionTreeClassifier\n",
        "\n",
        "modelo_dtc = DecisionTreeClassifier(random_state=SEED)\n",
        "\n",
        "\n",
        "modelo_dtc.fit(X_treino_preprocessado_resampled, y_treino_resampled)\n",
        "\n",
        "y_teste_previsto = modelo_dtc.predict(X_teste_preprocessado)"
      ],
      "metadata": {
        "id": "RGUIusOVjveQ"
      },
      "execution_count": null,
      "outputs": []
    },
    {
      "cell_type": "code",
      "source": [
        "# from sklearn.metrics import classification_report\n",
        "\n",
        "print(classification_report(y_teste, y_teste_previsto))"
      ],
      "metadata": {
        "colab": {
          "base_uri": "https://localhost:8080/"
        },
        "id": "eiD6NOegj7kb",
        "outputId": "4b41f6cc-8fd7-4ca5-ee0a-51f9eb8e04ab"
      },
      "execution_count": null,
      "outputs": [
        {
          "output_type": "stream",
          "name": "stdout",
          "text": [
            "              precision    recall  f1-score   support\n",
            "\n",
            "         0.0       1.00      0.98      0.99     40468\n",
            "         1.0       0.34      0.77      0.48       425\n",
            "\n",
            "    accuracy                           0.98     40893\n",
            "   macro avg       0.67      0.88      0.73     40893\n",
            "weighted avg       0.99      0.98      0.99     40893\n",
            "\n"
          ]
        }
      ]
    },
    {
      "cell_type": "code",
      "source": [
        "#from sklearn.metrics import confusion_matrix\n",
        "#from sklearn.metrics import ConfusionMatrixDisplay\n",
        "\n",
        "matriz = confusion_matrix(y_teste, y_teste_previsto)\n",
        "disp = ConfusionMatrixDisplay(confusion_matrix=matriz)\n",
        "disp.plot()"
      ],
      "metadata": {
        "colab": {
          "base_uri": "https://localhost:8080/",
          "height": 466
        },
        "id": "fnhLAjOHj_NW",
        "outputId": "f77f39f3-4030-4691-edd4-a92dfda67688"
      },
      "execution_count": null,
      "outputs": [
        {
          "output_type": "execute_result",
          "data": {
            "text/plain": [
              "<sklearn.metrics._plot.confusion_matrix.ConfusionMatrixDisplay at 0x7f1bee3c1db0>"
            ]
          },
          "metadata": {},
          "execution_count": 57
        },
        {
          "output_type": "display_data",
          "data": {
            "text/plain": [
              "<Figure size 640x480 with 2 Axes>"
            ],
            "image/png": "[encoded data removed]"
          },
          "metadata": {}
        }
      ]
    },
    {
      "cell_type": "code",
      "source": [
        "# from sklearn.metrics import roc_curve, roc_auc_score\n",
        "\n",
        "prob_previsao = modelo_dtc.predict_proba(X_teste_preprocessado)[:,1]\n",
        "\n",
        "#tfp = taxa de falso positivos\n",
        "#tvp = taxa de verdadeiro positivo\n",
        "\n",
        "tfp, tvp, limite = roc_curve(y_teste, prob_previsao)\n",
        "print('roc_auc', roc_auc_score(y_teste, prob_previsao))\n",
        "\n",
        "plt.subplots(1, figsize = (5, 5))\n",
        "plt.title('Curva ROC')\n",
        "plt.plot(tfp, tvp)\n",
        "plt.xlabel('Especificidade')\n",
        "plt.ylabel('Sensibilidade')\n",
        "plt.plot([0, 1], ls = '--', c = 'red') # plotando linha guia pontilhada vermelha\n",
        "plt.plot([0, 0], [1, 0], ls = '--', c = 'green'), plt.plot([1, 1], ls = '--', c = 'green') # plotando linha guia verde\n",
        "plt.show()"
      ],
      "metadata": {
        "colab": {
          "base_uri": "https://localhost:8080/",
          "height": 504
        },
        "id": "jzvhKO1ekBM5",
        "outputId": "39709fdc-fb48-4f97-df62-f111906c0f8a"
      },
      "execution_count": null,
      "outputs": [
        {
          "output_type": "stream",
          "name": "stdout",
          "text": [
            "roc_auc 0.8781231357819395\n"
          ]
        },
        {
          "output_type": "display_data",
          "data": {
            "text/plain": [
              "<Figure size 500x500 with 1 Axes>"
            ],
            "image/png": "[encoded data removed]"
          },
          "metadata": {}
        }
      ]
    },
    {
      "cell_type": "markdown",
      "source": [
        "# Floresta Aleatória"
      ],
      "metadata": {
        "id": "_0959dQmiX5E"
      }
    },
    {
      "cell_type": "markdown",
      "source": [
        "O nosso terceiro modelo será um modelo de Floresta Aleatória."
      ],
      "metadata": {
        "id": "eg8BdJUazwwA"
      }
    },
    {
      "cell_type": "code",
      "source": [
        "# from sklearn.ensemble import RandomForestClassifier\n",
        "\n",
        "# modelo_rfc = RandomForestClassifier(random_state=SEED)\n",
        "\n",
        "\n",
        "# modelo_rfc.fit(X_treino_preprocessado_resampled, y_treino_resampled)\n",
        "\n",
        "# y_teste_previsto = modelo_rfc.predict(X_teste_preprocessado)"
      ],
      "metadata": {
        "id": "_qSlExCfkI95"
      },
      "execution_count": null,
      "outputs": []
    },
    {
      "cell_type": "code",
      "source": [
        "# from sklearn.metrics import classification_report\n",
        "\n",
        "# print(classification_report(y_teste, y_teste_previsto))"
      ],
      "metadata": {
        "id": "dxHT2rbMkQU7"
      },
      "execution_count": null,
      "outputs": []
    },
    {
      "cell_type": "code",
      "source": [
        "# from sklearn.metrics import confusion_matrix\n",
        "# from sklearn.metrics import ConfusionMatrixDisplay\n",
        "\n",
        "# matriz = confusion_matrix(y_teste, y_teste_previsto)\n",
        "# disp = ConfusionMatrixDisplay(confusion_matrix=matriz)\n",
        "# disp.plot()"
      ],
      "metadata": {
        "id": "tzD5MymDkSM9"
      },
      "execution_count": null,
      "outputs": []
    },
    {
      "cell_type": "code",
      "source": [
        "# from sklearn.metrics import roc_curve, roc_auc_score\n",
        "\n",
        "# prob_previsao = modelo_rfc.predict_proba(X_teste_preprocessado)[:,1]\n",
        "\n",
        "# #tfp = taxa de falso positivos\n",
        "# #tvp = taxa de verdadeiro positivo\n",
        "\n",
        "# tfp, tvp, limite = roc_curve(y_teste, prob_previsao)\n",
        "# print('roc_auc', roc_auc_score(y_teste, prob_previsao))\n",
        "\n",
        "# plt.subplots(1, figsize = (5, 5))\n",
        "# plt.title('Curva ROC')\n",
        "# plt.plot(tfp, tvp)\n",
        "# plt.xlabel('Especificidade')\n",
        "# plt.ylabel('Sensibilidade')\n",
        "# plt.plot([0, 1], ls = '--', c = 'red') # plotando linha guia pontilhada vermelha\n",
        "# plt.plot([0, 0], [1, 0], ls = '--', c = 'green'), plt.plot([1, 1], ls = '--', c = 'green') # plotando linha guia verde\n",
        "# plt.show()"
      ],
      "metadata": {
        "id": "JDteaUS-lHm3"
      },
      "execution_count": null,
      "outputs": []
    },
    {
      "cell_type": "markdown",
      "source": [
        "# XGBoost"
      ],
      "metadata": {
        "id": "nZSpgjc6ibKq"
      }
    },
    {
      "cell_type": "markdown",
      "source": [
        "O terceiro modelo será o modelo de XGBoost"
      ],
      "metadata": {
        "id": "e__SLWIxz3XD"
      }
    },
    {
      "cell_type": "code",
      "source": [
        "# # import optuna\n",
        "\n",
        "\n",
        "# # Criando uma função objetivo e definindo os melhores espaços de hiperparâmetros\n",
        "# def objective(trial):\n",
        "#     params = {\n",
        "#         'booster': 'gbtree',\n",
        "#         'objective': 'binary:logistic',\n",
        "#         'grow_policy': trial.suggest_categorical('grow_policy', ['depthwise', 'lossguide']),\n",
        "#         'n_estimators': trial.suggest_int('n_estimators', 100, 1000),\n",
        "#         'learning_rate': trial.suggest_float('learning_rate', 0.01, 0.1),\n",
        "#         'gamma': trial.suggest_float('gamma', 0.0, 1.0),\n",
        "#         'subsample': trial.suggest_float('subsample', 0.5, 1.0),\n",
        "#         'colsample_bytree': trial.suggest_float('colsample_bytree', 0.5, 1.0),\n",
        "#         'max_depth': trial.suggest_int('max_depth', 3, 10),\n",
        "#         'min_child_weight': trial.suggest_int('min_child_weight', 1, 20),\n",
        "#         'reg_lambda': trial.suggest_float('reg_lambda', 1e-8, 10.0, log=True),\n",
        "#         'reg_alpha': trial.suggest_float('reg_alpha', 1e-8, 10.0, log=True),\n",
        "#         'device': 'gpu',\n",
        "#         'verbosity': 0\n",
        "#     }\n",
        "\n",
        "#     # Treinando o modelo xgboost\n",
        "#     modelo_xgb = XGBClassifier(**params)\n",
        "#     modelo_xgb.fit(X_treino_preprocessado_resampled, y_treino_resampled)\n",
        "\n",
        "#     # Realizando previsões no conjunto de testes\n",
        "#     y_previsto = modelo_xgb.predict(X_teste_preprocessado)  # Previsões binárias\n",
        "\n",
        "#     # Calculando a métrica de interesse\n",
        "#     score = recall_score(y_teste, y_previsto)\n",
        "\n",
        "#     # Retornando a métrica de interesse como resultado\n",
        "#     return score\n",
        "\n",
        "# # Criando um estudo Optuna\n",
        "# estudo = optuna.create_study(direction='maximize')\n",
        "# estudo.optimize(objective, n_trials=20)\n",
        "\n",
        "# # Obtendo os melhores hiperparâmetros do nosso modelo\n",
        "# best_params = estudo.best_params\n",
        "\n",
        "# print('Melhores parâmetros encontrados:')\n",
        "# print(best_params)"
      ],
      "metadata": {
        "id": "pzoJv2blPt9K"
      },
      "execution_count": 1,
      "outputs": []
    },
    {
      "cell_type": "code",
      "source": [
        "# # from xgboost import XGBClassifier\n",
        "\n",
        "# best_params = {\n",
        "#     'grow_policy': 'depthwise',\n",
        "#     'n_estimators': 982,\n",
        "#     'learning_rate': 0.050053726931263504,\n",
        "#     'gamma': 0.5354391952653927,\n",
        "#     'subsample': 0.7060590452456204,\n",
        "#     'colsample_bytree': 0.37939433412123275,\n",
        "#     'max_depth': 23,\n",
        "#     'min_child_weight': 21,\n",
        "#     'reg_lambda': 9.150224029846654e-08,\n",
        "#     'reg_alpha': 5.671063656994295e-08\n",
        "# }\n",
        "\n",
        "# best_params['booster'] = 'gbtree'\n",
        "# best_params['objective'] = 'binary:logistic'\n",
        "# best_params[\"device\"] = \"cuda\"\n",
        "# best_params[\"verbosity\"] = 0\n",
        "\n",
        "# modelo_xgb = XGBClassifier(**best_params, seed=SEED)\n",
        "\n",
        "# modelo_xgb.fit(X_treino_preprocessado_resampled, y_treino_resampled)\n",
        "\n",
        "# y_teste_previsto = modelo_xgb.predict(X_teste_preprocessado)"
      ],
      "metadata": {
        "id": "CiJEpE0rkekO"
      },
      "execution_count": null,
      "outputs": []
    },
    {
      "cell_type": "code",
      "source": [
        "# # from sklearn.metrics import classification_report\n",
        "\n",
        "# print(classification_report(y_teste, y_teste_previsto))"
      ],
      "metadata": {
        "colab": {
          "base_uri": "https://localhost:8080/"
        },
        "id": "DrsdqtJwk746",
        "outputId": "02cd844e-e4c7-4d3f-ecf6-29157f0b93aa"
      },
      "execution_count": null,
      "outputs": [
        {
          "output_type": "stream",
          "name": "stdout",
          "text": [
            "              precision    recall  f1-score   support\n",
            "\n",
            "         0.0       1.00      1.00      1.00     40468\n",
            "         1.0       0.83      0.82      0.83       425\n",
            "\n",
            "    accuracy                           1.00     40893\n",
            "   macro avg       0.92      0.91      0.91     40893\n",
            "weighted avg       1.00      1.00      1.00     40893\n",
            "\n"
          ]
        }
      ]
    },
    {
      "cell_type": "code",
      "source": [
        "# # from sklearn.metrics import confusion_matrix\n",
        "# # from sklearn.metrics import ConfusionMatrixDisplay\n",
        "\n",
        "# matriz = confusion_matrix(y_teste, y_teste_previsto)\n",
        "# disp = ConfusionMatrixDisplay(confusion_matrix=matriz)\n",
        "# disp.plot()"
      ],
      "metadata": {
        "colab": {
          "base_uri": "https://localhost:8080/",
          "height": 468
        },
        "id": "oGi7y3Mik9NA",
        "outputId": "69dcc9a7-a7cc-44c8-ace5-1275b4923934"
      },
      "execution_count": null,
      "outputs": [
        {
          "output_type": "execute_result",
          "data": {
            "text/plain": [
              "<sklearn.metrics._plot.confusion_matrix.ConfusionMatrixDisplay at 0x7f1bee301c90>"
            ]
          },
          "metadata": {},
          "execution_count": 65
        },
        {
          "output_type": "display_data",
          "data": {
            "text/plain": [
              "<Figure size 640x480 with 2 Axes>"
            ],
            "image/png": "[encoded data removed]"
          },
          "metadata": {}
        }
      ]
    },
    {
      "cell_type": "code",
      "source": [
        "# # from sklearn.metrics import roc_curve, roc_auc_score\n",
        "\n",
        "# prob_previsao = modelo_xgb.predict_proba(X_teste_preprocessado)[:,1]\n",
        "\n",
        "# #tfp = taxa de falso positivos\n",
        "# #tvp = taxa de verdadeiro positivo\n",
        "\n",
        "# tfp, tvp, limite = roc_curve(y_teste, prob_previsao)\n",
        "# print('roc_auc', roc_auc_score(y_teste, prob_previsao))\n",
        "\n",
        "# plt.subplots(1, figsize = (5, 5))\n",
        "# plt.title('Curva ROC')\n",
        "# plt.plot(tfp, tvp)\n",
        "# plt.xlabel('Especificidade')\n",
        "# plt.ylabel('Sensibilidade')\n",
        "# plt.plot([0, 1], ls = '--', c = 'red') # plotando linha guia pontilhada vermelha\n",
        "# plt.plot([0, 0], [1, 0], ls = '--', c = 'green'), plt.plot([1, 1], ls = '--', c = 'green') # plotando linha guia verde\n",
        "# plt.show()"
      ],
      "metadata": {
        "colab": {
          "base_uri": "https://localhost:8080/",
          "height": 504
        },
        "id": "QPG5BYtplQXu",
        "outputId": "0d2dae58-434c-4e5a-899a-3ce26ce8fa02"
      },
      "execution_count": null,
      "outputs": [
        {
          "output_type": "stream",
          "name": "stdout",
          "text": [
            "roc_auc 0.9905532911988557\n"
          ]
        },
        {
          "output_type": "display_data",
          "data": {
            "text/plain": [
              "<Figure size 500x500 with 1 Axes>"
            ],
            "image/png": "[encoded data removed]"
          },
          "metadata": {}
        }
      ]
    },
    {
      "cell_type": "markdown",
      "source": [
        "# LightGBM"
      ],
      "metadata": {
        "id": "T7l6oLSgilq1"
      }
    },
    {
      "cell_type": "markdown",
      "source": [
        "O quarto modelo será o modelo LightGBM"
      ],
      "metadata": {
        "id": "AtgvYESbz7GO"
      }
    },
    {
      "cell_type": "code",
      "source": [
        "# import optuna\n",
        "\n",
        "def objective(trial):\n",
        "    params = {\n",
        "        \"objective\": \"binary\",\n",
        "        \"metric\": \"binary_logloss\",\n",
        "        \"verbosity\": -1,\n",
        "        \"boosting_type\": \"gbdt\",\n",
        "        \"random_state\": 42,\n",
        "        'learning_rate': trial.suggest_float('learning_rate', 0.01, 0.1),\n",
        "        'n_estimators': trial.suggest_int('n_estimators', 100, 1000),\n",
        "        'lambda_l1': trial.suggest_float('lambda_l1', 1e-8, 10.0, log=True),\n",
        "        'lambda_l2': trial.suggest_float('lambda_l2', 1e-8, 10.0, log=True),\n",
        "        'max_depth': trial.suggest_int('max_depth', 3, 10),\n",
        "        'colsample_bytree': trial.suggest_float('colsample_bytree', 0.5, 1.0),\n",
        "        'subsample': trial.suggest_float('subsample', 0.5, 1.0),\n",
        "        'min_child_samples': trial.suggest_int('min_child_samples', 5, 30)\n",
        "    }\n",
        "\n",
        "    modelo_lgb = lgb.LGBMClassifier(**params)\n",
        "    modelo_lgb.fit(X_treino_preprocessado_resampled, y_treino_resampled)\n",
        "\n",
        "    y_previsto = modelo_lgb.predict(X_teste_preprocessado)\n",
        "\n",
        "    score = recall_score(y_teste, y_previsto)\n",
        "\n",
        "    return score\n",
        "\n",
        "\n",
        "estudo = optuna.create_study(direction='maximize')\n",
        "estudo.optimize(objective, n_trials=50)\n",
        "\n",
        "best_params = estudo.best_params\n",
        "print('Melhores parâmetros encontrados:')\n",
        "print(best_params)"
      ],
      "metadata": {
        "colab": {
          "base_uri": "https://localhost:8080/"
        },
        "id": "EmIcrD6-RFZF",
        "outputId": "081216ff-6804-4188-91d4-acf040b680ed"
      },
      "execution_count": null,
      "outputs": [
        {
          "output_type": "stream",
          "name": "stderr",
          "text": [
            "[I 2024-03-18 16:14:27,580] A new study created in memory with name: no-name-8be1ad9b-9336-45f6-b571-f29a582dadd7\n",
            "[I 2024-03-18 16:14:41,688] Trial 0 finished with value: 0.8376470588235294 and parameters: {'learning_rate': 0.08906375553252269, 'n_estimators': 615, 'lambda_l1': 5.454992227490646e-08, 'lambda_l2': 2.4413994549997096, 'max_depth': 3, 'colsample_bytree': 0.8071122613016383, 'subsample': 0.6511292789562522, 'min_child_samples': 19}. Best is trial 0 with value: 0.8376470588235294.\n",
            "[I 2024-03-18 16:14:56,370] Trial 1 finished with value: 0.8470588235294118 and parameters: {'learning_rate': 0.06092610581605767, 'n_estimators': 451, 'lambda_l1': 7.867440258377819e-08, 'lambda_l2': 0.00019355832687864598, 'max_depth': 6, 'colsample_bytree': 0.998707894012459, 'subsample': 0.743425939092804, 'min_child_samples': 24}. Best is trial 1 with value: 0.8470588235294118.\n",
            "[I 2024-03-18 16:15:06,886] Trial 2 finished with value: 0.8423529411764706 and parameters: {'learning_rate': 0.0676309328428242, 'n_estimators': 428, 'lambda_l1': 0.044236066687116576, 'lambda_l2': 1.768495905373438e-06, 'max_depth': 4, 'colsample_bytree': 0.6313725344661429, 'subsample': 0.8351919567391067, 'min_child_samples': 28}. Best is trial 1 with value: 0.8470588235294118.\n",
            "[I 2024-03-18 16:15:12,077] Trial 3 finished with value: 0.8823529411764706 and parameters: {'learning_rate': 0.02392950584339283, 'n_estimators': 250, 'lambda_l1': 1.964688454016356e-05, 'lambda_l2': 0.08909992934389521, 'max_depth': 3, 'colsample_bytree': 0.85208663286401, 'subsample': 0.9923357531649687, 'min_child_samples': 19}. Best is trial 3 with value: 0.8823529411764706.\n",
            "[I 2024-03-18 16:15:19,242] Trial 4 finished with value: 0.8329411764705882 and parameters: {'learning_rate': 0.09792034760028273, 'n_estimators': 329, 'lambda_l1': 2.5969615433047828e-08, 'lambda_l2': 4.143615067480215e-05, 'max_depth': 4, 'colsample_bytree': 0.5529941175718349, 'subsample': 0.6914220103980513, 'min_child_samples': 10}. Best is trial 3 with value: 0.8823529411764706.\n",
            "[I 2024-03-18 16:15:40,031] Trial 5 finished with value: 0.8235294117647058 and parameters: {'learning_rate': 0.06893152116564989, 'n_estimators': 918, 'lambda_l1': 1.2060602529956163e-06, 'lambda_l2': 0.589633230413394, 'max_depth': 4, 'colsample_bytree': 0.5702533553335727, 'subsample': 0.8395465532301661, 'min_child_samples': 14}. Best is trial 3 with value: 0.8823529411764706.\n",
            "[I 2024-03-18 16:16:01,132] Trial 6 finished with value: 0.8329411764705882 and parameters: {'learning_rate': 0.09318265927380301, 'n_estimators': 912, 'lambda_l1': 0.064687886639049, 'lambda_l2': 5.207166191887387, 'max_depth': 4, 'colsample_bytree': 0.8880885206186604, 'subsample': 0.6586491051230332, 'min_child_samples': 11}. Best is trial 3 with value: 0.8823529411764706.\n",
            "[I 2024-03-18 16:16:21,779] Trial 7 finished with value: 0.8470588235294118 and parameters: {'learning_rate': 0.06100464360886988, 'n_estimators': 715, 'lambda_l1': 1.860810265138697, 'lambda_l2': 0.0005391755413369688, 'max_depth': 5, 'colsample_bytree': 0.9076147659867755, 'subsample': 0.6178083109626309, 'min_child_samples': 15}. Best is trial 3 with value: 0.8823529411764706.\n",
            "[I 2024-03-18 16:16:49,795] Trial 8 finished with value: 0.8447058823529412 and parameters: {'learning_rate': 0.08101641617168842, 'n_estimators': 819, 'lambda_l1': 0.08272191216424124, 'lambda_l2': 4.140931842413847e-05, 'max_depth': 8, 'colsample_bytree': 0.7266416690698485, 'subsample': 0.7376136061268438, 'min_child_samples': 22}. Best is trial 3 with value: 0.8823529411764706.\n",
            "[I 2024-03-18 16:16:53,942] Trial 9 finished with value: 0.8682352941176471 and parameters: {'learning_rate': 0.09908234609544157, 'n_estimators': 186, 'lambda_l1': 0.0005295474799956917, 'lambda_l2': 5.32265180040775e-05, 'max_depth': 4, 'colsample_bytree': 0.6846106908594144, 'subsample': 0.7578109162485283, 'min_child_samples': 29}. Best is trial 3 with value: 0.8823529411764706.\n",
            "[I 2024-03-18 16:16:58,477] Trial 10 finished with value: 0.8729411764705882 and parameters: {'learning_rate': 0.018659852971073997, 'n_estimators': 100, 'lambda_l1': 1.8677275238545467e-05, 'lambda_l2': 0.030686564287803194, 'max_depth': 10, 'colsample_bytree': 0.8010090072618852, 'subsample': 0.9744375354600834, 'min_child_samples': 6}. Best is trial 3 with value: 0.8823529411764706.\n",
            "[I 2024-03-18 16:17:02,314] Trial 11 finished with value: 0.8752941176470588 and parameters: {'learning_rate': 0.0171401956624921, 'n_estimators': 104, 'lambda_l1': 1.6303052503811906e-05, 'lambda_l2': 0.02071360643514564, 'max_depth': 10, 'colsample_bytree': 0.8255757912881927, 'subsample': 0.9988154217422961, 'min_child_samples': 5}. Best is trial 3 with value: 0.8823529411764706.\n",
            "[I 2024-03-18 16:17:11,702] Trial 12 finished with value: 0.8847058823529412 and parameters: {'learning_rate': 0.01866104961542587, 'n_estimators': 257, 'lambda_l1': 0.00020605994805615273, 'lambda_l2': 0.015158716901112205, 'max_depth': 8, 'colsample_bytree': 0.8717586990293921, 'subsample': 0.9992702319487082, 'min_child_samples': 6}. Best is trial 12 with value: 0.8847058823529412.\n",
            "[I 2024-03-18 16:17:21,348] Trial 13 finished with value: 0.8705882352941177 and parameters: {'learning_rate': 0.0358177332651151, 'n_estimators': 299, 'lambda_l1': 0.0005733326519272322, 'lambda_l2': 0.016709640176084842, 'max_depth': 8, 'colsample_bytree': 0.9375831262646827, 'subsample': 0.9115313603905085, 'min_child_samples': 19}. Best is trial 12 with value: 0.8847058823529412.\n",
            "[I 2024-03-18 16:17:31,152] Trial 14 finished with value: 0.8729411764705882 and parameters: {'learning_rate': 0.03610808565128269, 'n_estimators': 275, 'lambda_l1': 3.284843813372115e-05, 'lambda_l2': 1.1676098442580164e-08, 'max_depth': 8, 'colsample_bytree': 0.844834596618248, 'subsample': 0.5345283475107896, 'min_child_samples': 23}. Best is trial 12 with value: 0.8847058823529412.\n",
            "[I 2024-03-18 16:17:48,600] Trial 15 finished with value: 0.8705882352941177 and parameters: {'learning_rate': 0.03488475991037197, 'n_estimators': 510, 'lambda_l1': 0.0013116927274681152, 'lambda_l2': 0.22668491727382664, 'max_depth': 7, 'colsample_bytree': 0.9701463304654144, 'subsample': 0.9158374962446902, 'min_child_samples': 9}. Best is trial 12 with value: 0.8847058823529412.\n",
            "[I 2024-03-18 16:17:59,264] Trial 16 finished with value: 0.8752941176470588 and parameters: {'learning_rate': 0.02497025262958728, 'n_estimators': 366, 'lambda_l1': 6.81262620321536e-07, 'lambda_l2': 0.0028428258942486085, 'max_depth': 6, 'colsample_bytree': 0.7715787477208869, 'subsample': 0.9059289286537655, 'min_child_samples': 16}. Best is trial 12 with value: 0.8847058823529412.\n",
            "[I 2024-03-18 16:18:22,237] Trial 17 finished with value: 0.8823529411764706 and parameters: {'learning_rate': 0.010856562948320195, 'n_estimators': 642, 'lambda_l1': 2.576405647250926e-06, 'lambda_l2': 0.09661283301264538, 'max_depth': 9, 'colsample_bytree': 0.880132060715851, 'subsample': 0.8462432757657266, 'min_child_samples': 13}. Best is trial 12 with value: 0.8847058823529412.\n",
            "[I 2024-03-18 16:18:29,806] Trial 18 finished with value: 0.8611764705882353 and parameters: {'learning_rate': 0.04621231813442578, 'n_estimators': 226, 'lambda_l1': 0.013709344011552686, 'lambda_l2': 0.0018163146589406565, 'max_depth': 7, 'colsample_bytree': 0.7439955564599541, 'subsample': 0.9598332526140957, 'min_child_samples': 20}. Best is trial 12 with value: 0.8847058823529412.\n",
            "[I 2024-03-18 16:18:36,494] Trial 19 finished with value: 0.8682352941176471 and parameters: {'learning_rate': 0.04807598875807914, 'n_estimators': 187, 'lambda_l1': 7.247238771434765e-05, 'lambda_l2': 2.192237946000274e-06, 'max_depth': 9, 'colsample_bytree': 0.8645978139842038, 'subsample': 0.9375431508801941, 'min_child_samples': 25}. Best is trial 12 with value: 0.8847058823529412.\n",
            "[I 2024-03-18 16:18:46,935] Trial 20 finished with value: 0.8588235294117647 and parameters: {'learning_rate': 0.027565398664536833, 'n_estimators': 405, 'lambda_l1': 0.003028384429104645, 'lambda_l2': 0.5716677599161359, 'max_depth': 5, 'colsample_bytree': 0.6757475793258835, 'subsample': 0.8738671964556339, 'min_child_samples': 8}. Best is trial 12 with value: 0.8847058823529412.\n",
            "[I 2024-03-18 16:19:09,041] Trial 21 finished with value: 0.8776470588235294 and parameters: {'learning_rate': 0.010052790979719976, 'n_estimators': 608, 'lambda_l1': 1.935711567109761e-06, 'lambda_l2': 0.11082923852743012, 'max_depth': 9, 'colsample_bytree': 0.9276785829920208, 'subsample': 0.8370727717794657, 'min_child_samples': 13}. Best is trial 12 with value: 0.8847058823529412.\n",
            "[I 2024-03-18 16:19:33,923] Trial 22 finished with value: 0.8682352941176471 and parameters: {'learning_rate': 0.014291520689802682, 'n_estimators': 716, 'lambda_l1': 5.424820484820839e-06, 'lambda_l2': 0.005536024487177797, 'max_depth': 9, 'colsample_bytree': 0.881998043538612, 'subsample': 0.7891272932958365, 'min_child_samples': 12}. Best is trial 12 with value: 0.8847058823529412.\n",
            "[I 2024-03-18 16:19:53,304] Trial 23 finished with value: 0.8682352941176471 and parameters: {'learning_rate': 0.027766427357277676, 'n_estimators': 548, 'lambda_l1': 3.0482141941640723e-07, 'lambda_l2': 0.10548726938977838, 'max_depth': 8, 'colsample_bytree': 0.9466577174472167, 'subsample': 0.9726944698900523, 'min_child_samples': 17}. Best is trial 12 with value: 0.8847058823529412.\n",
            "[I 2024-03-18 16:20:16,256] Trial 24 finished with value: 0.8729411764705882 and parameters: {'learning_rate': 0.010225663305022949, 'n_estimators': 690, 'lambda_l1': 0.0002220249102461771, 'lambda_l2': 0.833634077076716, 'max_depth': 7, 'colsample_bytree': 0.8471614979396047, 'subsample': 0.9972309256789182, 'min_child_samples': 7}. Best is trial 12 with value: 0.8847058823529412.\n",
            "[I 2024-03-18 16:20:32,125] Trial 25 finished with value: 0.8635294117647059 and parameters: {'learning_rate': 0.021354206966353827, 'n_estimators': 477, 'lambda_l1': 0.00010895176437600975, 'lambda_l2': 0.055206931940807814, 'max_depth': 9, 'colsample_bytree': 0.7841446563071942, 'subsample': 0.8836360081398735, 'min_child_samples': 17}. Best is trial 12 with value: 0.8847058823529412.\n",
            "[I 2024-03-18 16:20:55,291] Trial 26 finished with value: 0.8588235294117647 and parameters: {'learning_rate': 0.043969337009863996, 'n_estimators': 633, 'lambda_l1': 7.558724188128299e-06, 'lambda_l2': 0.007666874368394242, 'max_depth': 10, 'colsample_bytree': 0.8856905216988793, 'subsample': 0.9428318625030173, 'min_child_samples': 13}. Best is trial 12 with value: 0.8847058823529412.\n",
            "[I 2024-03-18 16:21:10,326] Trial 27 finished with value: 0.8588235294117647 and parameters: {'learning_rate': 0.029966147034870994, 'n_estimators': 796, 'lambda_l1': 2.3594050286374695e-07, 'lambda_l2': 9.219693881436228, 'max_depth': 3, 'colsample_bytree': 0.8380356388667427, 'subsample': 0.7983991193886495, 'min_child_samples': 21}. Best is trial 12 with value: 0.8847058823529412.\n",
            "[I 2024-03-18 16:21:41,385] Trial 28 finished with value: 0.8588235294117647 and parameters: {'learning_rate': 0.021118085880161112, 'n_estimators': 992, 'lambda_l1': 0.0035365442875400816, 'lambda_l2': 0.0011810159941805522, 'max_depth': 6, 'colsample_bytree': 0.9766278013928442, 'subsample': 0.8706582712683374, 'min_child_samples': 10}. Best is trial 12 with value: 0.8847058823529412.\n",
            "[I 2024-03-18 16:21:47,220] Trial 29 finished with value: 0.8752941176470588 and parameters: {'learning_rate': 0.015020108732735514, 'n_estimators': 239, 'lambda_l1': 7.393983978448364, 'lambda_l2': 1.7838273392933346, 'max_depth': 3, 'colsample_bytree': 0.8129382751013585, 'subsample': 0.9352243593162907, 'min_child_samples': 19}. Best is trial 12 with value: 0.8847058823529412.\n",
            "[I 2024-03-18 16:21:59,731] Trial 30 finished with value: 0.8658823529411764 and parameters: {'learning_rate': 0.04068324676912463, 'n_estimators': 360, 'lambda_l1': 3.892761410093092e-06, 'lambda_l2': 0.32686036075226466, 'max_depth': 8, 'colsample_bytree': 0.9130548761983283, 'subsample': 0.6033496434730505, 'min_child_samples': 26}. Best is trial 12 with value: 0.8847058823529412.\n",
            "[I 2024-03-18 16:22:21,850] Trial 31 finished with value: 0.8776470588235294 and parameters: {'learning_rate': 0.010657699915085111, 'n_estimators': 603, 'lambda_l1': 1.7346289981668454e-06, 'lambda_l2': 0.13312867881733423, 'max_depth': 9, 'colsample_bytree': 0.9325542638899111, 'subsample': 0.8339245424096977, 'min_child_samples': 14}. Best is trial 12 with value: 0.8847058823529412.\n",
            "[I 2024-03-18 16:22:43,320] Trial 32 finished with value: 0.8658823529411764 and parameters: {'learning_rate': 0.023283902575578903, 'n_estimators': 608, 'lambda_l1': 1.106450294041132e-08, 'lambda_l2': 0.06169587670498348, 'max_depth': 9, 'colsample_bytree': 0.912197592999569, 'subsample': 0.7964966585095284, 'min_child_samples': 13}. Best is trial 12 with value: 0.8847058823529412.\n",
            "[I 2024-03-18 16:23:03,482] Trial 33 finished with value: 0.8847058823529412 and parameters: {'learning_rate': 0.010590517536291002, 'n_estimators': 558, 'lambda_l1': 1.0890298881997919e-07, 'lambda_l2': 2.8655212487523816, 'max_depth': 10, 'colsample_bytree': 0.9993971204594133, 'subsample': 0.8541547893074595, 'min_child_samples': 16}. Best is trial 12 with value: 0.8847058823529412.\n",
            "[I 2024-03-18 16:23:23,709] Trial 34 finished with value: 0.8729411764705882 and parameters: {'learning_rate': 0.031017681209742128, 'n_estimators': 525, 'lambda_l1': 3.3585202994270493e-07, 'lambda_l2': 1.9852199598050855, 'max_depth': 10, 'colsample_bytree': 0.9938344700687631, 'subsample': 0.7122705719650491, 'min_child_samples': 18}. Best is trial 12 with value: 0.8847058823529412.\n",
            "[I 2024-03-18 16:23:36,531] Trial 35 finished with value: 0.8705882352941177 and parameters: {'learning_rate': 0.01664635228032338, 'n_estimators': 448, 'lambda_l1': 5.928519475694772e-08, 'lambda_l2': 2.287062685295622, 'max_depth': 10, 'colsample_bytree': 0.5027838520483914, 'subsample': 0.8878664222306466, 'min_child_samples': 16}. Best is trial 12 with value: 0.8847058823529412.\n",
            "[I 2024-03-18 16:23:59,260] Trial 36 finished with value: 0.8470588235294118 and parameters: {'learning_rate': 0.05461069420453061, 'n_estimators': 779, 'lambda_l1': 1.5362497342189378e-07, 'lambda_l2': 0.00950325031787361, 'max_depth': 5, 'colsample_bytree': 0.9514609464240299, 'subsample': 0.8565200315900579, 'min_child_samples': 15}. Best is trial 12 with value: 0.8847058823529412.\n",
            "[I 2024-03-18 16:24:12,639] Trial 37 finished with value: 0.8541176470588235 and parameters: {'learning_rate': 0.08218369940920761, 'n_estimators': 398, 'lambda_l1': 3.7174266381587156e-08, 'lambda_l2': 0.00021947481193423796, 'max_depth': 7, 'colsample_bytree': 0.999322955412237, 'subsample': 0.970531153222667, 'min_child_samples': 11}. Best is trial 12 with value: 0.8847058823529412.\n",
            "[I 2024-03-18 16:24:36,593] Trial 38 finished with value: 0.8776470588235294 and parameters: {'learning_rate': 0.014440335338327226, 'n_estimators': 654, 'lambda_l1': 5.9155342947679334e-05, 'lambda_l2': 5.610437834936191, 'max_depth': 9, 'colsample_bytree': 0.8664473892305447, 'subsample': 0.8173551003760119, 'min_child_samples': 20}. Best is trial 12 with value: 0.8847058823529412.\n",
            "[I 2024-03-18 16:24:41,841] Trial 39 finished with value: 0.8870588235294118 and parameters: {'learning_rate': 0.02338678494988866, 'n_estimators': 157, 'lambda_l1': 9.240260858706233e-06, 'lambda_l2': 0.7197622909742867, 'max_depth': 10, 'colsample_bytree': 0.703042972368709, 'subsample': 0.7622425699794209, 'min_child_samples': 8}. Best is trial 39 with value: 0.8870588235294118.\n",
            "[I 2024-03-18 16:24:47,868] Trial 40 finished with value: 0.8941176470588236 and parameters: {'learning_rate': 0.024150351959551185, 'n_estimators': 159, 'lambda_l1': 0.4763351315433024, 'lambda_l2': 0.9029746887956429, 'max_depth': 10, 'colsample_bytree': 0.637831776339501, 'subsample': 0.6755208165929274, 'min_child_samples': 7}. Best is trial 40 with value: 0.8941176470588236.\n",
            "[I 2024-03-18 16:24:52,857] Trial 41 finished with value: 0.8870588235294118 and parameters: {'learning_rate': 0.023954817689227324, 'n_estimators': 134, 'lambda_l1': 0.5465405201820945, 'lambda_l2': 0.8503385244803828, 'max_depth': 10, 'colsample_bytree': 0.6383994936577567, 'subsample': 0.6759471702826116, 'min_child_samples': 5}. Best is trial 40 with value: 0.8941176470588236.\n",
            "[I 2024-03-18 16:24:59,466] Trial 42 finished with value: 0.8870588235294118 and parameters: {'learning_rate': 0.03245104535618208, 'n_estimators': 157, 'lambda_l1': 0.6689112223062832, 'lambda_l2': 0.9315212048690019, 'max_depth': 10, 'colsample_bytree': 0.6089287010903852, 'subsample': 0.6663351136174118, 'min_child_samples': 5}. Best is trial 40 with value: 0.8941176470588236.\n",
            "[I 2024-03-18 16:25:04,737] Trial 43 finished with value: 0.8870588235294118 and parameters: {'learning_rate': 0.032524706089568714, 'n_estimators': 152, 'lambda_l1': 0.1797184476503997, 'lambda_l2': 0.7228237602922095, 'max_depth': 10, 'colsample_bytree': 0.6110866110429506, 'subsample': 0.6629136538651759, 'min_child_samples': 5}. Best is trial 40 with value: 0.8941176470588236.\n",
            "[I 2024-03-18 16:25:11,338] Trial 44 finished with value: 0.8870588235294118 and parameters: {'learning_rate': 0.03378654342387489, 'n_estimators': 156, 'lambda_l1': 0.26885961171561423, 'lambda_l2': 0.7252909132963405, 'max_depth': 10, 'colsample_bytree': 0.6125456545517807, 'subsample': 0.6613708833198434, 'min_child_samples': 5}. Best is trial 40 with value: 0.8941176470588236.\n",
            "[I 2024-03-18 16:25:16,678] Trial 45 finished with value: 0.88 and parameters: {'learning_rate': 0.039690586305206756, 'n_estimators': 154, 'lambda_l1': 0.7023820909147106, 'lambda_l2': 0.3292421178339299, 'max_depth': 10, 'colsample_bytree': 0.6228458959038947, 'subsample': 0.6240771278912758, 'min_child_samples': 7}. Best is trial 40 with value: 0.8941176470588236.\n",
            "[I 2024-03-18 16:25:21,280] Trial 46 finished with value: 0.8752941176470588 and parameters: {'learning_rate': 0.05263913583037727, 'n_estimators': 131, 'lambda_l1': 0.19125742830798712, 'lambda_l2': 0.721103858131146, 'max_depth': 10, 'colsample_bytree': 0.655582139956679, 'subsample': 0.6854172456134778, 'min_child_samples': 8}. Best is trial 40 with value: 0.8941176470588236.\n",
            "[I 2024-03-18 16:25:28,834] Trial 47 finished with value: 0.8847058823529412 and parameters: {'learning_rate': 0.02583589950905432, 'n_estimators': 201, 'lambda_l1': 2.107457086549212, 'lambda_l2': 7.5622916537417755, 'max_depth': 10, 'colsample_bytree': 0.5904986799759806, 'subsample': 0.5713296595413593, 'min_child_samples': 5}. Best is trial 40 with value: 0.8941176470588236.\n",
            "[I 2024-03-18 16:25:39,319] Trial 48 finished with value: 0.8564705882352941 and parameters: {'learning_rate': 0.06481684205901032, 'n_estimators': 297, 'lambda_l1': 0.026256280230617032, 'lambda_l2': 1.4357136717694137, 'max_depth': 10, 'colsample_bytree': 0.7075166077094783, 'subsample': 0.7276001397244869, 'min_child_samples': 6}. Best is trial 40 with value: 0.8941176470588236.\n",
            "[I 2024-03-18 16:25:43,932] Trial 49 finished with value: 0.8917647058823529 and parameters: {'learning_rate': 0.03135296921295684, 'n_estimators': 146, 'lambda_l1': 8.387639940651784, 'lambda_l2': 0.03852871030268831, 'max_depth': 10, 'colsample_bytree': 0.5469650503694243, 'subsample': 0.7594866954970986, 'min_child_samples': 9}. Best is trial 40 with value: 0.8941176470588236.\n"
          ]
        },
        {
          "output_type": "stream",
          "name": "stdout",
          "text": [
            "Melhores parâmetros encontrados:\n",
            "{'learning_rate': 0.024150351959551185, 'n_estimators': 159, 'lambda_l1': 0.4763351315433024, 'lambda_l2': 0.9029746887956429, 'max_depth': 10, 'colsample_bytree': 0.637831776339501, 'subsample': 0.6755208165929274, 'min_child_samples': 7}\n"
          ]
        }
      ]
    },
    {
      "cell_type": "code",
      "source": [
        "# import lightgbm as lgb\n",
        "\n",
        "param = {\n",
        "    \"objective\": \"binary\",\n",
        "    \"metric\": \"binary_logloss\",\n",
        "    \"verbosity\": -1,\n",
        "    \"boosting_type\": \"gbdt\",\n",
        "    \"random_state\": 42,\n",
        "    'learning_rate': 0.02391063426109835,\n",
        "    'n_estimators': 562,\n",
        "    'lambda_l1': 0.12446683432165574,\n",
        "    'lambda_l2': 0.0286524933019746,\n",
        "    'max_depth': 3,\n",
        "    'colsample_bytree': 0.6252792239733316,\n",
        "    'subsample': 0.9192948684306037,\n",
        "    'min_child_samples': 23\n",
        "}\n",
        "\n",
        "modelo_lgb = lgb.LGBMClassifier(**param, verbose=100)\n",
        "\n",
        "modelo_lgb.fit(X_treino_preprocessado_resampled, y_treino_resampled)\n",
        "\n",
        "y_teste_previsto = modelo_lgb.predict(X_teste_preprocessado)"
      ],
      "metadata": {
        "id": "4yrgiESxlgYn"
      },
      "execution_count": null,
      "outputs": []
    },
    {
      "cell_type": "code",
      "source": [
        "# from sklearn.metrics import classification_report\n",
        "\n",
        "print(classification_report(y_teste, y_teste_previsto))"
      ],
      "metadata": {
        "colab": {
          "base_uri": "https://localhost:8080/"
        },
        "id": "773Gcq8sljeq",
        "outputId": "a4a84358-d90d-4cc8-b97f-a357aacf18c8"
      },
      "execution_count": null,
      "outputs": [
        {
          "output_type": "stream",
          "name": "stdout",
          "text": [
            "              precision    recall  f1-score   support\n",
            "\n",
            "         0.0       1.00      0.97      0.98     40468\n",
            "         1.0       0.24      0.89      0.38       425\n",
            "\n",
            "    accuracy                           0.97     40893\n",
            "   macro avg       0.62      0.93      0.68     40893\n",
            "weighted avg       0.99      0.97      0.98     40893\n",
            "\n"
          ]
        }
      ]
    },
    {
      "cell_type": "code",
      "source": [
        "# from sklearn.metrics import confusion_matrix\n",
        "# from sklearn.metrics import ConfusionMatrixDisplay\n",
        "\n",
        "matriz = confusion_matrix(y_teste, y_teste_previsto)\n",
        "disp = ConfusionMatrixDisplay(confusion_matrix=matriz)\n",
        "disp.plot()"
      ],
      "metadata": {
        "colab": {
          "base_uri": "https://localhost:8080/",
          "height": 466
        },
        "id": "odRAF3l4lkes",
        "outputId": "1649afa0-8b40-439f-8891-c021c1812107"
      },
      "execution_count": null,
      "outputs": [
        {
          "output_type": "execute_result",
          "data": {
            "text/plain": [
              "<sklearn.metrics._plot.confusion_matrix.ConfusionMatrixDisplay at 0x7f1b762bbd90>"
            ]
          },
          "metadata": {},
          "execution_count": 128
        },
        {
          "output_type": "display_data",
          "data": {
            "text/plain": [
              "<Figure size 640x480 with 2 Axes>"
            ],
            "image/png": "[encoded data removed]"
          },
          "metadata": {}
        }
      ]
    },
    {
      "cell_type": "code",
      "source": [
        "# from sklearn.metrics import roc_curve, roc_auc_score\n",
        "\n",
        "prob_previsao = modelo_lgb.predict_proba(X_teste_preprocessado)[:,1]\n",
        "\n",
        "#tfp = taxa de falso positivos\n",
        "#tvp = taxa de verdadeiro positivo\n",
        "\n",
        "tfp, tvp, limite = roc_curve(y_teste, prob_previsao)\n",
        "print('roc_auc', roc_auc_score(y_teste, prob_previsao))\n",
        "\n",
        "plt.subplots(1, figsize = (5, 5))\n",
        "plt.title('Curva ROC')\n",
        "plt.plot(tfp, tvp)\n",
        "plt.xlabel('Especificidade')\n",
        "plt.ylabel('Sensibilidade')\n",
        "plt.plot([0, 1], ls = '--', c = 'red') # plotando linha guia pontilhada vermelha\n",
        "plt.plot([0, 0], [1, 0], ls = '--', c = 'green'), plt.plot([1, 1], ls = '--', c = 'green') # plotando linha guia verde\n",
        "plt.show()"
      ],
      "metadata": {
        "colab": {
          "base_uri": "https://localhost:8080/",
          "height": 504
        },
        "id": "Uy1TB_exlm9x",
        "outputId": "7af84334-ca5c-4ced-9f3a-02be36adf88a"
      },
      "execution_count": null,
      "outputs": [
        {
          "output_type": "stream",
          "name": "stdout",
          "text": [
            "roc_auc 0.9779542296309648\n"
          ]
        },
        {
          "output_type": "display_data",
          "data": {
            "text/plain": [
              "<Figure size 500x500 with 1 Axes>"
            ],
            "image/png": "[encoded data removed]"
          },
          "metadata": {}
        }
      ]
    },
    {
      "cell_type": "markdown",
      "source": [
        "# Melhor modelo"
      ],
      "metadata": {
        "id": "k6FAwCrp0j55"
      }
    },
    {
      "cell_type": "markdown",
      "source": [
        "O melhor modelo foi o modelo LightGBM através da otimização de hiperparâmetros com a ajuda da biblioteca Optuna.\n",
        "\n",
        "Optuna é uma biblioteca de otimização de hiperparâmetros automatizada para machine learning. Esta biblioteca oferece uma abordagem flexível e eficiente para encontrar os melhores conjuntos de hiperparâmetros para modelos de machine learning.\n",
        "\n",
        "Neste modelo de LightGBM, conseguimos acertar até 90% dos dados reais.\n",
        "\n",
        "\n",
        "\n",
        "\n",
        "\n"
      ],
      "metadata": {
        "id": "rNGVFGI40mQS"
      }
    },
    {
      "cell_type": "markdown",
      "source": [
        "# Bonus: Redes Neurais Profundas"
      ],
      "metadata": {
        "id": "N-ad0Lr7qH3I"
      }
    },
    {
      "cell_type": "code",
      "source": [
        "def objective(trial):\n",
        "    units_dense1 = trial.suggest_int('units_dense1', 64, 512)\n",
        "    dropout_rate1 = trial.suggest_float('dropout_rate1', 0.1, 0.5)\n",
        "    units_dense2 = trial.suggest_int('units_dense2', 32, 256)\n",
        "    dropout_rate2 = trial.suggest_float('dropout_rate2', 0.1, 0.5)\n",
        "    units_dense3 = trial.suggest_float('units_dense3', 16, 128)\n",
        "    dropout_rate3 = trial.suggest_float('dropout_rate3', 0.1, 0.5)\n",
        "    learning_rate = trial.suggest_float('learning_rate', 1e-4, 1e-2)\n",
        "\n",
        "    modelo_dnn = Sequential([\n",
        "        Dense(units_dense1, activation='relu', input_shape=(X_treino_preprocessado_resampled.shape[1],)),\n",
        "        Dropout(dropout_rate1),\n",
        "        Dense(units_dense2, activation='relu'),\n",
        "        Dropout(dropout_rate2),\n",
        "        Dense(units_dense3, activation = 'relu'),\n",
        "        Dropout(dropout_rate3),\n",
        "        Dense(1, activation='sigmoid')\n",
        "    ])\n",
        "\n",
        "    optimizador = Adam(learning_rate=learning_rate)\n",
        "    modelo_dnn.compile(optimizer=optimizador, loss='binary_crossentropy', metrics=[Recall()])\n",
        "\n",
        "    modelo_dnn.fit(X_treino_preprocessado_resampled, y_treino_resampled, epochs=10, batch_size=64, verbose=0)\n",
        "\n",
        "    _, recall = modelo_dnn.evaluate(X_teste_preprocessado, y_teste)\n",
        "\n",
        "    return recall\n",
        "\n",
        "optuna_estudo = optuna.create_study(direction='maximize')\n",
        "optuna_estudo.optimize(objective, n_trials=5)\n",
        "\n",
        "print('Melhores hiperparâmetros da DNN:', optuna_estudo.best_params)"
      ],
      "metadata": {
        "colab": {
          "base_uri": "https://localhost:8080/",
          "height": 1000
        },
        "id": "bv7pXO0gfhSQ",
        "outputId": "edb81437-61fe-4a3c-abbb-813e85e719ab"
      },
      "execution_count": null,
      "outputs": [
        {
          "output_type": "stream",
          "name": "stderr",
          "text": [
            "[I 2024-03-18 17:37:55,092] A new study created in memory with name: no-name-68220541-253b-4a63-9466-010bf5081440\n"
          ]
        },
        {
          "output_type": "stream",
          "name": "stdout",
          "text": [
            "1278/1278 [==============================] - 3s 3ms/step - loss: 0.1299 - recall_13: 0.8965\n"
          ]
        },
        {
          "output_type": "stream",
          "name": "stderr",
          "text": [
            "[I 2024-03-18 17:41:23,350] Trial 0 finished with value: 0.8964706063270569 and parameters: {'units_dense1': 149, 'dropout_rate1': 0.2089784999215677, 'units_dense2': 172, 'dropout_rate2': 0.4598278645707591, 'units_dense3': 101.46022842340838, 'learning_rate': 0.009258189781144307}. Best is trial 0 with value: 0.8964706063270569.\n"
          ]
        },
        {
          "output_type": "stream",
          "name": "stdout",
          "text": [
            "1278/1278 [==============================] - 3s 2ms/step - loss: 0.0770 - recall_14: 0.8918\n"
          ]
        },
        {
          "output_type": "stream",
          "name": "stderr",
          "text": [
            "[I 2024-03-18 17:43:50,259] Trial 1 finished with value: 0.8917647004127502 and parameters: {'units_dense1': 495, 'dropout_rate1': 0.17774559519707114, 'units_dense2': 92, 'dropout_rate2': 0.3627692508169391, 'units_dense3': 97.11452567414916, 'learning_rate': 0.0050545139155041925}. Best is trial 0 with value: 0.8964706063270569.\n"
          ]
        },
        {
          "output_type": "stream",
          "name": "stdout",
          "text": [
            "1278/1278 [==============================] - 5s 4ms/step - loss: 0.0624 - recall_15: 0.8565\n"
          ]
        },
        {
          "output_type": "stream",
          "name": "stderr",
          "text": [
            "[I 2024-03-18 17:46:38,314] Trial 2 finished with value: 0.8564705848693848 and parameters: {'units_dense1': 301, 'dropout_rate1': 0.2800215714062618, 'units_dense2': 155, 'dropout_rate2': 0.12561106689575655, 'units_dense3': 95.26904941829632, 'learning_rate': 0.004905788616637317}. Best is trial 0 with value: 0.8964706063270569.\n"
          ]
        },
        {
          "output_type": "stream",
          "name": "stdout",
          "text": [
            "1278/1278 [==============================] - 4s 3ms/step - loss: 0.0644 - recall_16: 0.8871\n"
          ]
        },
        {
          "output_type": "stream",
          "name": "stderr",
          "text": [
            "[I 2024-03-18 17:50:04,041] Trial 3 finished with value: 0.8870587944984436 and parameters: {'units_dense1': 392, 'dropout_rate1': 0.30015800288870076, 'units_dense2': 224, 'dropout_rate2': 0.3569014207200615, 'units_dense3': 74.36991908532828, 'learning_rate': 0.004916386779798508}. Best is trial 0 with value: 0.8964706063270569.\n",
            "[W 2024-03-18 17:52:00,732] Trial 4 failed with parameters: {'units_dense1': 122, 'dropout_rate1': 0.14477034644540832, 'units_dense2': 123, 'dropout_rate2': 0.12199501792633237, 'units_dense3': 28.882555460228534, 'learning_rate': 0.003550424788556649} because of the following error: KeyboardInterrupt().\n",
            "Traceback (most recent call last):\n",
            "  File \"/usr/local/lib/python3.10/dist-packages/optuna/study/_optimize.py\", line 196, in _run_trial\n",
            "    value_or_values = func(trial)\n",
            "  File \"<ipython-input-154-9e4ea03b3f90>\", line 28, in objective\n",
            "    model.fit(X_treino_preprocessado_resampled, y_treino_resampled, epochs=10, batch_size=64, verbose=0)\n",
            "  File \"/usr/local/lib/python3.10/dist-packages/keras/src/utils/traceback_utils.py\", line 65, in error_handler\n",
            "    return fn(*args, **kwargs)\n",
            "  File \"/usr/local/lib/python3.10/dist-packages/keras/src/engine/training.py\", line 1807, in fit\n",
            "    tmp_logs = self.train_function(iterator)\n",
            "  File \"/usr/local/lib/python3.10/dist-packages/tensorflow/python/util/traceback_utils.py\", line 150, in error_handler\n",
            "    return fn(*args, **kwargs)\n",
            "  File \"/usr/local/lib/python3.10/dist-packages/tensorflow/python/eager/polymorphic_function/polymorphic_function.py\", line 832, in __call__\n",
            "    result = self._call(*args, **kwds)\n",
            "  File \"/usr/local/lib/python3.10/dist-packages/tensorflow/python/eager/polymorphic_function/polymorphic_function.py\", line 868, in _call\n",
            "    return tracing_compilation.call_function(\n",
            "  File \"/usr/local/lib/python3.10/dist-packages/tensorflow/python/eager/polymorphic_function/tracing_compilation.py\", line 132, in call_function\n",
            "    function = trace_function(\n",
            "  File \"/usr/local/lib/python3.10/dist-packages/tensorflow/python/eager/polymorphic_function/tracing_compilation.py\", line 178, in trace_function\n",
            "    concrete_function = _maybe_define_function(\n",
            "  File \"/usr/local/lib/python3.10/dist-packages/tensorflow/python/eager/polymorphic_function/tracing_compilation.py\", line 239, in _maybe_define_function\n",
            "    concrete_function = tracing_options.function_cache.lookup(\n",
            "  File \"/usr/local/lib/python3.10/dist-packages/tensorflow/core/function/polymorphism/function_cache.py\", line 50, in lookup\n",
            "    return self._primary[(context, dispatch_type)]\n",
            "  File \"/usr/local/lib/python3.10/dist-packages/tensorflow/core/function/polymorphism/function_type.py\", line 456, in __hash__\n",
            "    return hash((tuple(self.parameters.items()), tuple(self.captures.items())))\n",
            "  File \"/usr/local/lib/python3.10/dist-packages/tensorflow/python/framework/tensor.py\", line 895, in __hash__\n",
            "    return hash((self._shape, self.dtype))\n",
            "  File \"/usr/local/lib/python3.10/dist-packages/tensorflow/python/framework/tensor_shape.py\", line 1509, in __hash__\n",
            "    return hash(self._dims)\n",
            "KeyboardInterrupt\n",
            "[W 2024-03-18 17:52:00,742] Trial 4 failed with value None.\n"
          ]
        },
        {
          "output_type": "error",
          "ename": "KeyboardInterrupt",
          "evalue": "",
          "traceback": [
            "\u001b[0;31m---------------------------------------------------------------------------\u001b[0m",
            "\u001b[0;31mKeyboardInterrupt\u001b[0m                         Traceback (most recent call last)",
            "\u001b[0;32m<ipython-input-154-9e4ea03b3f90>\u001b[0m in \u001b[0;36m<cell line: 38>\u001b[0;34m()\u001b[0m\n\u001b[1;32m     36\u001b[0m \u001b[0;31m# Criar um estudo Optuna\u001b[0m\u001b[0;34m\u001b[0m\u001b[0;34m\u001b[0m\u001b[0m\n\u001b[1;32m     37\u001b[0m \u001b[0mstudy\u001b[0m \u001b[0;34m=\u001b[0m \u001b[0moptuna\u001b[0m\u001b[0;34m.\u001b[0m\u001b[0mcreate_study\u001b[0m\u001b[0;34m(\u001b[0m\u001b[0mdirection\u001b[0m\u001b[0;34m=\u001b[0m\u001b[0;34m'maximize'\u001b[0m\u001b[0;34m)\u001b[0m\u001b[0;34m\u001b[0m\u001b[0;34m\u001b[0m\u001b[0m\n\u001b[0;32m---> 38\u001b[0;31m \u001b[0mstudy\u001b[0m\u001b[0;34m.\u001b[0m\u001b[0moptimize\u001b[0m\u001b[0;34m(\u001b[0m\u001b[0mobjective\u001b[0m\u001b[0;34m,\u001b[0m \u001b[0mn_trials\u001b[0m\u001b[0;34m=\u001b[0m\u001b[0;36m5\u001b[0m\u001b[0;34m)\u001b[0m\u001b[0;34m\u001b[0m\u001b[0;34m\u001b[0m\u001b[0m\n\u001b[0m\u001b[1;32m     39\u001b[0m \u001b[0;34m\u001b[0m\u001b[0m\n\u001b[1;32m     40\u001b[0m \u001b[0;31m# Obter os melhores hiperparâmetros encontrados\u001b[0m\u001b[0;34m\u001b[0m\u001b[0;34m\u001b[0m\u001b[0m\n",
            "\u001b[0;32m/usr/local/lib/python3.10/dist-packages/optuna/study/study.py\u001b[0m in \u001b[0;36moptimize\u001b[0;34m(self, func, n_trials, timeout, n_jobs, catch, callbacks, gc_after_trial, show_progress_bar)\u001b[0m\n\u001b[1;32m    449\u001b[0m                 \u001b[0mIf\u001b[0m \u001b[0mnested\u001b[0m \u001b[0minvocation\u001b[0m \u001b[0mof\u001b[0m \u001b[0mthis\u001b[0m \u001b[0mmethod\u001b[0m \u001b[0moccurs\u001b[0m\u001b[0;34m.\u001b[0m\u001b[0;34m\u001b[0m\u001b[0;34m\u001b[0m\u001b[0m\n\u001b[1;32m    450\u001b[0m         \"\"\"\n\u001b[0;32m--> 451\u001b[0;31m         _optimize(\n\u001b[0m\u001b[1;32m    452\u001b[0m             \u001b[0mstudy\u001b[0m\u001b[0;34m=\u001b[0m\u001b[0mself\u001b[0m\u001b[0;34m,\u001b[0m\u001b[0;34m\u001b[0m\u001b[0;34m\u001b[0m\u001b[0m\n\u001b[1;32m    453\u001b[0m             \u001b[0mfunc\u001b[0m\u001b[0;34m=\u001b[0m\u001b[0mfunc\u001b[0m\u001b[0;34m,\u001b[0m\u001b[0;34m\u001b[0m\u001b[0;34m\u001b[0m\u001b[0m\n",
            "\u001b[0;32m/usr/local/lib/python3.10/dist-packages/optuna/study/_optimize.py\u001b[0m in \u001b[0;36m_optimize\u001b[0;34m(study, func, n_trials, timeout, n_jobs, catch, callbacks, gc_after_trial, show_progress_bar)\u001b[0m\n\u001b[1;32m     60\u001b[0m     \u001b[0;32mtry\u001b[0m\u001b[0;34m:\u001b[0m\u001b[0;34m\u001b[0m\u001b[0;34m\u001b[0m\u001b[0m\n\u001b[1;32m     61\u001b[0m         \u001b[0;32mif\u001b[0m \u001b[0mn_jobs\u001b[0m \u001b[0;34m==\u001b[0m \u001b[0;36m1\u001b[0m\u001b[0;34m:\u001b[0m\u001b[0;34m\u001b[0m\u001b[0;34m\u001b[0m\u001b[0m\n\u001b[0;32m---> 62\u001b[0;31m             _optimize_sequential(\n\u001b[0m\u001b[1;32m     63\u001b[0m                 \u001b[0mstudy\u001b[0m\u001b[0;34m,\u001b[0m\u001b[0;34m\u001b[0m\u001b[0;34m\u001b[0m\u001b[0m\n\u001b[1;32m     64\u001b[0m                 \u001b[0mfunc\u001b[0m\u001b[0;34m,\u001b[0m\u001b[0;34m\u001b[0m\u001b[0;34m\u001b[0m\u001b[0m\n",
            "\u001b[0;32m/usr/local/lib/python3.10/dist-packages/optuna/study/_optimize.py\u001b[0m in \u001b[0;36m_optimize_sequential\u001b[0;34m(study, func, n_trials, timeout, catch, callbacks, gc_after_trial, reseed_sampler_rng, time_start, progress_bar)\u001b[0m\n\u001b[1;32m    157\u001b[0m \u001b[0;34m\u001b[0m\u001b[0m\n\u001b[1;32m    158\u001b[0m         \u001b[0;32mtry\u001b[0m\u001b[0;34m:\u001b[0m\u001b[0;34m\u001b[0m\u001b[0;34m\u001b[0m\u001b[0m\n\u001b[0;32m--> 159\u001b[0;31m             \u001b[0mfrozen_trial\u001b[0m \u001b[0;34m=\u001b[0m \u001b[0m_run_trial\u001b[0m\u001b[0;34m(\u001b[0m\u001b[0mstudy\u001b[0m\u001b[0;34m,\u001b[0m \u001b[0mfunc\u001b[0m\u001b[0;34m,\u001b[0m \u001b[0mcatch\u001b[0m\u001b[0;34m)\u001b[0m\u001b[0;34m\u001b[0m\u001b[0;34m\u001b[0m\u001b[0m\n\u001b[0m\u001b[1;32m    160\u001b[0m         \u001b[0;32mfinally\u001b[0m\u001b[0;34m:\u001b[0m\u001b[0;34m\u001b[0m\u001b[0;34m\u001b[0m\u001b[0m\n\u001b[1;32m    161\u001b[0m             \u001b[0;31m# The following line mitigates memory problems that can be occurred in some\u001b[0m\u001b[0;34m\u001b[0m\u001b[0;34m\u001b[0m\u001b[0m\n",
            "\u001b[0;32m/usr/local/lib/python3.10/dist-packages/optuna/study/_optimize.py\u001b[0m in \u001b[0;36m_run_trial\u001b[0;34m(study, func, catch)\u001b[0m\n\u001b[1;32m    245\u001b[0m         \u001b[0;32mand\u001b[0m \u001b[0;32mnot\u001b[0m \u001b[0misinstance\u001b[0m\u001b[0;34m(\u001b[0m\u001b[0mfunc_err\u001b[0m\u001b[0;34m,\u001b[0m \u001b[0mcatch\u001b[0m\u001b[0;34m)\u001b[0m\u001b[0;34m\u001b[0m\u001b[0;34m\u001b[0m\u001b[0m\n\u001b[1;32m    246\u001b[0m     ):\n\u001b[0;32m--> 247\u001b[0;31m         \u001b[0;32mraise\u001b[0m \u001b[0mfunc_err\u001b[0m\u001b[0;34m\u001b[0m\u001b[0;34m\u001b[0m\u001b[0m\n\u001b[0m\u001b[1;32m    248\u001b[0m     \u001b[0;32mreturn\u001b[0m \u001b[0mfrozen_trial\u001b[0m\u001b[0;34m\u001b[0m\u001b[0;34m\u001b[0m\u001b[0m\n\u001b[1;32m    249\u001b[0m \u001b[0;34m\u001b[0m\u001b[0m\n",
            "\u001b[0;32m/usr/local/lib/python3.10/dist-packages/optuna/study/_optimize.py\u001b[0m in \u001b[0;36m_run_trial\u001b[0;34m(study, func, catch)\u001b[0m\n\u001b[1;32m    194\u001b[0m     \u001b[0;32mwith\u001b[0m \u001b[0mget_heartbeat_thread\u001b[0m\u001b[0;34m(\u001b[0m\u001b[0mtrial\u001b[0m\u001b[0;34m.\u001b[0m\u001b[0m_trial_id\u001b[0m\u001b[0;34m,\u001b[0m \u001b[0mstudy\u001b[0m\u001b[0;34m.\u001b[0m\u001b[0m_storage\u001b[0m\u001b[0;34m)\u001b[0m\u001b[0;34m:\u001b[0m\u001b[0;34m\u001b[0m\u001b[0;34m\u001b[0m\u001b[0m\n\u001b[1;32m    195\u001b[0m         \u001b[0;32mtry\u001b[0m\u001b[0;34m:\u001b[0m\u001b[0;34m\u001b[0m\u001b[0;34m\u001b[0m\u001b[0m\n\u001b[0;32m--> 196\u001b[0;31m             \u001b[0mvalue_or_values\u001b[0m \u001b[0;34m=\u001b[0m \u001b[0mfunc\u001b[0m\u001b[0;34m(\u001b[0m\u001b[0mtrial\u001b[0m\u001b[0;34m)\u001b[0m\u001b[0;34m\u001b[0m\u001b[0;34m\u001b[0m\u001b[0m\n\u001b[0m\u001b[1;32m    197\u001b[0m         \u001b[0;32mexcept\u001b[0m \u001b[0mexceptions\u001b[0m\u001b[0;34m.\u001b[0m\u001b[0mTrialPruned\u001b[0m \u001b[0;32mas\u001b[0m \u001b[0me\u001b[0m\u001b[0;34m:\u001b[0m\u001b[0;34m\u001b[0m\u001b[0;34m\u001b[0m\u001b[0m\n\u001b[1;32m    198\u001b[0m             \u001b[0;31m# TODO(mamu): Handle multi-objective cases.\u001b[0m\u001b[0;34m\u001b[0m\u001b[0;34m\u001b[0m\u001b[0m\n",
            "\u001b[0;32m<ipython-input-154-9e4ea03b3f90>\u001b[0m in \u001b[0;36mobjective\u001b[0;34m(trial)\u001b[0m\n\u001b[1;32m     26\u001b[0m \u001b[0;34m\u001b[0m\u001b[0m\n\u001b[1;32m     27\u001b[0m     \u001b[0;31m# Treinar o modelo\u001b[0m\u001b[0;34m\u001b[0m\u001b[0;34m\u001b[0m\u001b[0m\n\u001b[0;32m---> 28\u001b[0;31m     \u001b[0mmodel\u001b[0m\u001b[0;34m.\u001b[0m\u001b[0mfit\u001b[0m\u001b[0;34m(\u001b[0m\u001b[0mX_treino_preprocessado_resampled\u001b[0m\u001b[0;34m,\u001b[0m \u001b[0my_treino_resampled\u001b[0m\u001b[0;34m,\u001b[0m \u001b[0mepochs\u001b[0m\u001b[0;34m=\u001b[0m\u001b[0;36m10\u001b[0m\u001b[0;34m,\u001b[0m \u001b[0mbatch_size\u001b[0m\u001b[0;34m=\u001b[0m\u001b[0;36m64\u001b[0m\u001b[0;34m,\u001b[0m \u001b[0mverbose\u001b[0m\u001b[0;34m=\u001b[0m\u001b[0;36m0\u001b[0m\u001b[0;34m)\u001b[0m\u001b[0;34m\u001b[0m\u001b[0;34m\u001b[0m\u001b[0m\n\u001b[0m\u001b[1;32m     29\u001b[0m \u001b[0;34m\u001b[0m\u001b[0m\n\u001b[1;32m     30\u001b[0m     \u001b[0;31m# Avaliar o modelo\u001b[0m\u001b[0;34m\u001b[0m\u001b[0;34m\u001b[0m\u001b[0m\n",
            "\u001b[0;32m/usr/local/lib/python3.10/dist-packages/keras/src/utils/traceback_utils.py\u001b[0m in \u001b[0;36merror_handler\u001b[0;34m(*args, **kwargs)\u001b[0m\n\u001b[1;32m     63\u001b[0m         \u001b[0mfiltered_tb\u001b[0m \u001b[0;34m=\u001b[0m \u001b[0;32mNone\u001b[0m\u001b[0;34m\u001b[0m\u001b[0;34m\u001b[0m\u001b[0m\n\u001b[1;32m     64\u001b[0m         \u001b[0;32mtry\u001b[0m\u001b[0;34m:\u001b[0m\u001b[0;34m\u001b[0m\u001b[0;34m\u001b[0m\u001b[0m\n\u001b[0;32m---> 65\u001b[0;31m             \u001b[0;32mreturn\u001b[0m \u001b[0mfn\u001b[0m\u001b[0;34m(\u001b[0m\u001b[0;34m*\u001b[0m\u001b[0margs\u001b[0m\u001b[0;34m,\u001b[0m \u001b[0;34m**\u001b[0m\u001b[0mkwargs\u001b[0m\u001b[0;34m)\u001b[0m\u001b[0;34m\u001b[0m\u001b[0;34m\u001b[0m\u001b[0m\n\u001b[0m\u001b[1;32m     66\u001b[0m         \u001b[0;32mexcept\u001b[0m \u001b[0mException\u001b[0m \u001b[0;32mas\u001b[0m \u001b[0me\u001b[0m\u001b[0;34m:\u001b[0m\u001b[0;34m\u001b[0m\u001b[0;34m\u001b[0m\u001b[0m\n\u001b[1;32m     67\u001b[0m             \u001b[0mfiltered_tb\u001b[0m \u001b[0;34m=\u001b[0m \u001b[0m_process_traceback_frames\u001b[0m\u001b[0;34m(\u001b[0m\u001b[0me\u001b[0m\u001b[0;34m.\u001b[0m\u001b[0m__traceback__\u001b[0m\u001b[0;34m)\u001b[0m\u001b[0;34m\u001b[0m\u001b[0;34m\u001b[0m\u001b[0m\n",
            "\u001b[0;32m/usr/local/lib/python3.10/dist-packages/keras/src/engine/training.py\u001b[0m in \u001b[0;36mfit\u001b[0;34m(self, x, y, batch_size, epochs, verbose, callbacks, validation_split, validation_data, shuffle, class_weight, sample_weight, initial_epoch, steps_per_epoch, validation_steps, validation_batch_size, validation_freq, max_queue_size, workers, use_multiprocessing)\u001b[0m\n\u001b[1;32m   1805\u001b[0m                         ):\n\u001b[1;32m   1806\u001b[0m                             \u001b[0mcallbacks\u001b[0m\u001b[0;34m.\u001b[0m\u001b[0mon_train_batch_begin\u001b[0m\u001b[0;34m(\u001b[0m\u001b[0mstep\u001b[0m\u001b[0;34m)\u001b[0m\u001b[0;34m\u001b[0m\u001b[0;34m\u001b[0m\u001b[0m\n\u001b[0;32m-> 1807\u001b[0;31m                             \u001b[0mtmp_logs\u001b[0m \u001b[0;34m=\u001b[0m \u001b[0mself\u001b[0m\u001b[0;34m.\u001b[0m\u001b[0mtrain_function\u001b[0m\u001b[0;34m(\u001b[0m\u001b[0miterator\u001b[0m\u001b[0;34m)\u001b[0m\u001b[0;34m\u001b[0m\u001b[0;34m\u001b[0m\u001b[0m\n\u001b[0m\u001b[1;32m   1808\u001b[0m                             \u001b[0;32mif\u001b[0m \u001b[0mdata_handler\u001b[0m\u001b[0;34m.\u001b[0m\u001b[0mshould_sync\u001b[0m\u001b[0;34m:\u001b[0m\u001b[0;34m\u001b[0m\u001b[0;34m\u001b[0m\u001b[0m\n\u001b[1;32m   1809\u001b[0m                                 \u001b[0mcontext\u001b[0m\u001b[0;34m.\u001b[0m\u001b[0masync_wait\u001b[0m\u001b[0;34m(\u001b[0m\u001b[0;34m)\u001b[0m\u001b[0;34m\u001b[0m\u001b[0;34m\u001b[0m\u001b[0m\n",
            "\u001b[0;32m/usr/local/lib/python3.10/dist-packages/tensorflow/python/util/traceback_utils.py\u001b[0m in \u001b[0;36merror_handler\u001b[0;34m(*args, **kwargs)\u001b[0m\n\u001b[1;32m    148\u001b[0m     \u001b[0mfiltered_tb\u001b[0m \u001b[0;34m=\u001b[0m \u001b[0;32mNone\u001b[0m\u001b[0;34m\u001b[0m\u001b[0;34m\u001b[0m\u001b[0m\n\u001b[1;32m    149\u001b[0m     \u001b[0;32mtry\u001b[0m\u001b[0;34m:\u001b[0m\u001b[0;34m\u001b[0m\u001b[0;34m\u001b[0m\u001b[0m\n\u001b[0;32m--> 150\u001b[0;31m       \u001b[0;32mreturn\u001b[0m \u001b[0mfn\u001b[0m\u001b[0;34m(\u001b[0m\u001b[0;34m*\u001b[0m\u001b[0margs\u001b[0m\u001b[0;34m,\u001b[0m \u001b[0;34m**\u001b[0m\u001b[0mkwargs\u001b[0m\u001b[0;34m)\u001b[0m\u001b[0;34m\u001b[0m\u001b[0;34m\u001b[0m\u001b[0m\n\u001b[0m\u001b[1;32m    151\u001b[0m     \u001b[0;32mexcept\u001b[0m \u001b[0mException\u001b[0m \u001b[0;32mas\u001b[0m \u001b[0me\u001b[0m\u001b[0;34m:\u001b[0m\u001b[0;34m\u001b[0m\u001b[0;34m\u001b[0m\u001b[0m\n\u001b[1;32m    152\u001b[0m       \u001b[0mfiltered_tb\u001b[0m \u001b[0;34m=\u001b[0m \u001b[0m_process_traceback_frames\u001b[0m\u001b[0;34m(\u001b[0m\u001b[0me\u001b[0m\u001b[0;34m.\u001b[0m\u001b[0m__traceback__\u001b[0m\u001b[0;34m)\u001b[0m\u001b[0;34m\u001b[0m\u001b[0;34m\u001b[0m\u001b[0m\n",
            "\u001b[0;32m/usr/local/lib/python3.10/dist-packages/tensorflow/python/eager/polymorphic_function/polymorphic_function.py\u001b[0m in \u001b[0;36m__call__\u001b[0;34m(self, *args, **kwds)\u001b[0m\n\u001b[1;32m    830\u001b[0m \u001b[0;34m\u001b[0m\u001b[0m\n\u001b[1;32m    831\u001b[0m       \u001b[0;32mwith\u001b[0m \u001b[0mOptionalXlaContext\u001b[0m\u001b[0;34m(\u001b[0m\u001b[0mself\u001b[0m\u001b[0;34m.\u001b[0m\u001b[0m_jit_compile\u001b[0m\u001b[0;34m)\u001b[0m\u001b[0;34m:\u001b[0m\u001b[0;34m\u001b[0m\u001b[0;34m\u001b[0m\u001b[0m\n\u001b[0;32m--> 832\u001b[0;31m         \u001b[0mresult\u001b[0m \u001b[0;34m=\u001b[0m \u001b[0mself\u001b[0m\u001b[0;34m.\u001b[0m\u001b[0m_call\u001b[0m\u001b[0;34m(\u001b[0m\u001b[0;34m*\u001b[0m\u001b[0margs\u001b[0m\u001b[0;34m,\u001b[0m \u001b[0;34m**\u001b[0m\u001b[0mkwds\u001b[0m\u001b[0;34m)\u001b[0m\u001b[0;34m\u001b[0m\u001b[0;34m\u001b[0m\u001b[0m\n\u001b[0m\u001b[1;32m    833\u001b[0m \u001b[0;34m\u001b[0m\u001b[0m\n\u001b[1;32m    834\u001b[0m       \u001b[0mnew_tracing_count\u001b[0m \u001b[0;34m=\u001b[0m \u001b[0mself\u001b[0m\u001b[0;34m.\u001b[0m\u001b[0mexperimental_get_tracing_count\u001b[0m\u001b[0;34m(\u001b[0m\u001b[0;34m)\u001b[0m\u001b[0;34m\u001b[0m\u001b[0;34m\u001b[0m\u001b[0m\n",
            "\u001b[0;32m/usr/local/lib/python3.10/dist-packages/tensorflow/python/eager/polymorphic_function/polymorphic_function.py\u001b[0m in \u001b[0;36m_call\u001b[0;34m(self, *args, **kwds)\u001b[0m\n\u001b[1;32m    866\u001b[0m       \u001b[0;31m# In this case we have created variables on the first call, so we run the\u001b[0m\u001b[0;34m\u001b[0m\u001b[0;34m\u001b[0m\u001b[0m\n\u001b[1;32m    867\u001b[0m       \u001b[0;31m# defunned version which is guaranteed to never create variables.\u001b[0m\u001b[0;34m\u001b[0m\u001b[0;34m\u001b[0m\u001b[0m\n\u001b[0;32m--> 868\u001b[0;31m       return tracing_compilation.call_function(\n\u001b[0m\u001b[1;32m    869\u001b[0m           \u001b[0margs\u001b[0m\u001b[0;34m,\u001b[0m \u001b[0mkwds\u001b[0m\u001b[0;34m,\u001b[0m \u001b[0mself\u001b[0m\u001b[0;34m.\u001b[0m\u001b[0m_no_variable_creation_config\u001b[0m\u001b[0;34m\u001b[0m\u001b[0;34m\u001b[0m\u001b[0m\n\u001b[1;32m    870\u001b[0m       )\n",
            "\u001b[0;32m/usr/local/lib/python3.10/dist-packages/tensorflow/python/eager/polymorphic_function/tracing_compilation.py\u001b[0m in \u001b[0;36mcall_function\u001b[0;34m(args, kwargs, tracing_options)\u001b[0m\n\u001b[1;32m    130\u001b[0m   \u001b[0margs\u001b[0m \u001b[0;34m=\u001b[0m \u001b[0margs\u001b[0m \u001b[0;32mif\u001b[0m \u001b[0margs\u001b[0m \u001b[0;32melse\u001b[0m \u001b[0;34m(\u001b[0m\u001b[0;34m)\u001b[0m\u001b[0;34m\u001b[0m\u001b[0;34m\u001b[0m\u001b[0m\n\u001b[1;32m    131\u001b[0m   \u001b[0mkwargs\u001b[0m \u001b[0;34m=\u001b[0m \u001b[0mkwargs\u001b[0m \u001b[0;32mif\u001b[0m \u001b[0mkwargs\u001b[0m \u001b[0;32melse\u001b[0m \u001b[0;34m{\u001b[0m\u001b[0;34m}\u001b[0m\u001b[0;34m\u001b[0m\u001b[0;34m\u001b[0m\u001b[0m\n\u001b[0;32m--> 132\u001b[0;31m   function = trace_function(\n\u001b[0m\u001b[1;32m    133\u001b[0m       \u001b[0margs\u001b[0m\u001b[0;34m=\u001b[0m\u001b[0margs\u001b[0m\u001b[0;34m,\u001b[0m \u001b[0mkwargs\u001b[0m\u001b[0;34m=\u001b[0m\u001b[0mkwargs\u001b[0m\u001b[0;34m,\u001b[0m \u001b[0mtracing_options\u001b[0m\u001b[0;34m=\u001b[0m\u001b[0mtracing_options\u001b[0m\u001b[0;34m\u001b[0m\u001b[0;34m\u001b[0m\u001b[0m\n\u001b[1;32m    134\u001b[0m   )\n",
            "\u001b[0;32m/usr/local/lib/python3.10/dist-packages/tensorflow/python/eager/polymorphic_function/tracing_compilation.py\u001b[0m in \u001b[0;36mtrace_function\u001b[0;34m(args, kwargs, tracing_options)\u001b[0m\n\u001b[1;32m    176\u001b[0m       \u001b[0mkwargs\u001b[0m \u001b[0;34m=\u001b[0m \u001b[0;34m{\u001b[0m\u001b[0;34m}\u001b[0m\u001b[0;34m\u001b[0m\u001b[0;34m\u001b[0m\u001b[0m\n\u001b[1;32m    177\u001b[0m \u001b[0;34m\u001b[0m\u001b[0m\n\u001b[0;32m--> 178\u001b[0;31m     concrete_function = _maybe_define_function(\n\u001b[0m\u001b[1;32m    179\u001b[0m         \u001b[0margs\u001b[0m\u001b[0;34m,\u001b[0m \u001b[0mkwargs\u001b[0m\u001b[0;34m,\u001b[0m \u001b[0mtracing_options\u001b[0m\u001b[0;34m\u001b[0m\u001b[0;34m\u001b[0m\u001b[0m\n\u001b[1;32m    180\u001b[0m     )\n",
            "\u001b[0;32m/usr/local/lib/python3.10/dist-packages/tensorflow/python/eager/polymorphic_function/tracing_compilation.py\u001b[0m in \u001b[0;36m_maybe_define_function\u001b[0;34m(args, kwargs, tracing_options)\u001b[0m\n\u001b[1;32m    237\u001b[0m \u001b[0;34m\u001b[0m\u001b[0m\n\u001b[1;32m    238\u001b[0m   \u001b[0;32mif\u001b[0m \u001b[0mtracing_options\u001b[0m\u001b[0;34m.\u001b[0m\u001b[0mfunction_cache\u001b[0m \u001b[0;32mis\u001b[0m \u001b[0;32mnot\u001b[0m \u001b[0;32mNone\u001b[0m\u001b[0;34m:\u001b[0m\u001b[0;34m\u001b[0m\u001b[0;34m\u001b[0m\u001b[0m\n\u001b[0;32m--> 239\u001b[0;31m     concrete_function = tracing_options.function_cache.lookup(\n\u001b[0m\u001b[1;32m    240\u001b[0m         \u001b[0mlookup_func_type\u001b[0m\u001b[0;34m,\u001b[0m \u001b[0mcurrent_func_context\u001b[0m\u001b[0;34m\u001b[0m\u001b[0;34m\u001b[0m\u001b[0m\n\u001b[1;32m    241\u001b[0m     )\n",
            "\u001b[0;32m/usr/local/lib/python3.10/dist-packages/tensorflow/core/function/polymorphism/function_cache.py\u001b[0m in \u001b[0;36mlookup\u001b[0;34m(self, function_type, context)\u001b[0m\n\u001b[1;32m     48\u001b[0m       \u001b[0mdispatch_type\u001b[0m \u001b[0;34m=\u001b[0m \u001b[0mself\u001b[0m\u001b[0;34m.\u001b[0m\u001b[0m_dispatch_dict\u001b[0m\u001b[0;34m[\u001b[0m\u001b[0mcontext\u001b[0m\u001b[0;34m]\u001b[0m\u001b[0;34m.\u001b[0m\u001b[0mdispatch\u001b[0m\u001b[0;34m(\u001b[0m\u001b[0mfunction_type\u001b[0m\u001b[0;34m)\u001b[0m\u001b[0;34m\u001b[0m\u001b[0;34m\u001b[0m\u001b[0m\n\u001b[1;32m     49\u001b[0m       \u001b[0;32mif\u001b[0m \u001b[0mdispatch_type\u001b[0m\u001b[0;34m:\u001b[0m\u001b[0;34m\u001b[0m\u001b[0;34m\u001b[0m\u001b[0m\n\u001b[0;32m---> 50\u001b[0;31m         \u001b[0;32mreturn\u001b[0m \u001b[0mself\u001b[0m\u001b[0;34m.\u001b[0m\u001b[0m_primary\u001b[0m\u001b[0;34m[\u001b[0m\u001b[0;34m(\u001b[0m\u001b[0mcontext\u001b[0m\u001b[0;34m,\u001b[0m \u001b[0mdispatch_type\u001b[0m\u001b[0;34m)\u001b[0m\u001b[0;34m]\u001b[0m\u001b[0;34m\u001b[0m\u001b[0;34m\u001b[0m\u001b[0m\n\u001b[0m\u001b[1;32m     51\u001b[0m \u001b[0;34m\u001b[0m\u001b[0m\n\u001b[1;32m     52\u001b[0m     \u001b[0;32mreturn\u001b[0m \u001b[0;32mNone\u001b[0m\u001b[0;34m\u001b[0m\u001b[0;34m\u001b[0m\u001b[0m\n",
            "\u001b[0;32m/usr/local/lib/python3.10/dist-packages/tensorflow/core/function/polymorphism/function_type.py\u001b[0m in \u001b[0;36m__hash__\u001b[0;34m(self)\u001b[0m\n\u001b[1;32m    454\u001b[0m \u001b[0;34m\u001b[0m\u001b[0m\n\u001b[1;32m    455\u001b[0m   \u001b[0;32mdef\u001b[0m \u001b[0m__hash__\u001b[0m\u001b[0;34m(\u001b[0m\u001b[0mself\u001b[0m\u001b[0;34m)\u001b[0m \u001b[0;34m->\u001b[0m \u001b[0mint\u001b[0m\u001b[0;34m:\u001b[0m\u001b[0;34m\u001b[0m\u001b[0;34m\u001b[0m\u001b[0m\n\u001b[0;32m--> 456\u001b[0;31m     \u001b[0;32mreturn\u001b[0m \u001b[0mhash\u001b[0m\u001b[0;34m(\u001b[0m\u001b[0;34m(\u001b[0m\u001b[0mtuple\u001b[0m\u001b[0;34m(\u001b[0m\u001b[0mself\u001b[0m\u001b[0;34m.\u001b[0m\u001b[0mparameters\u001b[0m\u001b[0;34m.\u001b[0m\u001b[0mitems\u001b[0m\u001b[0;34m(\u001b[0m\u001b[0;34m)\u001b[0m\u001b[0;34m)\u001b[0m\u001b[0;34m,\u001b[0m \u001b[0mtuple\u001b[0m\u001b[0;34m(\u001b[0m\u001b[0mself\u001b[0m\u001b[0;34m.\u001b[0m\u001b[0mcaptures\u001b[0m\u001b[0;34m.\u001b[0m\u001b[0mitems\u001b[0m\u001b[0;34m(\u001b[0m\u001b[0;34m)\u001b[0m\u001b[0;34m)\u001b[0m\u001b[0;34m)\u001b[0m\u001b[0;34m)\u001b[0m\u001b[0;34m\u001b[0m\u001b[0;34m\u001b[0m\u001b[0m\n\u001b[0m\u001b[1;32m    457\u001b[0m \u001b[0;34m\u001b[0m\u001b[0m\n\u001b[1;32m    458\u001b[0m   \u001b[0;32mdef\u001b[0m \u001b[0m__repr__\u001b[0m\u001b[0;34m(\u001b[0m\u001b[0mself\u001b[0m\u001b[0;34m)\u001b[0m\u001b[0;34m:\u001b[0m\u001b[0;34m\u001b[0m\u001b[0;34m\u001b[0m\u001b[0m\n",
            "\u001b[0;32m/usr/local/lib/python3.10/dist-packages/tensorflow/python/framework/tensor.py\u001b[0m in \u001b[0;36m__hash__\u001b[0;34m(self)\u001b[0m\n\u001b[1;32m    893\u001b[0m \u001b[0;34m\u001b[0m\u001b[0m\n\u001b[1;32m    894\u001b[0m   \u001b[0;32mdef\u001b[0m \u001b[0m__hash__\u001b[0m\u001b[0;34m(\u001b[0m\u001b[0mself\u001b[0m\u001b[0;34m)\u001b[0m\u001b[0;34m:\u001b[0m\u001b[0;34m\u001b[0m\u001b[0;34m\u001b[0m\u001b[0m\n\u001b[0;32m--> 895\u001b[0;31m     \u001b[0;32mreturn\u001b[0m \u001b[0mhash\u001b[0m\u001b[0;34m(\u001b[0m\u001b[0;34m(\u001b[0m\u001b[0mself\u001b[0m\u001b[0;34m.\u001b[0m\u001b[0m_shape\u001b[0m\u001b[0;34m,\u001b[0m \u001b[0mself\u001b[0m\u001b[0;34m.\u001b[0m\u001b[0mdtype\u001b[0m\u001b[0;34m)\u001b[0m\u001b[0;34m)\u001b[0m\u001b[0;34m\u001b[0m\u001b[0;34m\u001b[0m\u001b[0m\n\u001b[0m\u001b[1;32m    896\u001b[0m \u001b[0;34m\u001b[0m\u001b[0m\n\u001b[1;32m    897\u001b[0m   \u001b[0;32mdef\u001b[0m \u001b[0m__eq__\u001b[0m\u001b[0;34m(\u001b[0m\u001b[0mself\u001b[0m\u001b[0;34m,\u001b[0m \u001b[0mother\u001b[0m\u001b[0;34m)\u001b[0m\u001b[0;34m:\u001b[0m\u001b[0;34m\u001b[0m\u001b[0;34m\u001b[0m\u001b[0m\n",
            "\u001b[0;32m/usr/local/lib/python3.10/dist-packages/tensorflow/python/framework/tensor_shape.py\u001b[0m in \u001b[0;36m__hash__\u001b[0;34m(self)\u001b[0m\n\u001b[1;32m   1507\u001b[0m \u001b[0;34m\u001b[0m\u001b[0m\n\u001b[1;32m   1508\u001b[0m   \u001b[0;32mdef\u001b[0m \u001b[0m__hash__\u001b[0m\u001b[0;34m(\u001b[0m\u001b[0mself\u001b[0m\u001b[0;34m)\u001b[0m\u001b[0;34m:\u001b[0m\u001b[0;34m\u001b[0m\u001b[0;34m\u001b[0m\u001b[0m\n\u001b[0;32m-> 1509\u001b[0;31m     \u001b[0;32mreturn\u001b[0m \u001b[0mhash\u001b[0m\u001b[0;34m(\u001b[0m\u001b[0mself\u001b[0m\u001b[0;34m.\u001b[0m\u001b[0m_dims\u001b[0m\u001b[0;34m)\u001b[0m\u001b[0;34m\u001b[0m\u001b[0;34m\u001b[0m\u001b[0m\n\u001b[0m\u001b[1;32m   1510\u001b[0m \u001b[0;34m\u001b[0m\u001b[0m\n\u001b[1;32m   1511\u001b[0m   \u001b[0;32mdef\u001b[0m \u001b[0m__reduce__\u001b[0m\u001b[0;34m(\u001b[0m\u001b[0mself\u001b[0m\u001b[0;34m)\u001b[0m\u001b[0;34m:\u001b[0m\u001b[0;34m\u001b[0m\u001b[0;34m\u001b[0m\u001b[0m\n",
            "\u001b[0;31mKeyboardInterrupt\u001b[0m: "
          ]
        }
      ]
    },
    {
      "cell_type": "markdown",
      "source": [
        "Interrompi o estudo do Optuna forçadamente. Já verifiquei algumas das melhores métricas. Substituirei no código abaixo."
      ],
      "metadata": {
        "id": "rOgAin229G4D"
      }
    },
    {
      "cell_type": "code",
      "source": [
        "import tensorflow as tf\n",
        "from tensorflow.keras.models import Sequential\n",
        "from tensorflow.keras.layers import Dense, Dropout\n",
        "from tensorflow.keras.metrics import Recall\n",
        "from tensorflow.keras.optimizers import Adam\n",
        "\n",
        "modelo_dnn = Sequential([\n",
        "    Dense(495, activation='relu', input_shape=(X_treino_preprocessado_resampled.shape[1],)),\n",
        "    Dropout(0.17774559519707114),\n",
        "    Dense(92, activation='relu'),\n",
        "    Dropout(0.362769250816939),\n",
        "    Dense(97.11452567414916, activation = 'relu'),\n",
        "    Dropout(0.262769250816939),\n",
        "    Dense(1, activation='sigmoid')\n",
        "])\n",
        "\n",
        "modelo_dnn.compile(optimizer='adam', loss='binary_crossentropy', metrics=[Recall()])\n",
        "\n",
        "modelo_dnn.fit(X_treino_preprocessado_resampled, y_treino_resampled, epochs=10, batch_size=64, validation_data=(X_teste_preprocessado, y_teste))\n",
        "\n",
        "loss, recall = modelo_dnn.evaluate(X_teste_preprocessado, y_teste)\n",
        "print('Recall:', recall)\n"
      ],
      "metadata": {
        "colab": {
          "base_uri": "https://localhost:8080/"
        },
        "id": "99gsNbovqGOZ",
        "outputId": "5e39763d-1a12-4f1b-ff84-b17fe261f874"
      },
      "execution_count": null,
      "outputs": [
        {
          "output_type": "stream",
          "name": "stdout",
          "text": [
            "Epoch 1/10\n",
            "2951/2951 [==============================] - 21s 6ms/step - loss: 0.1820 - recall_18: 0.9203 - val_loss: 0.1052 - val_recall_18: 0.8776\n",
            "Epoch 2/10\n",
            "2951/2951 [==============================] - 20s 7ms/step - loss: 0.1073 - recall_18: 0.9606 - val_loss: 0.0715 - val_recall_18: 0.8471\n",
            "Epoch 3/10\n",
            "2951/2951 [==============================] - 20s 7ms/step - loss: 0.0831 - recall_18: 0.9723 - val_loss: 0.0726 - val_recall_18: 0.8682\n",
            "Epoch 4/10\n",
            "2951/2951 [==============================] - 18s 6ms/step - loss: 0.0713 - recall_18: 0.9770 - val_loss: 0.0627 - val_recall_18: 0.8635\n",
            "Epoch 5/10\n",
            "2951/2951 [==============================] - 18s 6ms/step - loss: 0.0624 - recall_18: 0.9804 - val_loss: 0.0674 - val_recall_18: 0.8776\n",
            "Epoch 6/10\n",
            "2951/2951 [==============================] - 18s 6ms/step - loss: 0.0565 - recall_18: 0.9824 - val_loss: 0.0644 - val_recall_18: 0.8659\n",
            "Epoch 7/10\n",
            "2951/2951 [==============================] - 20s 7ms/step - loss: 0.0524 - recall_18: 0.9846 - val_loss: 0.0522 - val_recall_18: 0.8635\n",
            "Epoch 8/10\n",
            "2951/2951 [==============================] - 19s 6ms/step - loss: 0.0494 - recall_18: 0.9852 - val_loss: 0.0458 - val_recall_18: 0.8565\n",
            "Epoch 9/10\n",
            "2951/2951 [==============================] - 19s 6ms/step - loss: 0.0464 - recall_18: 0.9865 - val_loss: 0.0472 - val_recall_18: 0.8541\n",
            "Epoch 10/10\n",
            "2951/2951 [==============================] - 17s 6ms/step - loss: 0.0426 - recall_18: 0.9879 - val_loss: 0.0394 - val_recall_18: 0.8424\n",
            "1278/1278 [==============================] - 3s 2ms/step - loss: 0.0394 - recall_18: 0.8424\n",
            "Recall: 0.8423529267311096\n"
          ]
        }
      ]
    },
    {
      "cell_type": "code",
      "source": [
        "from sklearn.metrics import confusion_matrix, ConfusionMatrixDisplay\n",
        "\n",
        "# Fazer previsões\n",
        "y_probabilidade_dnn = modelo_dnn.predict(X_teste_preprocessado)\n",
        "\n",
        "# Converter probabilidades em classes discretas\n",
        "y_previsto_dnn = (y_probabilidade_dnn > 0.5).astype(int)\n",
        "\n",
        "# Calcular a matriz de confusão\n",
        "matriz = confusion_matrix(y_teste, y_previsto_dnn)\n",
        "disp = ConfusionMatrixDisplay(confusion_matrix=matriz)\n",
        "disp.plot()"
      ],
      "metadata": {
        "colab": {
          "base_uri": "https://localhost:8080/",
          "height": 490
        },
        "id": "bMgBOPn4qc4D",
        "outputId": "1da10412-7db8-4b57-ef61-699b51276883"
      },
      "execution_count": null,
      "outputs": [
        {
          "output_type": "stream",
          "name": "stdout",
          "text": [
            "1278/1278 [==============================] - 3s 2ms/step\n"
          ]
        },
        {
          "output_type": "execute_result",
          "data": {
            "text/plain": [
              "<sklearn.metrics._plot.confusion_matrix.ConfusionMatrixDisplay at 0x7f1b76e42f80>"
            ]
          },
          "metadata": {},
          "execution_count": 157
        },
        {
          "output_type": "display_data",
          "data": {
            "text/plain": [
              "<Figure size 640x480 with 2 Axes>"
            ],
            "image/png": "[encoded data removed]"
          },
          "metadata": {}
        }
      ]
    },
    {
      "cell_type": "markdown",
      "source": [
        "# Submissão Kaggle"
      ],
      "metadata": {
        "id": "DabcD4SOn_dh"
      }
    },
    {
      "cell_type": "markdown",
      "source": [
        "## Submissão modelo LightGBM"
      ],
      "metadata": {
        "id": "IcnKSuqoe0Ec"
      }
    },
    {
      "cell_type": "code",
      "source": [
        "teste_sub = pd.read_csv('teste.csv', sep = '|')"
      ],
      "metadata": {
        "id": "XRCIDyt9rbJ1"
      },
      "execution_count": null,
      "outputs": []
    },
    {
      "cell_type": "code",
      "source": [
        "teste = pd.read_csv('teste.csv', sep = '|')"
      ],
      "metadata": {
        "id": "KGHFHF5Xqafk"
      },
      "execution_count": null,
      "outputs": []
    },
    {
      "cell_type": "code",
      "source": [
        "resposta = pd.DataFrame()"
      ],
      "metadata": {
        "id": "f81pPtjhqhQ5"
      },
      "execution_count": null,
      "outputs": []
    },
    {
      "cell_type": "code",
      "source": [
        "teste.info()"
      ],
      "metadata": {
        "id": "QlwtvDiJngCM",
        "colab": {
          "base_uri": "https://localhost:8080/"
        },
        "outputId": "dc0b9824-0869-4d46-f163-d2d81ce90cd3"
      },
      "execution_count": null,
      "outputs": [
        {
          "output_type": "stream",
          "name": "stdout",
          "text": [
            "<class 'pandas.core.frame.DataFrame'>\n",
            "RangeIndex: 36047 entries, 0 to 36046\n",
            "Data columns (total 25 columns):\n",
            " #   Column      Non-Null Count  Dtype  \n",
            "---  ------      --------------  -----  \n",
            " 0   ssn         36047 non-null  object \n",
            " 1   cc_num      36047 non-null  int64  \n",
            " 2   first       36047 non-null  object \n",
            " 3   last        36047 non-null  object \n",
            " 4   gender      36047 non-null  object \n",
            " 5   street      36047 non-null  object \n",
            " 6   city        36047 non-null  object \n",
            " 7   state       36047 non-null  object \n",
            " 8   zip         370 non-null    float64\n",
            " 9   lat         36047 non-null  float64\n",
            " 10  long        36047 non-null  float64\n",
            " 11  city_pop    36047 non-null  int64  \n",
            " 12  job         36047 non-null  object \n",
            " 13  dob         36047 non-null  object \n",
            " 14  acct_num    36047 non-null  int64  \n",
            " 15  profile     36047 non-null  object \n",
            " 16  trans_num   36047 non-null  object \n",
            " 17  trans_date  36047 non-null  object \n",
            " 18  trans_time  36047 non-null  object \n",
            " 19  unix_time   36047 non-null  float64\n",
            " 20  category    36047 non-null  object \n",
            " 21  amt         36047 non-null  float64\n",
            " 22  merchant    36047 non-null  object \n",
            " 23  merch_lat   370 non-null    float64\n",
            " 24  merch_long  370 non-null    float64\n",
            "dtypes: float64(7), int64(3), object(15)\n",
            "memory usage: 6.9+ MB\n"
          ]
        }
      ]
    },
    {
      "cell_type": "code",
      "source": [
        "dataframe_create(teste)"
      ],
      "metadata": {
        "id": "2l7R3uHeodUk"
      },
      "execution_count": null,
      "outputs": []
    },
    {
      "cell_type": "code",
      "source": [
        "dataframe_drops(teste)"
      ],
      "metadata": {
        "id": "hQDXmz0YpCyr"
      },
      "execution_count": null,
      "outputs": []
    },
    {
      "cell_type": "code",
      "source": [
        "from imblearn.pipeline import Pipeline as PipelineIMB\n",
        "\n",
        "pipeline_final = PipelineIMB([('preprocessor', preprocessor),\n",
        "                              ('resampler', SMOTE()),\n",
        "                              ('model', modelo_lgb)])\n",
        "pipeline_final"
      ],
      "metadata": {
        "id": "9Pws7tsKp323",
        "colab": {
          "base_uri": "https://localhost:8080/",
          "height": 227
        },
        "outputId": "4a045c63-1665-4bbc-91f5-3f94a2dc5e87"
      },
      "execution_count": null,
      "outputs": [
        {
          "output_type": "execute_result",
          "data": {
            "text/plain": [
              "Pipeline(steps=[('preprocessor',\n",
              "                 ColumnTransformer(transformers=[('numeric',\n",
              "                                                  Pipeline(steps=[('std_scaler',\n",
              "                                                                   StandardScaler())]),\n",
              "                                                  ['dia_semana', 'cc_num',\n",
              "                                                   'city_pop', 'unix_time',\n",
              "                                                   'hora', 'long', 'feriado',\n",
              "                                                   'lat', 'idade', 'acct_num',\n",
              "                                                   'amt']),\n",
              "                                                 ('categoric',\n",
              "                                                  Pipeline(steps=[('encoder',\n",
              "                                                                   CatBoostEncoder())]),\n",
              "                                                  ['street', 'city', 'state',\n",
              "                                                   'gender', 'merchant',\n",
              "                                                   'category', 'job'])])),\n",
              "                ('resampler', SMOTE()),\n",
              "                ('model',\n",
              "                 LGBMClassifier(colsample_bytree=0.6252792239733316,\n",
              "                                lambda_l1=0.12446683432165574,\n",
              "                                lambda_l2=0.0286524933019746,\n",
              "                                learning_rate=0.02391063426109835, max_depth=3,\n",
              "                                metric='binary_logloss', min_child_samples=23,\n",
              "                                n_estimators=562, objective='binary',\n",
              "                                random_state=42, subsample=0.9192948684306037,\n",
              "                                verbose=100, verbosity=-1))])"
            ],
            "text/html": [
              "<style>#sk-container-id-2 {color: black;background-color: white;}#sk-container-id-2 pre{padding: 0;}#sk-container-id-2 div.sk-toggleable {background-color: white;}#sk-container-id-2 label.sk-toggleable__label {cursor: pointer;display: block;width: 100%;margin-bottom: 0;padding: 0.3em;box-sizing: border-box;text-align: center;}#sk-container-id-2 label.sk-toggleable__label-arrow:before {content: \"▸\";float: left;margin-right: 0.25em;color: #696969;}#sk-container-id-2 label.sk-toggleable__label-arrow:hover:before {color: black;}#sk-container-id-2 div.sk-estimator:hover label.sk-toggleable__label-arrow:before {color: black;}#sk-container-id-2 div.sk-toggleable__content {max-height: 0;max-width: 0;overflow: hidden;text-align: left;background-color: #f0f8ff;}#sk-container-id-2 div.sk-toggleable__content pre {margin: 0.2em;color: black;border-radius: 0.25em;background-color: #f0f8ff;}#sk-container-id-2 input.sk-toggleable__control:checked~div.sk-toggleable__content {max-height: 200px;max-width: 100%;overflow: auto;}#sk-container-id-2 input.sk-toggleable__control:checked~label.sk-toggleable__label-arrow:before {content: \"▾\";}#sk-container-id-2 div.sk-estimator input.sk-toggleable__control:checked~label.sk-toggleable__label {background-color: #d4ebff;}#sk-container-id-2 div.sk-label input.sk-toggleable__control:checked~label.sk-toggleable__label {background-color: #d4ebff;}#sk-container-id-2 input.sk-hidden--visually {border: 0;clip: rect(1px 1px 1px 1px);clip: rect(1px, 1px, 1px, 1px);height: 1px;margin: -1px;overflow: hidden;padding: 0;position: absolute;width: 1px;}#sk-container-id-2 div.sk-estimator {font-family: monospace;background-color: #f0f8ff;border: 1px dotted black;border-radius: 0.25em;box-sizing: border-box;margin-bottom: 0.5em;}#sk-container-id-2 div.sk-estimator:hover {background-color: #d4ebff;}#sk-container-id-2 div.sk-parallel-item::after {content: \"\";width: 100%;border-bottom: 1px solid gray;flex-grow: 1;}#sk-container-id-2 div.sk-label:hover label.sk-toggleable__label {background-color: #d4ebff;}#sk-container-id-2 div.sk-serial::before {content: \"\";position: absolute;border-left: 1px solid gray;box-sizing: border-box;top: 0;bottom: 0;left: 50%;z-index: 0;}#sk-container-id-2 div.sk-serial {display: flex;flex-direction: column;align-items: center;background-color: white;padding-right: 0.2em;padding-left: 0.2em;position: relative;}#sk-container-id-2 div.sk-item {position: relative;z-index: 1;}#sk-container-id-2 div.sk-parallel {display: flex;align-items: stretch;justify-content: center;background-color: white;position: relative;}#sk-container-id-2 div.sk-item::before, #sk-container-id-2 div.sk-parallel-item::before {content: \"\";position: absolute;border-left: 1px solid gray;box-sizing: border-box;top: 0;bottom: 0;left: 50%;z-index: -1;}#sk-container-id-2 div.sk-parallel-item {display: flex;flex-direction: column;z-index: 1;position: relative;background-color: white;}#sk-container-id-2 div.sk-parallel-item:first-child::after {align-self: flex-end;width: 50%;}#sk-container-id-2 div.sk-parallel-item:last-child::after {align-self: flex-start;width: 50%;}#sk-container-id-2 div.sk-parallel-item:only-child::after {width: 0;}#sk-container-id-2 div.sk-dashed-wrapped {border: 1px dashed gray;margin: 0 0.4em 0.5em 0.4em;box-sizing: border-box;padding-bottom: 0.4em;background-color: white;}#sk-container-id-2 div.sk-label label {font-family: monospace;font-weight: bold;display: inline-block;line-height: 1.2em;}#sk-container-id-2 div.sk-label-container {text-align: center;}#sk-container-id-2 div.sk-container {/* jupyter's `normalize.less` sets `[hidden] { display: none; }` but bootstrap.min.css set `[hidden] { display: none !important; }` so we also need the `!important` here to be able to override the default hidden behavior on the sphinx rendered scikit-learn.org. See: https://github.com/scikit-learn/scikit-learn/issues/21755 */display: inline-block !important;position: relative;}#sk-container-id-2 div.sk-text-repr-fallback {display: none;}</style><div id=\"sk-container-id-2\" class=\"sk-top-container\"><div class=\"sk-text-repr-fallback\"><pre>Pipeline(steps=[(&#x27;preprocessor&#x27;,\n",
              "                 ColumnTransformer(transformers=[(&#x27;numeric&#x27;,\n",
              "                                                  Pipeline(steps=[(&#x27;std_scaler&#x27;,\n",
              "                                                                   StandardScaler())]),\n",
              "                                                  [&#x27;dia_semana&#x27;, &#x27;cc_num&#x27;,\n",
              "                                                   &#x27;city_pop&#x27;, &#x27;unix_time&#x27;,\n",
              "                                                   &#x27;hora&#x27;, &#x27;long&#x27;, &#x27;feriado&#x27;,\n",
              "                                                   &#x27;lat&#x27;, &#x27;idade&#x27;, &#x27;acct_num&#x27;,\n",
              "                                                   &#x27;amt&#x27;]),\n",
              "                                                 (&#x27;categoric&#x27;,\n",
              "                                                  Pipeline(steps=[(&#x27;encoder&#x27;,\n",
              "                                                                   CatBoostEncoder())]),\n",
              "                                                  [&#x27;street&#x27;, &#x27;city&#x27;, &#x27;state&#x27;,\n",
              "                                                   &#x27;gender&#x27;, &#x27;merchant&#x27;,\n",
              "                                                   &#x27;category&#x27;, &#x27;job&#x27;])])),\n",
              "                (&#x27;resampler&#x27;, SMOTE()),\n",
              "                (&#x27;model&#x27;,\n",
              "                 LGBMClassifier(colsample_bytree=0.6252792239733316,\n",
              "                                lambda_l1=0.12446683432165574,\n",
              "                                lambda_l2=0.0286524933019746,\n",
              "                                learning_rate=0.02391063426109835, max_depth=3,\n",
              "                                metric=&#x27;binary_logloss&#x27;, min_child_samples=23,\n",
              "                                n_estimators=562, objective=&#x27;binary&#x27;,\n",
              "                                random_state=42, subsample=0.9192948684306037,\n",
              "                                verbose=100, verbosity=-1))])</pre><b>In a Jupyter environment, please rerun this cell to show the HTML representation or trust the notebook. <br />On GitHub, the HTML representation is unable to render, please try loading this page with nbviewer.org.</b></div><div class=\"sk-container\" hidden><div class=\"sk-item sk-dashed-wrapped\"><div class=\"sk-label-container\"><div class=\"sk-label sk-toggleable\"><input class=\"sk-toggleable__control sk-hidden--visually\" id=\"sk-estimator-id-6\" type=\"checkbox\" ><label for=\"sk-estimator-id-6\" class=\"sk-toggleable__label sk-toggleable__label-arrow\">Pipeline</label><div class=\"sk-toggleable__content\"><pre>Pipeline(steps=[(&#x27;preprocessor&#x27;,\n",
              "                 ColumnTransformer(transformers=[(&#x27;numeric&#x27;,\n",
              "                                                  Pipeline(steps=[(&#x27;std_scaler&#x27;,\n",
              "                                                                   StandardScaler())]),\n",
              "                                                  [&#x27;dia_semana&#x27;, &#x27;cc_num&#x27;,\n",
              "                                                   &#x27;city_pop&#x27;, &#x27;unix_time&#x27;,\n",
              "                                                   &#x27;hora&#x27;, &#x27;long&#x27;, &#x27;feriado&#x27;,\n",
              "                                                   &#x27;lat&#x27;, &#x27;idade&#x27;, &#x27;acct_num&#x27;,\n",
              "                                                   &#x27;amt&#x27;]),\n",
              "                                                 (&#x27;categoric&#x27;,\n",
              "                                                  Pipeline(steps=[(&#x27;encoder&#x27;,\n",
              "                                                                   CatBoostEncoder())]),\n",
              "                                                  [&#x27;street&#x27;, &#x27;city&#x27;, &#x27;state&#x27;,\n",
              "                                                   &#x27;gender&#x27;, &#x27;merchant&#x27;,\n",
              "                                                   &#x27;category&#x27;, &#x27;job&#x27;])])),\n",
              "                (&#x27;resampler&#x27;, SMOTE()),\n",
              "                (&#x27;model&#x27;,\n",
              "                 LGBMClassifier(colsample_bytree=0.6252792239733316,\n",
              "                                lambda_l1=0.12446683432165574,\n",
              "                                lambda_l2=0.0286524933019746,\n",
              "                                learning_rate=0.02391063426109835, max_depth=3,\n",
              "                                metric=&#x27;binary_logloss&#x27;, min_child_samples=23,\n",
              "                                n_estimators=562, objective=&#x27;binary&#x27;,\n",
              "                                random_state=42, subsample=0.9192948684306037,\n",
              "                                verbose=100, verbosity=-1))])</pre></div></div></div><div class=\"sk-serial\"><div class=\"sk-item sk-dashed-wrapped\"><div class=\"sk-label-container\"><div class=\"sk-label sk-toggleable\"><input class=\"sk-toggleable__control sk-hidden--visually\" id=\"sk-estimator-id-7\" type=\"checkbox\" ><label for=\"sk-estimator-id-7\" class=\"sk-toggleable__label sk-toggleable__label-arrow\">preprocessor: ColumnTransformer</label><div class=\"sk-toggleable__content\"><pre>ColumnTransformer(transformers=[(&#x27;numeric&#x27;,\n",
              "                                 Pipeline(steps=[(&#x27;std_scaler&#x27;,\n",
              "                                                  StandardScaler())]),\n",
              "                                 [&#x27;dia_semana&#x27;, &#x27;cc_num&#x27;, &#x27;city_pop&#x27;,\n",
              "                                  &#x27;unix_time&#x27;, &#x27;hora&#x27;, &#x27;long&#x27;, &#x27;feriado&#x27;, &#x27;lat&#x27;,\n",
              "                                  &#x27;idade&#x27;, &#x27;acct_num&#x27;, &#x27;amt&#x27;]),\n",
              "                                (&#x27;categoric&#x27;,\n",
              "                                 Pipeline(steps=[(&#x27;encoder&#x27;,\n",
              "                                                  CatBoostEncoder())]),\n",
              "                                 [&#x27;street&#x27;, &#x27;city&#x27;, &#x27;state&#x27;, &#x27;gender&#x27;,\n",
              "                                  &#x27;merchant&#x27;, &#x27;category&#x27;, &#x27;job&#x27;])])</pre></div></div></div><div class=\"sk-parallel\"><div class=\"sk-parallel-item\"><div class=\"sk-item\"><div class=\"sk-label-container\"><div class=\"sk-label sk-toggleable\"><input class=\"sk-toggleable__control sk-hidden--visually\" id=\"sk-estimator-id-8\" type=\"checkbox\" ><label for=\"sk-estimator-id-8\" class=\"sk-toggleable__label sk-toggleable__label-arrow\">numeric</label><div class=\"sk-toggleable__content\"><pre>[&#x27;dia_semana&#x27;, &#x27;cc_num&#x27;, &#x27;city_pop&#x27;, &#x27;unix_time&#x27;, &#x27;hora&#x27;, &#x27;long&#x27;, &#x27;feriado&#x27;, &#x27;lat&#x27;, &#x27;idade&#x27;, &#x27;acct_num&#x27;, &#x27;amt&#x27;]</pre></div></div></div><div class=\"sk-serial\"><div class=\"sk-item\"><div class=\"sk-serial\"><div class=\"sk-item\"><div class=\"sk-estimator sk-toggleable\"><input class=\"sk-toggleable__control sk-hidden--visually\" id=\"sk-estimator-id-9\" type=\"checkbox\" ><label for=\"sk-estimator-id-9\" class=\"sk-toggleable__label sk-toggleable__label-arrow\">StandardScaler</label><div class=\"sk-toggleable__content\"><pre>StandardScaler()</pre></div></div></div></div></div></div></div></div><div class=\"sk-parallel-item\"><div class=\"sk-item\"><div class=\"sk-label-container\"><div class=\"sk-label sk-toggleable\"><input class=\"sk-toggleable__control sk-hidden--visually\" id=\"sk-estimator-id-10\" type=\"checkbox\" ><label for=\"sk-estimator-id-10\" class=\"sk-toggleable__label sk-toggleable__label-arrow\">categoric</label><div class=\"sk-toggleable__content\"><pre>[&#x27;street&#x27;, &#x27;city&#x27;, &#x27;state&#x27;, &#x27;gender&#x27;, &#x27;merchant&#x27;, &#x27;category&#x27;, &#x27;job&#x27;]</pre></div></div></div><div class=\"sk-serial\"><div class=\"sk-item\"><div class=\"sk-serial\"><div class=\"sk-item\"><div class=\"sk-estimator sk-toggleable\"><input class=\"sk-toggleable__control sk-hidden--visually\" id=\"sk-estimator-id-11\" type=\"checkbox\" ><label for=\"sk-estimator-id-11\" class=\"sk-toggleable__label sk-toggleable__label-arrow\">CatBoostEncoder</label><div class=\"sk-toggleable__content\"><pre>CatBoostEncoder()</pre></div></div></div></div></div></div></div></div></div></div><div class=\"sk-item\"><div class=\"sk-estimator sk-toggleable\"><input class=\"sk-toggleable__control sk-hidden--visually\" id=\"sk-estimator-id-12\" type=\"checkbox\" ><label for=\"sk-estimator-id-12\" class=\"sk-toggleable__label sk-toggleable__label-arrow\">SMOTE</label><div class=\"sk-toggleable__content\"><pre>SMOTE()</pre></div></div></div><div class=\"sk-item\"><div class=\"sk-estimator sk-toggleable\"><input class=\"sk-toggleable__control sk-hidden--visually\" id=\"sk-estimator-id-13\" type=\"checkbox\" ><label for=\"sk-estimator-id-13\" class=\"sk-toggleable__label sk-toggleable__label-arrow\">LGBMClassifier</label><div class=\"sk-toggleable__content\"><pre>LGBMClassifier(colsample_bytree=0.6252792239733316,\n",
              "               lambda_l1=0.12446683432165574, lambda_l2=0.0286524933019746,\n",
              "               learning_rate=0.02391063426109835, max_depth=3,\n",
              "               metric=&#x27;binary_logloss&#x27;, min_child_samples=23, n_estimators=562,\n",
              "               objective=&#x27;binary&#x27;, random_state=42,\n",
              "               subsample=0.9192948684306037, verbose=100, verbosity=-1)</pre></div></div></div></div></div></div></div>"
            ]
          },
          "metadata": {},
          "execution_count": 140
        }
      ]
    },
    {
      "cell_type": "code",
      "source": [
        "y_sub = pipeline_final.predict(teste)\n",
        "\n",
        "resposta = pd.DataFrame()\n",
        "\n",
        "resposta['trans_num'] =  teste_sub['trans_num']\n",
        "resposta['is_fraud'] = y_sub\n",
        "resposta.head()"
      ],
      "metadata": {
        "id": "r8S7pG1AoBPK",
        "colab": {
          "base_uri": "https://localhost:8080/",
          "height": 206
        },
        "outputId": "ef02c53d-b44e-4971-86ce-a7fc4f9b3e40"
      },
      "execution_count": null,
      "outputs": [
        {
          "output_type": "execute_result",
          "data": {
            "text/plain": [
              "                          trans_num  is_fraud\n",
              "0  a4194096c6cc870b2e21b2b2f69a7706       0.0\n",
              "1  f12645668a1a5a9f8192687f56095b5a       0.0\n",
              "2  7f8e03dcf31fbbb5a3547ed8c40fa54b       0.0\n",
              "3  5f3cb674358918b82dbb5c12e60615ef       0.0\n",
              "4  a6537f4cfe7b5831fa481d520621b72d       0.0"
            ],
            "text/html": [
              "\n",
              "  <div id=\"df-02317f37-f9f5-4d8e-b100-821ea0a274ea\" class=\"colab-df-container\">\n",
              "    <div>\n",
              "<style scoped>\n",
              "    .dataframe tbody tr th:only-of-type {\n",
              "        vertical-align: middle;\n",
              "    }\n",
              "\n",
              "    .dataframe tbody tr th {\n",
              "        vertical-align: top;\n",
              "    }\n",
              "\n",
              "    .dataframe thead th {\n",
              "        text-align: right;\n",
              "    }\n",
              "</style>\n",
              "<table border=\"1\" class=\"dataframe\">\n",
              "  <thead>\n",
              "    <tr style=\"text-align: right;\">\n",
              "      <th></th>\n",
              "      <th>trans_num</th>\n",
              "      <th>is_fraud</th>\n",
              "    </tr>\n",
              "  </thead>\n",
              "  <tbody>\n",
              "    <tr>\n",
              "      <th>0</th>\n",
              "      <td>a4194096c6cc870b2e21b2b2f69a7706</td>\n",
              "      <td>0.0</td>\n",
              "    </tr>\n",
              "    <tr>\n",
              "      <th>1</th>\n",
              "      <td>f12645668a1a5a9f8192687f56095b5a</td>\n",
              "      <td>0.0</td>\n",
              "    </tr>\n",
              "    <tr>\n",
              "      <th>2</th>\n",
              "      <td>7f8e03dcf31fbbb5a3547ed8c40fa54b</td>\n",
              "      <td>0.0</td>\n",
              "    </tr>\n",
              "    <tr>\n",
              "      <th>3</th>\n",
              "      <td>5f3cb674358918b82dbb5c12e60615ef</td>\n",
              "      <td>0.0</td>\n",
              "    </tr>\n",
              "    <tr>\n",
              "      <th>4</th>\n",
              "      <td>a6537f4cfe7b5831fa481d520621b72d</td>\n",
              "      <td>0.0</td>\n",
              "    </tr>\n",
              "  </tbody>\n",
              "</table>\n",
              "</div>\n",
              "    <div class=\"colab-df-buttons\">\n",
              "\n",
              "  <div class=\"colab-df-container\">\n",
              "    <button class=\"colab-df-convert\" onclick=\"convertToInteractive('df-02317f37-f9f5-4d8e-b100-821ea0a274ea')\"\n",
              "            title=\"Convert this dataframe to an interactive table.\"\n",
              "            style=\"display:none;\">\n",
              "\n",
              "  <svg xmlns=\"http://www.w3.org/2000/svg\" height=\"24px\" viewBox=\"0 -960 960 960\">\n",
              "    <path d=\"M120-120v-720h720v720H120Zm60-500h600v-160H180v160Zm220 220h160v-160H400v160Zm0 220h160v-160H400v160ZM180-400h160v-160H180v160Zm440 0h160v-160H620v160ZM180-180h160v-160H180v160Zm440 0h160v-160H620v160Z\"/>\n",
              "  </svg>\n",
              "    </button>\n",
              "\n",
              "  <style>\n",
              "    .colab-df-container {\n",
              "      display:flex;\n",
              "      gap: 12px;\n",
              "    }\n",
              "\n",
              "    .colab-df-convert {\n",
              "      background-color: #E8F0FE;\n",
              "      border: none;\n",
              "      border-radius: 50%;\n",
              "      cursor: pointer;\n",
              "      display: none;\n",
              "      fill: #1967D2;\n",
              "      height: 32px;\n",
              "      padding: 0 0 0 0;\n",
              "      width: 32px;\n",
              "    }\n",
              "\n",
              "    .colab-df-convert:hover {\n",
              "      background-color: #E2EBFA;\n",
              "      box-shadow: 0px 1px 2px rgba(60, 64, 67, 0.3), 0px 1px 3px 1px rgba(60, 64, 67, 0.15);\n",
              "      fill: #174EA6;\n",
              "    }\n",
              "\n",
              "    .colab-df-buttons div {\n",
              "      margin-bottom: 4px;\n",
              "    }\n",
              "\n",
              "    [theme=dark] .colab-df-convert {\n",
              "      background-color: #3B4455;\n",
              "      fill: #D2E3FC;\n",
              "    }\n",
              "\n",
              "    [theme=dark] .colab-df-convert:hover {\n",
              "      background-color: #434B5C;\n",
              "      box-shadow: 0px 1px 3px 1px rgba(0, 0, 0, 0.15);\n",
              "      filter: drop-shadow(0px 1px 2px rgba(0, 0, 0, 0.3));\n",
              "      fill: #FFFFFF;\n",
              "    }\n",
              "  </style>\n",
              "\n",
              "    <script>\n",
              "      const buttonEl =\n",
              "        document.querySelector('#df-02317f37-f9f5-4d8e-b100-821ea0a274ea button.colab-df-convert');\n",
              "      buttonEl.style.display =\n",
              "        google.colab.kernel.accessAllowed ? 'block' : 'none';\n",
              "\n",
              "      async function convertToInteractive(key) {\n",
              "        const element = document.querySelector('#df-02317f37-f9f5-4d8e-b100-821ea0a274ea');\n",
              "        const dataTable =\n",
              "          await google.colab.kernel.invokeFunction('convertToInteractive',\n",
              "                                                    [key], {});\n",
              "        if (!dataTable) return;\n",
              "\n",
              "        const docLinkHtml = 'Like what you see? Visit the ' +\n",
              "          '<a target=\"_blank\" href=https://colab.research.google.com/notebooks/data_table.ipynb>data table notebook</a>'\n",
              "          + ' to learn more about interactive tables.';\n",
              "        element.innerHTML = '';\n",
              "        dataTable['output_type'] = 'display_data';\n",
              "        await google.colab.output.renderOutput(dataTable, element);\n",
              "        const docLink = document.createElement('div');\n",
              "        docLink.innerHTML = docLinkHtml;\n",
              "        element.appendChild(docLink);\n",
              "      }\n",
              "    </script>\n",
              "  </div>\n",
              "\n",
              "\n",
              "<div id=\"df-6555e682-22d8-4c94-8b51-53b7239d9182\">\n",
              "  <button class=\"colab-df-quickchart\" onclick=\"quickchart('df-6555e682-22d8-4c94-8b51-53b7239d9182')\"\n",
              "            title=\"Suggest charts\"\n",
              "            style=\"display:none;\">\n",
              "\n",
              "<svg xmlns=\"http://www.w3.org/2000/svg\" height=\"24px\"viewBox=\"0 0 24 24\"\n",
              "     width=\"24px\">\n",
              "    <g>\n",
              "        <path d=\"M19 3H5c-1.1 0-2 .9-2 2v14c0 1.1.9 2 2 2h14c1.1 0 2-.9 2-2V5c0-1.1-.9-2-2-2zM9 17H7v-7h2v7zm4 0h-2V7h2v10zm4 0h-2v-4h2v4z\"/>\n",
              "    </g>\n",
              "</svg>\n",
              "  </button>\n",
              "\n",
              "<style>\n",
              "  .colab-df-quickchart {\n",
              "      --bg-color: #E8F0FE;\n",
              "      --fill-color: #1967D2;\n",
              "      --hover-bg-color: #E2EBFA;\n",
              "      --hover-fill-color: #174EA6;\n",
              "      --disabled-fill-color: #AAA;\n",
              "      --disabled-bg-color: #DDD;\n",
              "  }\n",
              "\n",
              "  [theme=dark] .colab-df-quickchart {\n",
              "      --bg-color: #3B4455;\n",
              "      --fill-color: #D2E3FC;\n",
              "      --hover-bg-color: #434B5C;\n",
              "      --hover-fill-color: #FFFFFF;\n",
              "      --disabled-bg-color: #3B4455;\n",
              "      --disabled-fill-color: #666;\n",
              "  }\n",
              "\n",
              "  .colab-df-quickchart {\n",
              "    background-color: var(--bg-color);\n",
              "    border: none;\n",
              "    border-radius: 50%;\n",
              "    cursor: pointer;\n",
              "    display: none;\n",
              "    fill: var(--fill-color);\n",
              "    height: 32px;\n",
              "    padding: 0;\n",
              "    width: 32px;\n",
              "  }\n",
              "\n",
              "  .colab-df-quickchart:hover {\n",
              "    background-color: var(--hover-bg-color);\n",
              "    box-shadow: 0 1px 2px rgba(60, 64, 67, 0.3), 0 1px 3px 1px rgba(60, 64, 67, 0.15);\n",
              "    fill: var(--button-hover-fill-color);\n",
              "  }\n",
              "\n",
              "  .colab-df-quickchart-complete:disabled,\n",
              "  .colab-df-quickchart-complete:disabled:hover {\n",
              "    background-color: var(--disabled-bg-color);\n",
              "    fill: var(--disabled-fill-color);\n",
              "    box-shadow: none;\n",
              "  }\n",
              "\n",
              "  .colab-df-spinner {\n",
              "    border: 2px solid var(--fill-color);\n",
              "    border-color: transparent;\n",
              "    border-bottom-color: var(--fill-color);\n",
              "    animation:\n",
              "      spin 1s steps(1) infinite;\n",
              "  }\n",
              "\n",
              "  @keyframes spin {\n",
              "    0% {\n",
              "      border-color: transparent;\n",
              "      border-bottom-color: var(--fill-color);\n",
              "      border-left-color: var(--fill-color);\n",
              "    }\n",
              "    20% {\n",
              "      border-color: transparent;\n",
              "      border-left-color: var(--fill-color);\n",
              "      border-top-color: var(--fill-color);\n",
              "    }\n",
              "    30% {\n",
              "      border-color: transparent;\n",
              "      border-left-color: var(--fill-color);\n",
              "      border-top-color: var(--fill-color);\n",
              "      border-right-color: var(--fill-color);\n",
              "    }\n",
              "    40% {\n",
              "      border-color: transparent;\n",
              "      border-right-color: var(--fill-color);\n",
              "      border-top-color: var(--fill-color);\n",
              "    }\n",
              "    60% {\n",
              "      border-color: transparent;\n",
              "      border-right-color: var(--fill-color);\n",
              "    }\n",
              "    80% {\n",
              "      border-color: transparent;\n",
              "      border-right-color: var(--fill-color);\n",
              "      border-bottom-color: var(--fill-color);\n",
              "    }\n",
              "    90% {\n",
              "      border-color: transparent;\n",
              "      border-bottom-color: var(--fill-color);\n",
              "    }\n",
              "  }\n",
              "</style>\n",
              "\n",
              "  <script>\n",
              "    async function quickchart(key) {\n",
              "      const quickchartButtonEl =\n",
              "        document.querySelector('#' + key + ' button');\n",
              "      quickchartButtonEl.disabled = true;  // To prevent multiple clicks.\n",
              "      quickchartButtonEl.classList.add('colab-df-spinner');\n",
              "      try {\n",
              "        const charts = await google.colab.kernel.invokeFunction(\n",
              "            'suggestCharts', [key], {});\n",
              "      } catch (error) {\n",
              "        console.error('Error during call to suggestCharts:', error);\n",
              "      }\n",
              "      quickchartButtonEl.classList.remove('colab-df-spinner');\n",
              "      quickchartButtonEl.classList.add('colab-df-quickchart-complete');\n",
              "    }\n",
              "    (() => {\n",
              "      let quickchartButtonEl =\n",
              "        document.querySelector('#df-6555e682-22d8-4c94-8b51-53b7239d9182 button');\n",
              "      quickchartButtonEl.style.display =\n",
              "        google.colab.kernel.accessAllowed ? 'block' : 'none';\n",
              "    })();\n",
              "  </script>\n",
              "</div>\n",
              "\n",
              "    </div>\n",
              "  </div>\n"
            ],
            "application/vnd.google.colaboratory.intrinsic+json": {
              "type": "dataframe",
              "variable_name": "resposta",
              "summary": "{\n  \"name\": \"resposta\",\n  \"rows\": 36047,\n  \"fields\": [\n    {\n      \"column\": \"trans_num\",\n      \"properties\": {\n        \"dtype\": \"string\",\n        \"num_unique_values\": 36047,\n        \"samples\": [\n          \"b2748c2b628cddd3ef9e635da615140b\",\n          \"c72eef1f9191894d10d0d2faae0a4ef2\",\n          \"0af16a3c8e384477246d20a01e3b3620\"\n        ],\n        \"semantic_type\": \"\",\n        \"description\": \"\"\n      }\n    },\n    {\n      \"column\": \"is_fraud\",\n      \"properties\": {\n        \"dtype\": \"number\",\n        \"std\": 0.1982976296403828,\n        \"min\": 0.0,\n        \"max\": 1.0,\n        \"num_unique_values\": 2,\n        \"samples\": [\n          1.0,\n          0.0\n        ],\n        \"semantic_type\": \"\",\n        \"description\": \"\"\n      }\n    }\n  ]\n}"
            }
          },
          "metadata": {},
          "execution_count": 141
        }
      ]
    },
    {
      "cell_type": "code",
      "source": [
        "resposta.to_csv('submissao.csv',index=False)"
      ],
      "metadata": {
        "id": "8OpLANAepYJT"
      },
      "execution_count": null,
      "outputs": []
    },
    {
      "cell_type": "markdown",
      "source": [
        "Este modelo obteve um score de 0.90 quando enviado para o Kaggle."
      ],
      "metadata": {
        "id": "74AVel050JJp"
      }
    },
    {
      "cell_type": "markdown",
      "source": [
        "## Submissão Rede Neural Profunda"
      ],
      "metadata": {
        "id": "ZX4hbtHFe3oO"
      }
    },
    {
      "cell_type": "code",
      "source": [
        "from sklearn.base import BaseEstimator, TransformerMixin\n",
        "\n",
        "class BinaryPredictor(BaseEstimator, TransformerMixin):\n",
        "    def __init__(self, model, threshold=0.5):\n",
        "        self.model = model\n",
        "        self.threshold = threshold\n",
        "\n",
        "    def fit(self, X, y=None):\n",
        "        return self\n",
        "\n",
        "    def predict(self, X):\n",
        "        probabilities = self.model.predict(X)\n",
        "        return (probabilities >= self.threshold).astype(int)\n",
        "pipeline_final = PipelineIMB([('preprocessor', preprocessor),\n",
        "                              ('resampler', SMOTE()),\n",
        "                              ('model', BinaryPredictor(modelo_dnn))])\n",
        "y_sub = pipeline_final.predict(teste)\n",
        "resposta = pd.DataFrame()\n",
        "resposta['trans_num'] = teste_sub['trans_num']\n",
        "resposta['is_fraud'] = y_sub\n",
        "resposta.head()"
      ],
      "metadata": {
        "id": "J5PGLiV2sFIJ",
        "colab": {
          "base_uri": "https://localhost:8080/",
          "height": 224
        },
        "outputId": "93ccd3be-b6b5-4590-ed04-c1776051962d"
      },
      "execution_count": null,
      "outputs": [
        {
          "output_type": "stream",
          "name": "stdout",
          "text": [
            "1127/1127 [==============================] - 2s 2ms/step\n"
          ]
        },
        {
          "output_type": "execute_result",
          "data": {
            "text/plain": [
              "                          trans_num  is_fraud\n",
              "0  a4194096c6cc870b2e21b2b2f69a7706         0\n",
              "1  f12645668a1a5a9f8192687f56095b5a         0\n",
              "2  7f8e03dcf31fbbb5a3547ed8c40fa54b         0\n",
              "3  5f3cb674358918b82dbb5c12e60615ef         0\n",
              "4  a6537f4cfe7b5831fa481d520621b72d         0"
            ],
            "text/html": [
              "\n",
              "  <div id=\"df-e1b58342-426b-4eec-91b7-fabd34e55fa6\" class=\"colab-df-container\">\n",
              "    <div>\n",
              "<style scoped>\n",
              "    .dataframe tbody tr th:only-of-type {\n",
              "        vertical-align: middle;\n",
              "    }\n",
              "\n",
              "    .dataframe tbody tr th {\n",
              "        vertical-align: top;\n",
              "    }\n",
              "\n",
              "    .dataframe thead th {\n",
              "        text-align: right;\n",
              "    }\n",
              "</style>\n",
              "<table border=\"1\" class=\"dataframe\">\n",
              "  <thead>\n",
              "    <tr style=\"text-align: right;\">\n",
              "      <th></th>\n",
              "      <th>trans_num</th>\n",
              "      <th>is_fraud</th>\n",
              "    </tr>\n",
              "  </thead>\n",
              "  <tbody>\n",
              "    <tr>\n",
              "      <th>0</th>\n",
              "      <td>a4194096c6cc870b2e21b2b2f69a7706</td>\n",
              "      <td>0</td>\n",
              "    </tr>\n",
              "    <tr>\n",
              "      <th>1</th>\n",
              "      <td>f12645668a1a5a9f8192687f56095b5a</td>\n",
              "      <td>0</td>\n",
              "    </tr>\n",
              "    <tr>\n",
              "      <th>2</th>\n",
              "      <td>7f8e03dcf31fbbb5a3547ed8c40fa54b</td>\n",
              "      <td>0</td>\n",
              "    </tr>\n",
              "    <tr>\n",
              "      <th>3</th>\n",
              "      <td>5f3cb674358918b82dbb5c12e60615ef</td>\n",
              "      <td>0</td>\n",
              "    </tr>\n",
              "    <tr>\n",
              "      <th>4</th>\n",
              "      <td>a6537f4cfe7b5831fa481d520621b72d</td>\n",
              "      <td>0</td>\n",
              "    </tr>\n",
              "  </tbody>\n",
              "</table>\n",
              "</div>\n",
              "    <div class=\"colab-df-buttons\">\n",
              "\n",
              "  <div class=\"colab-df-container\">\n",
              "    <button class=\"colab-df-convert\" onclick=\"convertToInteractive('df-e1b58342-426b-4eec-91b7-fabd34e55fa6')\"\n",
              "            title=\"Convert this dataframe to an interactive table.\"\n",
              "            style=\"display:none;\">\n",
              "\n",
              "  <svg xmlns=\"http://www.w3.org/2000/svg\" height=\"24px\" viewBox=\"0 -960 960 960\">\n",
              "    <path d=\"M120-120v-720h720v720H120Zm60-500h600v-160H180v160Zm220 220h160v-160H400v160Zm0 220h160v-160H400v160ZM180-400h160v-160H180v160Zm440 0h160v-160H620v160ZM180-180h160v-160H180v160Zm440 0h160v-160H620v160Z\"/>\n",
              "  </svg>\n",
              "    </button>\n",
              "\n",
              "  <style>\n",
              "    .colab-df-container {\n",
              "      display:flex;\n",
              "      gap: 12px;\n",
              "    }\n",
              "\n",
              "    .colab-df-convert {\n",
              "      background-color: #E8F0FE;\n",
              "      border: none;\n",
              "      border-radius: 50%;\n",
              "      cursor: pointer;\n",
              "      display: none;\n",
              "      fill: #1967D2;\n",
              "      height: 32px;\n",
              "      padding: 0 0 0 0;\n",
              "      width: 32px;\n",
              "    }\n",
              "\n",
              "    .colab-df-convert:hover {\n",
              "      background-color: #E2EBFA;\n",
              "      box-shadow: 0px 1px 2px rgba(60, 64, 67, 0.3), 0px 1px 3px 1px rgba(60, 64, 67, 0.15);\n",
              "      fill: #174EA6;\n",
              "    }\n",
              "\n",
              "    .colab-df-buttons div {\n",
              "      margin-bottom: 4px;\n",
              "    }\n",
              "\n",
              "    [theme=dark] .colab-df-convert {\n",
              "      background-color: #3B4455;\n",
              "      fill: #D2E3FC;\n",
              "    }\n",
              "\n",
              "    [theme=dark] .colab-df-convert:hover {\n",
              "      background-color: #434B5C;\n",
              "      box-shadow: 0px 1px 3px 1px rgba(0, 0, 0, 0.15);\n",
              "      filter: drop-shadow(0px 1px 2px rgba(0, 0, 0, 0.3));\n",
              "      fill: #FFFFFF;\n",
              "    }\n",
              "  </style>\n",
              "\n",
              "    <script>\n",
              "      const buttonEl =\n",
              "        document.querySelector('#df-e1b58342-426b-4eec-91b7-fabd34e55fa6 button.colab-df-convert');\n",
              "      buttonEl.style.display =\n",
              "        google.colab.kernel.accessAllowed ? 'block' : 'none';\n",
              "\n",
              "      async function convertToInteractive(key) {\n",
              "        const element = document.querySelector('#df-e1b58342-426b-4eec-91b7-fabd34e55fa6');\n",
              "        const dataTable =\n",
              "          await google.colab.kernel.invokeFunction('convertToInteractive',\n",
              "                                                    [key], {});\n",
              "        if (!dataTable) return;\n",
              "\n",
              "        const docLinkHtml = 'Like what you see? Visit the ' +\n",
              "          '<a target=\"_blank\" href=https://colab.research.google.com/notebooks/data_table.ipynb>data table notebook</a>'\n",
              "          + ' to learn more about interactive tables.';\n",
              "        element.innerHTML = '';\n",
              "        dataTable['output_type'] = 'display_data';\n",
              "        await google.colab.output.renderOutput(dataTable, element);\n",
              "        const docLink = document.createElement('div');\n",
              "        docLink.innerHTML = docLinkHtml;\n",
              "        element.appendChild(docLink);\n",
              "      }\n",
              "    </script>\n",
              "  </div>\n",
              "\n",
              "\n",
              "<div id=\"df-888b3a6a-9831-4e28-b215-105df79e284f\">\n",
              "  <button class=\"colab-df-quickchart\" onclick=\"quickchart('df-888b3a6a-9831-4e28-b215-105df79e284f')\"\n",
              "            title=\"Suggest charts\"\n",
              "            style=\"display:none;\">\n",
              "\n",
              "<svg xmlns=\"http://www.w3.org/2000/svg\" height=\"24px\"viewBox=\"0 0 24 24\"\n",
              "     width=\"24px\">\n",
              "    <g>\n",
              "        <path d=\"M19 3H5c-1.1 0-2 .9-2 2v14c0 1.1.9 2 2 2h14c1.1 0 2-.9 2-2V5c0-1.1-.9-2-2-2zM9 17H7v-7h2v7zm4 0h-2V7h2v10zm4 0h-2v-4h2v4z\"/>\n",
              "    </g>\n",
              "</svg>\n",
              "  </button>\n",
              "\n",
              "<style>\n",
              "  .colab-df-quickchart {\n",
              "      --bg-color: #E8F0FE;\n",
              "      --fill-color: #1967D2;\n",
              "      --hover-bg-color: #E2EBFA;\n",
              "      --hover-fill-color: #174EA6;\n",
              "      --disabled-fill-color: #AAA;\n",
              "      --disabled-bg-color: #DDD;\n",
              "  }\n",
              "\n",
              "  [theme=dark] .colab-df-quickchart {\n",
              "      --bg-color: #3B4455;\n",
              "      --fill-color: #D2E3FC;\n",
              "      --hover-bg-color: #434B5C;\n",
              "      --hover-fill-color: #FFFFFF;\n",
              "      --disabled-bg-color: #3B4455;\n",
              "      --disabled-fill-color: #666;\n",
              "  }\n",
              "\n",
              "  .colab-df-quickchart {\n",
              "    background-color: var(--bg-color);\n",
              "    border: none;\n",
              "    border-radius: 50%;\n",
              "    cursor: pointer;\n",
              "    display: none;\n",
              "    fill: var(--fill-color);\n",
              "    height: 32px;\n",
              "    padding: 0;\n",
              "    width: 32px;\n",
              "  }\n",
              "\n",
              "  .colab-df-quickchart:hover {\n",
              "    background-color: var(--hover-bg-color);\n",
              "    box-shadow: 0 1px 2px rgba(60, 64, 67, 0.3), 0 1px 3px 1px rgba(60, 64, 67, 0.15);\n",
              "    fill: var(--button-hover-fill-color);\n",
              "  }\n",
              "\n",
              "  .colab-df-quickchart-complete:disabled,\n",
              "  .colab-df-quickchart-complete:disabled:hover {\n",
              "    background-color: var(--disabled-bg-color);\n",
              "    fill: var(--disabled-fill-color);\n",
              "    box-shadow: none;\n",
              "  }\n",
              "\n",
              "  .colab-df-spinner {\n",
              "    border: 2px solid var(--fill-color);\n",
              "    border-color: transparent;\n",
              "    border-bottom-color: var(--fill-color);\n",
              "    animation:\n",
              "      spin 1s steps(1) infinite;\n",
              "  }\n",
              "\n",
              "  @keyframes spin {\n",
              "    0% {\n",
              "      border-color: transparent;\n",
              "      border-bottom-color: var(--fill-color);\n",
              "      border-left-color: var(--fill-color);\n",
              "    }\n",
              "    20% {\n",
              "      border-color: transparent;\n",
              "      border-left-color: var(--fill-color);\n",
              "      border-top-color: var(--fill-color);\n",
              "    }\n",
              "    30% {\n",
              "      border-color: transparent;\n",
              "      border-left-color: var(--fill-color);\n",
              "      border-top-color: var(--fill-color);\n",
              "      border-right-color: var(--fill-color);\n",
              "    }\n",
              "    40% {\n",
              "      border-color: transparent;\n",
              "      border-right-color: var(--fill-color);\n",
              "      border-top-color: var(--fill-color);\n",
              "    }\n",
              "    60% {\n",
              "      border-color: transparent;\n",
              "      border-right-color: var(--fill-color);\n",
              "    }\n",
              "    80% {\n",
              "      border-color: transparent;\n",
              "      border-right-color: var(--fill-color);\n",
              "      border-bottom-color: var(--fill-color);\n",
              "    }\n",
              "    90% {\n",
              "      border-color: transparent;\n",
              "      border-bottom-color: var(--fill-color);\n",
              "    }\n",
              "  }\n",
              "</style>\n",
              "\n",
              "  <script>\n",
              "    async function quickchart(key) {\n",
              "      const quickchartButtonEl =\n",
              "        document.querySelector('#' + key + ' button');\n",
              "      quickchartButtonEl.disabled = true;  // To prevent multiple clicks.\n",
              "      quickchartButtonEl.classList.add('colab-df-spinner');\n",
              "      try {\n",
              "        const charts = await google.colab.kernel.invokeFunction(\n",
              "            'suggestCharts', [key], {});\n",
              "      } catch (error) {\n",
              "        console.error('Error during call to suggestCharts:', error);\n",
              "      }\n",
              "      quickchartButtonEl.classList.remove('colab-df-spinner');\n",
              "      quickchartButtonEl.classList.add('colab-df-quickchart-complete');\n",
              "    }\n",
              "    (() => {\n",
              "      let quickchartButtonEl =\n",
              "        document.querySelector('#df-888b3a6a-9831-4e28-b215-105df79e284f button');\n",
              "      quickchartButtonEl.style.display =\n",
              "        google.colab.kernel.accessAllowed ? 'block' : 'none';\n",
              "    })();\n",
              "  </script>\n",
              "</div>\n",
              "\n",
              "    </div>\n",
              "  </div>\n"
            ],
            "application/vnd.google.colaboratory.intrinsic+json": {
              "type": "dataframe",
              "variable_name": "resposta",
              "summary": "{\n  \"name\": \"resposta\",\n  \"rows\": 36047,\n  \"fields\": [\n    {\n      \"column\": \"trans_num\",\n      \"properties\": {\n        \"dtype\": \"string\",\n        \"num_unique_values\": 36047,\n        \"samples\": [\n          \"b2748c2b628cddd3ef9e635da615140b\",\n          \"c72eef1f9191894d10d0d2faae0a4ef2\",\n          \"0af16a3c8e384477246d20a01e3b3620\"\n        ],\n        \"semantic_type\": \"\",\n        \"description\": \"\"\n      }\n    },\n    {\n      \"column\": \"is_fraud\",\n      \"properties\": {\n        \"dtype\": \"number\",\n        \"std\": 0,\n        \"min\": 0,\n        \"max\": 1,\n        \"num_unique_values\": 2,\n        \"samples\": [\n          1,\n          0\n        ],\n        \"semantic_type\": \"\",\n        \"description\": \"\"\n      }\n    }\n  ]\n}"
            }
          },
          "metadata": {},
          "execution_count": 158
        }
      ]
    },
    {
      "cell_type": "code",
      "source": [
        "pipeline_final"
      ],
      "metadata": {
        "colab": {
          "base_uri": "https://localhost:8080/",
          "height": 227
        },
        "id": "wfR-AA5UsNMF",
        "outputId": "edd8225b-f82d-4450-aafb-205fbc80a457"
      },
      "execution_count": null,
      "outputs": [
        {
          "output_type": "execute_result",
          "data": {
            "text/plain": [
              "Pipeline(steps=[('preprocessor',\n",
              "                 ColumnTransformer(transformers=[('numeric',\n",
              "                                                  Pipeline(steps=[('std_scaler',\n",
              "                                                                   StandardScaler())]),\n",
              "                                                  ['dia_semana', 'cc_num',\n",
              "                                                   'city_pop', 'unix_time',\n",
              "                                                   'hora', 'long', 'feriado',\n",
              "                                                   'lat', 'idade', 'acct_num',\n",
              "                                                   'amt']),\n",
              "                                                 ('categoric',\n",
              "                                                  Pipeline(steps=[('encoder',\n",
              "                                                                   CatBoostEncoder())]),\n",
              "                                                  ['street', 'city', 'state',\n",
              "                                                   'gender', 'merchant',\n",
              "                                                   'category', 'job'])])),\n",
              "                ('resampler', SMOTE()),\n",
              "                ('model',\n",
              "                 BinaryPredictor(model=<keras.src.engine.sequential.Sequential object at 0x7f1b7a9e0dc0>))])"
            ],
            "text/html": [
              "<style>#sk-container-id-4 {color: black;background-color: white;}#sk-container-id-4 pre{padding: 0;}#sk-container-id-4 div.sk-toggleable {background-color: white;}#sk-container-id-4 label.sk-toggleable__label {cursor: pointer;display: block;width: 100%;margin-bottom: 0;padding: 0.3em;box-sizing: border-box;text-align: center;}#sk-container-id-4 label.sk-toggleable__label-arrow:before {content: \"▸\";float: left;margin-right: 0.25em;color: #696969;}#sk-container-id-4 label.sk-toggleable__label-arrow:hover:before {color: black;}#sk-container-id-4 div.sk-estimator:hover label.sk-toggleable__label-arrow:before {color: black;}#sk-container-id-4 div.sk-toggleable__content {max-height: 0;max-width: 0;overflow: hidden;text-align: left;background-color: #f0f8ff;}#sk-container-id-4 div.sk-toggleable__content pre {margin: 0.2em;color: black;border-radius: 0.25em;background-color: #f0f8ff;}#sk-container-id-4 input.sk-toggleable__control:checked~div.sk-toggleable__content {max-height: 200px;max-width: 100%;overflow: auto;}#sk-container-id-4 input.sk-toggleable__control:checked~label.sk-toggleable__label-arrow:before {content: \"▾\";}#sk-container-id-4 div.sk-estimator input.sk-toggleable__control:checked~label.sk-toggleable__label {background-color: #d4ebff;}#sk-container-id-4 div.sk-label input.sk-toggleable__control:checked~label.sk-toggleable__label {background-color: #d4ebff;}#sk-container-id-4 input.sk-hidden--visually {border: 0;clip: rect(1px 1px 1px 1px);clip: rect(1px, 1px, 1px, 1px);height: 1px;margin: -1px;overflow: hidden;padding: 0;position: absolute;width: 1px;}#sk-container-id-4 div.sk-estimator {font-family: monospace;background-color: #f0f8ff;border: 1px dotted black;border-radius: 0.25em;box-sizing: border-box;margin-bottom: 0.5em;}#sk-container-id-4 div.sk-estimator:hover {background-color: #d4ebff;}#sk-container-id-4 div.sk-parallel-item::after {content: \"\";width: 100%;border-bottom: 1px solid gray;flex-grow: 1;}#sk-container-id-4 div.sk-label:hover label.sk-toggleable__label {background-color: #d4ebff;}#sk-container-id-4 div.sk-serial::before {content: \"\";position: absolute;border-left: 1px solid gray;box-sizing: border-box;top: 0;bottom: 0;left: 50%;z-index: 0;}#sk-container-id-4 div.sk-serial {display: flex;flex-direction: column;align-items: center;background-color: white;padding-right: 0.2em;padding-left: 0.2em;position: relative;}#sk-container-id-4 div.sk-item {position: relative;z-index: 1;}#sk-container-id-4 div.sk-parallel {display: flex;align-items: stretch;justify-content: center;background-color: white;position: relative;}#sk-container-id-4 div.sk-item::before, #sk-container-id-4 div.sk-parallel-item::before {content: \"\";position: absolute;border-left: 1px solid gray;box-sizing: border-box;top: 0;bottom: 0;left: 50%;z-index: -1;}#sk-container-id-4 div.sk-parallel-item {display: flex;flex-direction: column;z-index: 1;position: relative;background-color: white;}#sk-container-id-4 div.sk-parallel-item:first-child::after {align-self: flex-end;width: 50%;}#sk-container-id-4 div.sk-parallel-item:last-child::after {align-self: flex-start;width: 50%;}#sk-container-id-4 div.sk-parallel-item:only-child::after {width: 0;}#sk-container-id-4 div.sk-dashed-wrapped {border: 1px dashed gray;margin: 0 0.4em 0.5em 0.4em;box-sizing: border-box;padding-bottom: 0.4em;background-color: white;}#sk-container-id-4 div.sk-label label {font-family: monospace;font-weight: bold;display: inline-block;line-height: 1.2em;}#sk-container-id-4 div.sk-label-container {text-align: center;}#sk-container-id-4 div.sk-container {/* jupyter's `normalize.less` sets `[hidden] { display: none; }` but bootstrap.min.css set `[hidden] { display: none !important; }` so we also need the `!important` here to be able to override the default hidden behavior on the sphinx rendered scikit-learn.org. See: https://github.com/scikit-learn/scikit-learn/issues/21755 */display: inline-block !important;position: relative;}#sk-container-id-4 div.sk-text-repr-fallback {display: none;}</style><div id=\"sk-container-id-4\" class=\"sk-top-container\"><div class=\"sk-text-repr-fallback\"><pre>Pipeline(steps=[(&#x27;preprocessor&#x27;,\n",
              "                 ColumnTransformer(transformers=[(&#x27;numeric&#x27;,\n",
              "                                                  Pipeline(steps=[(&#x27;std_scaler&#x27;,\n",
              "                                                                   StandardScaler())]),\n",
              "                                                  [&#x27;dia_semana&#x27;, &#x27;cc_num&#x27;,\n",
              "                                                   &#x27;city_pop&#x27;, &#x27;unix_time&#x27;,\n",
              "                                                   &#x27;hora&#x27;, &#x27;long&#x27;, &#x27;feriado&#x27;,\n",
              "                                                   &#x27;lat&#x27;, &#x27;idade&#x27;, &#x27;acct_num&#x27;,\n",
              "                                                   &#x27;amt&#x27;]),\n",
              "                                                 (&#x27;categoric&#x27;,\n",
              "                                                  Pipeline(steps=[(&#x27;encoder&#x27;,\n",
              "                                                                   CatBoostEncoder())]),\n",
              "                                                  [&#x27;street&#x27;, &#x27;city&#x27;, &#x27;state&#x27;,\n",
              "                                                   &#x27;gender&#x27;, &#x27;merchant&#x27;,\n",
              "                                                   &#x27;category&#x27;, &#x27;job&#x27;])])),\n",
              "                (&#x27;resampler&#x27;, SMOTE()),\n",
              "                (&#x27;model&#x27;,\n",
              "                 BinaryPredictor(model=&lt;keras.src.engine.sequential.Sequential object at 0x7f1b7a9e0dc0&gt;))])</pre><b>In a Jupyter environment, please rerun this cell to show the HTML representation or trust the notebook. <br />On GitHub, the HTML representation is unable to render, please try loading this page with nbviewer.org.</b></div><div class=\"sk-container\" hidden><div class=\"sk-item sk-dashed-wrapped\"><div class=\"sk-label-container\"><div class=\"sk-label sk-toggleable\"><input class=\"sk-toggleable__control sk-hidden--visually\" id=\"sk-estimator-id-22\" type=\"checkbox\" ><label for=\"sk-estimator-id-22\" class=\"sk-toggleable__label sk-toggleable__label-arrow\">Pipeline</label><div class=\"sk-toggleable__content\"><pre>Pipeline(steps=[(&#x27;preprocessor&#x27;,\n",
              "                 ColumnTransformer(transformers=[(&#x27;numeric&#x27;,\n",
              "                                                  Pipeline(steps=[(&#x27;std_scaler&#x27;,\n",
              "                                                                   StandardScaler())]),\n",
              "                                                  [&#x27;dia_semana&#x27;, &#x27;cc_num&#x27;,\n",
              "                                                   &#x27;city_pop&#x27;, &#x27;unix_time&#x27;,\n",
              "                                                   &#x27;hora&#x27;, &#x27;long&#x27;, &#x27;feriado&#x27;,\n",
              "                                                   &#x27;lat&#x27;, &#x27;idade&#x27;, &#x27;acct_num&#x27;,\n",
              "                                                   &#x27;amt&#x27;]),\n",
              "                                                 (&#x27;categoric&#x27;,\n",
              "                                                  Pipeline(steps=[(&#x27;encoder&#x27;,\n",
              "                                                                   CatBoostEncoder())]),\n",
              "                                                  [&#x27;street&#x27;, &#x27;city&#x27;, &#x27;state&#x27;,\n",
              "                                                   &#x27;gender&#x27;, &#x27;merchant&#x27;,\n",
              "                                                   &#x27;category&#x27;, &#x27;job&#x27;])])),\n",
              "                (&#x27;resampler&#x27;, SMOTE()),\n",
              "                (&#x27;model&#x27;,\n",
              "                 BinaryPredictor(model=&lt;keras.src.engine.sequential.Sequential object at 0x7f1b7a9e0dc0&gt;))])</pre></div></div></div><div class=\"sk-serial\"><div class=\"sk-item sk-dashed-wrapped\"><div class=\"sk-label-container\"><div class=\"sk-label sk-toggleable\"><input class=\"sk-toggleable__control sk-hidden--visually\" id=\"sk-estimator-id-23\" type=\"checkbox\" ><label for=\"sk-estimator-id-23\" class=\"sk-toggleable__label sk-toggleable__label-arrow\">preprocessor: ColumnTransformer</label><div class=\"sk-toggleable__content\"><pre>ColumnTransformer(transformers=[(&#x27;numeric&#x27;,\n",
              "                                 Pipeline(steps=[(&#x27;std_scaler&#x27;,\n",
              "                                                  StandardScaler())]),\n",
              "                                 [&#x27;dia_semana&#x27;, &#x27;cc_num&#x27;, &#x27;city_pop&#x27;,\n",
              "                                  &#x27;unix_time&#x27;, &#x27;hora&#x27;, &#x27;long&#x27;, &#x27;feriado&#x27;, &#x27;lat&#x27;,\n",
              "                                  &#x27;idade&#x27;, &#x27;acct_num&#x27;, &#x27;amt&#x27;]),\n",
              "                                (&#x27;categoric&#x27;,\n",
              "                                 Pipeline(steps=[(&#x27;encoder&#x27;,\n",
              "                                                  CatBoostEncoder())]),\n",
              "                                 [&#x27;street&#x27;, &#x27;city&#x27;, &#x27;state&#x27;, &#x27;gender&#x27;,\n",
              "                                  &#x27;merchant&#x27;, &#x27;category&#x27;, &#x27;job&#x27;])])</pre></div></div></div><div class=\"sk-parallel\"><div class=\"sk-parallel-item\"><div class=\"sk-item\"><div class=\"sk-label-container\"><div class=\"sk-label sk-toggleable\"><input class=\"sk-toggleable__control sk-hidden--visually\" id=\"sk-estimator-id-24\" type=\"checkbox\" ><label for=\"sk-estimator-id-24\" class=\"sk-toggleable__label sk-toggleable__label-arrow\">numeric</label><div class=\"sk-toggleable__content\"><pre>[&#x27;dia_semana&#x27;, &#x27;cc_num&#x27;, &#x27;city_pop&#x27;, &#x27;unix_time&#x27;, &#x27;hora&#x27;, &#x27;long&#x27;, &#x27;feriado&#x27;, &#x27;lat&#x27;, &#x27;idade&#x27;, &#x27;acct_num&#x27;, &#x27;amt&#x27;]</pre></div></div></div><div class=\"sk-serial\"><div class=\"sk-item\"><div class=\"sk-serial\"><div class=\"sk-item\"><div class=\"sk-estimator sk-toggleable\"><input class=\"sk-toggleable__control sk-hidden--visually\" id=\"sk-estimator-id-25\" type=\"checkbox\" ><label for=\"sk-estimator-id-25\" class=\"sk-toggleable__label sk-toggleable__label-arrow\">StandardScaler</label><div class=\"sk-toggleable__content\"><pre>StandardScaler()</pre></div></div></div></div></div></div></div></div><div class=\"sk-parallel-item\"><div class=\"sk-item\"><div class=\"sk-label-container\"><div class=\"sk-label sk-toggleable\"><input class=\"sk-toggleable__control sk-hidden--visually\" id=\"sk-estimator-id-26\" type=\"checkbox\" ><label for=\"sk-estimator-id-26\" class=\"sk-toggleable__label sk-toggleable__label-arrow\">categoric</label><div class=\"sk-toggleable__content\"><pre>[&#x27;street&#x27;, &#x27;city&#x27;, &#x27;state&#x27;, &#x27;gender&#x27;, &#x27;merchant&#x27;, &#x27;category&#x27;, &#x27;job&#x27;]</pre></div></div></div><div class=\"sk-serial\"><div class=\"sk-item\"><div class=\"sk-serial\"><div class=\"sk-item\"><div class=\"sk-estimator sk-toggleable\"><input class=\"sk-toggleable__control sk-hidden--visually\" id=\"sk-estimator-id-27\" type=\"checkbox\" ><label for=\"sk-estimator-id-27\" class=\"sk-toggleable__label sk-toggleable__label-arrow\">CatBoostEncoder</label><div class=\"sk-toggleable__content\"><pre>CatBoostEncoder()</pre></div></div></div></div></div></div></div></div></div></div><div class=\"sk-item\"><div class=\"sk-estimator sk-toggleable\"><input class=\"sk-toggleable__control sk-hidden--visually\" id=\"sk-estimator-id-28\" type=\"checkbox\" ><label for=\"sk-estimator-id-28\" class=\"sk-toggleable__label sk-toggleable__label-arrow\">SMOTE</label><div class=\"sk-toggleable__content\"><pre>SMOTE()</pre></div></div></div><div class=\"sk-item\"><div class=\"sk-estimator sk-toggleable\"><input class=\"sk-toggleable__control sk-hidden--visually\" id=\"sk-estimator-id-29\" type=\"checkbox\" ><label for=\"sk-estimator-id-29\" class=\"sk-toggleable__label sk-toggleable__label-arrow\">BinaryPredictor</label><div class=\"sk-toggleable__content\"><pre>BinaryPredictor(model=&lt;keras.src.engine.sequential.Sequential object at 0x7f1b7a9e0dc0&gt;)</pre></div></div></div></div></div></div></div>"
            ]
          },
          "metadata": {},
          "execution_count": 159
        }
      ]
    },
    {
      "cell_type": "code",
      "source": [
        "resposta.to_csv('submissao.csv',index=False)"
      ],
      "metadata": {
        "id": "RtTM9KGisUyT"
      },
      "execution_count": null,
      "outputs": []
    },
    {
      "cell_type": "markdown",
      "source": [
        "Este modelo obteve um score de 0.94 quando enviado para o Kaggle."
      ],
      "metadata": {
        "id": "WDJVo6pX0MWp"
      }
    },
    {
      "cell_type": "markdown",
      "source": [
        "# Próximo passo"
      ],
      "metadata": {
        "id": "z6ZgjreP4RxL"
      }
    },
    {
      "cell_type": "markdown",
      "source": [
        "O próximo passo será o deploy do modelo via streamlit."
      ],
      "metadata": {
        "id": "CIeyNXoT4TlM"
      }
    }
  ],
  "metadata": {
    "colab": {
      "provenance": []
    },
    "kernelspec": {
      "display_name": "Python 3",
      "name": "python3"
    },
    "language_info": {
      "name": "python"
    }
  },
  "nbformat": 4,
  "nbformat_minor": 0
}